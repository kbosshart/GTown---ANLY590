{
  "nbformat": 4,
  "nbformat_minor": 0,
  "metadata": {
    "colab": {
      "name": "ANLY590 HW3_keb289.ipynb",
      "provenance": [],
      "collapsed_sections": []
    },
    "kernelspec": {
      "name": "python3",
      "display_name": "Python 3"
    }
  },
  "cells": [
    {
      "cell_type": "markdown",
      "metadata": {
        "id": "fj6oT6AEM4f2",
        "colab_type": "text"
      },
      "source": [
        "#**ANLY590 Homework 3** \n",
        "**Kate Bosshart (keb289@georgetown.edu) | Due 06DEC2019**\n",
        "\n",
        "---\n",
        "---"
      ]
    },
    {
      "cell_type": "code",
      "metadata": {
        "id": "N3ZRLQOiK74Y",
        "colab_type": "code",
        "colab": {
          "base_uri": "https://localhost:8080/",
          "height": 374
        },
        "outputId": "3d8df1e5-4c68-408b-bf06-74dfc45f8434"
      },
      "source": [
        "!pip install tensorflow==1.7\n",
        "!pip install tensorflow_hub"
      ],
      "execution_count": 1,
      "outputs": [
        {
          "output_type": "stream",
          "text": [
            "Requirement already satisfied: tensorflow==1.7 in /usr/local/lib/python3.6/dist-packages (1.7.0)\n",
            "Requirement already satisfied: wheel>=0.26 in /usr/local/lib/python3.6/dist-packages (from tensorflow==1.7) (0.33.6)\n",
            "Requirement already satisfied: gast>=0.2.0 in /usr/local/lib/python3.6/dist-packages (from tensorflow==1.7) (0.2.2)\n",
            "Requirement already satisfied: termcolor>=1.1.0 in /usr/local/lib/python3.6/dist-packages (from tensorflow==1.7) (1.1.0)\n",
            "Requirement already satisfied: six>=1.10.0 in /usr/local/lib/python3.6/dist-packages (from tensorflow==1.7) (1.12.0)\n",
            "Requirement already satisfied: protobuf>=3.4.0 in /usr/local/lib/python3.6/dist-packages (from tensorflow==1.7) (3.10.0)\n",
            "Requirement already satisfied: absl-py>=0.1.6 in /usr/local/lib/python3.6/dist-packages (from tensorflow==1.7) (0.8.1)\n",
            "Requirement already satisfied: numpy>=1.13.3 in /usr/local/lib/python3.6/dist-packages (from tensorflow==1.7) (1.17.4)\n",
            "Requirement already satisfied: tensorboard<1.8.0,>=1.7.0 in /usr/local/lib/python3.6/dist-packages (from tensorflow==1.7) (1.7.0)\n",
            "Requirement already satisfied: astor>=0.6.0 in /usr/local/lib/python3.6/dist-packages (from tensorflow==1.7) (0.8.0)\n",
            "Requirement already satisfied: grpcio>=1.8.6 in /usr/local/lib/python3.6/dist-packages (from tensorflow==1.7) (1.15.0)\n",
            "Requirement already satisfied: setuptools in /usr/local/lib/python3.6/dist-packages (from protobuf>=3.4.0->tensorflow==1.7) (42.0.1)\n",
            "Requirement already satisfied: html5lib==0.9999999 in /usr/local/lib/python3.6/dist-packages (from tensorboard<1.8.0,>=1.7.0->tensorflow==1.7) (0.9999999)\n",
            "Requirement already satisfied: bleach==1.5.0 in /usr/local/lib/python3.6/dist-packages (from tensorboard<1.8.0,>=1.7.0->tensorflow==1.7) (1.5.0)\n",
            "Requirement already satisfied: markdown>=2.6.8 in /usr/local/lib/python3.6/dist-packages (from tensorboard<1.8.0,>=1.7.0->tensorflow==1.7) (3.1.1)\n",
            "Requirement already satisfied: werkzeug>=0.11.10 in /usr/local/lib/python3.6/dist-packages (from tensorboard<1.8.0,>=1.7.0->tensorflow==1.7) (0.16.0)\n",
            "Requirement already satisfied: tensorflow_hub in /usr/local/lib/python3.6/dist-packages (0.7.0)\n",
            "Requirement already satisfied: numpy>=1.12.0 in /usr/local/lib/python3.6/dist-packages (from tensorflow_hub) (1.17.4)\n",
            "Requirement already satisfied: protobuf>=3.4.0 in /usr/local/lib/python3.6/dist-packages (from tensorflow_hub) (3.10.0)\n",
            "Requirement already satisfied: six>=1.10.0 in /usr/local/lib/python3.6/dist-packages (from tensorflow_hub) (1.12.0)\n",
            "Requirement already satisfied: setuptools in /usr/local/lib/python3.6/dist-packages (from protobuf>=3.4.0->tensorflow_hub) (42.0.1)\n"
          ],
          "name": "stdout"
        }
      ]
    },
    {
      "cell_type": "code",
      "metadata": {
        "id": "bKV_WlhZLR6-",
        "colab_type": "code",
        "outputId": "51bbb774-effe-4baf-b63e-028da79934ce",
        "colab": {
          "base_uri": "https://localhost:8080/",
          "height": 304
        }
      },
      "source": [
        "import tensorflow as tf\n",
        "tf.__version__"
      ],
      "execution_count": 2,
      "outputs": [
        {
          "output_type": "stream",
          "text": [
            "/usr/local/lib/python3.6/dist-packages/tensorflow/python/framework/dtypes.py:517: FutureWarning: Passing (type, 1) or '1type' as a synonym of type is deprecated; in a future version of numpy, it will be understood as (type, (1,)) / '(1,)type'.\n",
            "  _np_qint8 = np.dtype([(\"qint8\", np.int8, 1)])\n",
            "/usr/local/lib/python3.6/dist-packages/tensorflow/python/framework/dtypes.py:518: FutureWarning: Passing (type, 1) or '1type' as a synonym of type is deprecated; in a future version of numpy, it will be understood as (type, (1,)) / '(1,)type'.\n",
            "  _np_quint8 = np.dtype([(\"quint8\", np.uint8, 1)])\n",
            "/usr/local/lib/python3.6/dist-packages/tensorflow/python/framework/dtypes.py:519: FutureWarning: Passing (type, 1) or '1type' as a synonym of type is deprecated; in a future version of numpy, it will be understood as (type, (1,)) / '(1,)type'.\n",
            "  _np_qint16 = np.dtype([(\"qint16\", np.int16, 1)])\n",
            "/usr/local/lib/python3.6/dist-packages/tensorflow/python/framework/dtypes.py:520: FutureWarning: Passing (type, 1) or '1type' as a synonym of type is deprecated; in a future version of numpy, it will be understood as (type, (1,)) / '(1,)type'.\n",
            "  _np_quint16 = np.dtype([(\"quint16\", np.uint16, 1)])\n",
            "/usr/local/lib/python3.6/dist-packages/tensorflow/python/framework/dtypes.py:521: FutureWarning: Passing (type, 1) or '1type' as a synonym of type is deprecated; in a future version of numpy, it will be understood as (type, (1,)) / '(1,)type'.\n",
            "  _np_qint32 = np.dtype([(\"qint32\", np.int32, 1)])\n",
            "/usr/local/lib/python3.6/dist-packages/tensorflow/python/framework/dtypes.py:526: FutureWarning: Passing (type, 1) or '1type' as a synonym of type is deprecated; in a future version of numpy, it will be understood as (type, (1,)) / '(1,)type'.\n",
            "  np_resource = np.dtype([(\"resource\", np.ubyte, 1)])\n"
          ],
          "name": "stderr"
        },
        {
          "output_type": "display_data",
          "data": {
            "text/html": [
              "<p style=\"color: red;\">\n",
              "The default version of TensorFlow in Colab will soon switch to TensorFlow 2.x.<br>\n",
              "We recommend you <a href=\"https://www.tensorflow.org/guide/migrate\" target=\"_blank\">upgrade</a> now \n",
              "or ensure your notebook will continue to use TensorFlow 1.x via the <code>%tensorflow_version 1.x</code> magic:\n",
              "<a href=\"https://colab.research.google.com/notebooks/tensorflow_version.ipynb\" target=\"_blank\">more info</a>.</p>\n"
            ],
            "text/plain": [
              "<IPython.core.display.HTML object>"
            ]
          },
          "metadata": {
            "tags": []
          }
        },
        {
          "output_type": "execute_result",
          "data": {
            "text/plain": [
              "'1.7.0'"
            ]
          },
          "metadata": {
            "tags": []
          },
          "execution_count": 2
        }
      ]
    },
    {
      "cell_type": "code",
      "metadata": {
        "id": "MEEvabCnLIK1",
        "colab_type": "code",
        "outputId": "89e624e9-fdf2-4733-be24-d7770d75144f",
        "colab": {
          "base_uri": "https://localhost:8080/",
          "height": 34
        }
      },
      "source": [
        "import keras\n",
        "from keras import regularizers, models, layers, optimizers, callbacks \n",
        "from keras import backend as K\n",
        "from keras.datasets import fashion_mnist \n",
        "from keras.utils import to_categorical, np_utils\n",
        "from keras.layers import Activation, Flatten, Input, Dense, Conv1D, Conv2D, Dropout, MaxPooling2D, UpSampling2D, RepeatVector\n",
        "from keras.layers import LSTM, Embedding\n",
        "from keras.layers.advanced_activations import LeakyReLU\n",
        "from keras.models import Model, Sequential\n",
        "from keras.callbacks import TensorBoard, EarlyStopping\n",
        "from keras.preprocessing import image\n",
        "from keras.preprocessing.image import ImageDataGenerator, img_to_array, array_to_img, load_img\n",
        "from keras.applications import VGG16\n",
        "from keras.applications.vgg16 import preprocess_input\n",
        "from keras.optimizers import RMSprop\n",
        "\n",
        "import math\n",
        "import seaborn as sns\n",
        "import numpy as np\n",
        "import pandas as pd\n",
        "import matplotlib.pyplot as plt\n",
        "%matplotlib inline\n",
        "\n",
        "import os, time\n",
        "from sklearn.model_selection import train_test_split\n",
        "from sklearn.metrics import roc_curve\n",
        "\n",
        "from google.colab import files, drive\n",
        "\n",
        "import warnings\n",
        "warnings.filterwarnings('ignore')\n",
        "\n",
        "import logging\n",
        "logging.getLogger('googleapiclient.discovery_cache').setLevel(logging.ERROR)"
      ],
      "execution_count": 3,
      "outputs": [
        {
          "output_type": "stream",
          "text": [
            "Using TensorFlow backend.\n"
          ],
          "name": "stderr"
        }
      ]
    },
    {
      "cell_type": "markdown",
      "metadata": {
        "id": "fpdXwXNkMTSk",
        "colab_type": "text"
      },
      "source": [
        "### **1. Autoencoder**\n",
        "\n",
        "A convolutional autoencoder is a particular flavor of autoencoder where we use convolutional layers instead of Dense layers. We have previously applied autoencoders to images using only Dense layers and the result worked fairly well. However, the local spatial correlations of images imply that we should be able to do better using convolutional layers instead of Dense layers.\n",
        "Build and fit a convolutional autoencoder for the Fashion MNIST dataset. The components of this network will be many of the same pieces we’ve used with convolutional classification networks: Conv2D, MaxPooling, and so on. The encoder part of the network should run the input image through a few convolutional layers of your choice. The decoder part of the network will utilize UpSampling2D to get the representation back to the original image size.\n",
        "\n",
        "An example to guide your thinking can be found toward the bottom of this post https://blog.keras.io/building-autoencoders-in-keras.html. DO NOT JUST COPY THIS CODE AND TURN IT IN. BE CREATIVE, COME UP WITH YOUR OWN VARIATION.\n",
        "\n",
        "\n",
        "After training your network, visualize some examples of input images and their decoded reconstruction.\n",
        "\n"
      ]
    },
    {
      "cell_type": "markdown",
      "metadata": {
        "id": "DOZdp_x7URLE",
        "colab_type": "text"
      },
      "source": [
        "***Prep the MNIST Data***"
      ]
    },
    {
      "cell_type": "code",
      "metadata": {
        "id": "k0hr7O0rMRbZ",
        "colab_type": "code",
        "colab": {}
      },
      "source": [
        "# IMPORT THE DATA\n",
        "(x_train, _), (x_test, _) = fashion_mnist.load_data()"
      ],
      "execution_count": 0,
      "outputs": []
    },
    {
      "cell_type": "code",
      "metadata": {
        "id": "zhTpXkUuMZtP",
        "colab_type": "code",
        "colab": {}
      },
      "source": [
        "# PREP THE DATA\n",
        "## flatten the 28x28 images into vectors of size 784\n",
        "x_train = x_train.astype('float32') / 255.\n",
        "x_test = x_test.astype('float32') / 255.\n",
        "\n",
        "x_train = np.reshape(x_train, (len(x_train), 28, 28, 1))  \n",
        "x_test = np.reshape(x_test, (len(x_test), 28, 28, 1))"
      ],
      "execution_count": 0,
      "outputs": []
    },
    {
      "cell_type": "code",
      "metadata": {
        "id": "s30GdNvEMbn9",
        "colab_type": "code",
        "outputId": "f2d29b6f-df4b-4146-c0d1-6937af0d5f73",
        "colab": {
          "base_uri": "https://localhost:8080/",
          "height": 51
        }
      },
      "source": [
        "# Confirm we have the flattened vectors of size 784\n",
        "print(x_train.shape)\n",
        "print(x_test.shape)\n",
        "\n",
        "# Dim of image is 28x28x1 - which gives us the flattened 784 pixels"
      ],
      "execution_count": 27,
      "outputs": [
        {
          "output_type": "stream",
          "text": [
            "(60000, 28, 28, 1)\n",
            "(10000, 28, 28, 1)\n"
          ],
          "name": "stdout"
        }
      ]
    },
    {
      "cell_type": "code",
      "metadata": {
        "id": "xl8XKU3oMdNr",
        "colab_type": "code",
        "outputId": "676567c5-4449-4b84-b910-a3fe05ad23fe",
        "colab": {
          "base_uri": "https://localhost:8080/",
          "height": 34
        }
      },
      "source": [
        "# Placeholder input image\n",
        "input_img = Input(shape=(28,28,1))\n",
        "\n",
        "print(input_img.shape)"
      ],
      "execution_count": 28,
      "outputs": [
        {
          "output_type": "stream",
          "text": [
            "(?, 28, 28, 1)\n"
          ],
          "name": "stdout"
        }
      ]
    },
    {
      "cell_type": "markdown",
      "metadata": {
        "id": "ElhER0V5UYll",
        "colab_type": "text"
      },
      "source": [
        "***Build & fit a convolutional autoencoder***"
      ]
    },
    {
      "cell_type": "code",
      "metadata": {
        "id": "mq4Ek4GiMetS",
        "colab_type": "code",
        "colab": {}
      },
      "source": [
        "# ENCODER\n",
        "## Encoder should run input image thru few convolutional layers of your choice\n",
        "x = Conv2D(32, (3, 3), activation = 'relu', padding = 'same')(input_img)\n",
        "x = MaxPooling2D((2, 2), padding='same')(x)\n",
        "x = Conv2D(16, (3, 3), activation='relu', padding='same')(x)\n",
        "x = MaxPooling2D((2, 2), padding='same')(x)\n",
        "x = Conv2D(16, (3, 3), activation='relu', padding='same')(x)\n",
        "x = MaxPooling2D((2, 2), padding='same')(x)\n",
        "x = Conv2D(8, (3, 3), activation='relu', padding='same')(x)\n",
        "\n",
        "# \"Encoded\" is the encoded representation of the input\n",
        "encoded = MaxPooling2D((2, 2), padding='same')(x)"
      ],
      "execution_count": 0,
      "outputs": []
    },
    {
      "cell_type": "code",
      "metadata": {
        "id": "ofaaV6ZeMhLk",
        "colab_type": "code",
        "outputId": "72afc8b1-a10c-4082-e895-41586e83bc8d",
        "colab": {
          "base_uri": "https://localhost:8080/",
          "height": 34
        }
      },
      "source": [
        "# at this point the representation is (4, 4, 8) i.e. 128-dimensional\n",
        "print(encoded.shape)"
      ],
      "execution_count": 30,
      "outputs": [
        {
          "output_type": "stream",
          "text": [
            "(?, 2, 2, 8)\n"
          ],
          "name": "stdout"
        }
      ]
    },
    {
      "cell_type": "code",
      "metadata": {
        "id": "GcVuLum5MjF5",
        "colab_type": "code",
        "colab": {}
      },
      "source": [
        "# DECODER\n",
        "## Decoder will utilize UpSampling2D to get representation back to original image size.\n",
        "x = Conv2D(8, (3, 3), activation='relu', padding='same')(encoded)\n",
        "x = UpSampling2D((2, 2))(x)\n",
        "x = Conv2D(16, (3, 3), activation='relu', padding='same')(x)\n",
        "x = UpSampling2D((2, 2))(x)\n",
        "x = Conv2D(16, (3, 3), activation='relu', padding='same')(x)\n",
        "x = UpSampling2D((2, 2))(x)\n",
        "x = Conv2D(32, (3, 3), activation='relu')(x)\n",
        "x = UpSampling2D((2, 2))(x)\n",
        "\n",
        "\n",
        "# \"Decoded\" reverts the encoded representation back to the shape of the input\n",
        "decoded = Conv2D(1, (3, 3), activation='sigmoid', padding='same')(x)"
      ],
      "execution_count": 0,
      "outputs": []
    },
    {
      "cell_type": "code",
      "metadata": {
        "id": "GG-gUFHfMlkx",
        "colab_type": "code",
        "outputId": "f7fffd5f-ec60-4af6-8acd-394afa8764b0",
        "colab": {
          "base_uri": "https://localhost:8080/",
          "height": 34
        }
      },
      "source": [
        "# After going thru the Decoder, the representation is (28, 28, 1) - same as our original image\n",
        "print(decoded.shape)"
      ],
      "execution_count": 48,
      "outputs": [
        {
          "output_type": "stream",
          "text": [
            "(?, 28, 28, 1)\n"
          ],
          "name": "stdout"
        }
      ]
    },
    {
      "cell_type": "code",
      "metadata": {
        "id": "eSN1HnkIMppO",
        "colab_type": "code",
        "colab": {
          "base_uri": "https://localhost:8080/",
          "height": 765
        },
        "outputId": "b4daf417-784b-4346-f5ce-8088756f1da9"
      },
      "source": [
        "# Combine into a model that maps input to its encoded representation\n",
        "autoencoder = Model(input_img, decoded)\n",
        "\n",
        "# Configure model w per-pixel binary crossentropy loss & Adadelta optimizer:\n",
        "autoencoder.compile(optimizer='adadelta', loss='binary_crossentropy')\n",
        "\n",
        "autoencoder.summary()"
      ],
      "execution_count": 49,
      "outputs": [
        {
          "output_type": "stream",
          "text": [
            "Model: \"model_6\"\n",
            "_________________________________________________________________\n",
            "Layer (type)                 Output Shape              Param #   \n",
            "=================================================================\n",
            "input_3 (InputLayer)         (None, 28, 28, 1)         0         \n",
            "_________________________________________________________________\n",
            "conv2d_10 (Conv2D)           (None, 28, 28, 32)        320       \n",
            "_________________________________________________________________\n",
            "max_pooling2d_5 (MaxPooling2 (None, 14, 14, 32)        0         \n",
            "_________________________________________________________________\n",
            "conv2d_11 (Conv2D)           (None, 14, 14, 16)        4624      \n",
            "_________________________________________________________________\n",
            "max_pooling2d_6 (MaxPooling2 (None, 7, 7, 16)          0         \n",
            "_________________________________________________________________\n",
            "conv2d_12 (Conv2D)           (None, 7, 7, 16)          2320      \n",
            "_________________________________________________________________\n",
            "max_pooling2d_7 (MaxPooling2 (None, 4, 4, 16)          0         \n",
            "_________________________________________________________________\n",
            "conv2d_13 (Conv2D)           (None, 4, 4, 8)           1160      \n",
            "_________________________________________________________________\n",
            "max_pooling2d_8 (MaxPooling2 (None, 2, 2, 8)           0         \n",
            "_________________________________________________________________\n",
            "conv2d_19 (Conv2D)           (None, 2, 2, 8)           584       \n",
            "_________________________________________________________________\n",
            "up_sampling2d_9 (UpSampling2 (None, 4, 4, 8)           0         \n",
            "_________________________________________________________________\n",
            "conv2d_20 (Conv2D)           (None, 4, 4, 16)          1168      \n",
            "_________________________________________________________________\n",
            "up_sampling2d_10 (UpSampling (None, 8, 8, 16)          0         \n",
            "_________________________________________________________________\n",
            "conv2d_21 (Conv2D)           (None, 8, 8, 16)          2320      \n",
            "_________________________________________________________________\n",
            "up_sampling2d_11 (UpSampling (None, 16, 16, 16)        0         \n",
            "_________________________________________________________________\n",
            "conv2d_22 (Conv2D)           (None, 14, 14, 32)        4640      \n",
            "_________________________________________________________________\n",
            "up_sampling2d_12 (UpSampling (None, 28, 28, 32)        0         \n",
            "_________________________________________________________________\n",
            "conv2d_23 (Conv2D)           (None, 28, 28, 1)         289       \n",
            "=================================================================\n",
            "Total params: 17,425\n",
            "Trainable params: 17,425\n",
            "Non-trainable params: 0\n",
            "_________________________________________________________________\n"
          ],
          "name": "stdout"
        }
      ]
    },
    {
      "cell_type": "code",
      "metadata": {
        "id": "anXCu64OkK62",
        "colab_type": "code",
        "colab": {
          "base_uri": "https://localhost:8080/",
          "height": 391
        },
        "outputId": "63dde415-49de-40a8-f5a0-78a5e89d4718"
      },
      "source": [
        "# Incorporate early stopping \n",
        "from keras.callbacks import EarlyStopping  \n",
        "\n",
        "early_stopping = EarlyStopping(monitor='val_loss', min_delta=0, patience=7, verbose=1, mode='auto')\n",
        "\n",
        "# Train model\n",
        "history = autoencoder.fit(x_train, \n",
        "                          x_train, \n",
        "                          epochs=25, \n",
        "                          batch_size= 135, \n",
        "                          shuffle = True, \n",
        "                          validation_data=(x_test, x_test), \n",
        "                          callbacks=[early_stopping])"
      ],
      "execution_count": 50,
      "outputs": [
        {
          "output_type": "stream",
          "text": [
            "Train on 60000 samples, validate on 10000 samples\n",
            "Epoch 1/25\n",
            "60000/60000 [==============================] - 199s 3ms/step - loss: 0.5241 - val_loss: 0.4107\n",
            "Epoch 2/25\n",
            "60000/60000 [==============================] - 198s 3ms/step - loss: 0.3967 - val_loss: 0.3970\n",
            "Epoch 3/25\n",
            "60000/60000 [==============================] - 196s 3ms/step - loss: 0.3739 - val_loss: 0.3576\n",
            "Epoch 4/25\n",
            "60000/60000 [==============================] - 196s 3ms/step - loss: 0.3998 - val_loss: 0.4290\n",
            "Epoch 5/25\n",
            "60000/60000 [==============================] - 196s 3ms/step - loss: 0.4187 - val_loss: 0.4188\n",
            "Epoch 6/25\n",
            "60000/60000 [==============================] - 195s 3ms/step - loss: 0.4169 - val_loss: 0.4540\n",
            "Epoch 7/25\n",
            "60000/60000 [==============================] - 194s 3ms/step - loss: 0.4140 - val_loss: 0.4136\n",
            "Epoch 8/25\n",
            "60000/60000 [==============================] - 194s 3ms/step - loss: 0.4094 - val_loss: 0.4016\n",
            "Epoch 9/25\n",
            "60000/60000 [==============================] - 195s 3ms/step - loss: 0.4330 - val_loss: 0.4347\n",
            "Epoch 10/25\n",
            "60000/60000 [==============================] - 195s 3ms/step - loss: 0.4299 - val_loss: 0.4174\n",
            "Epoch 00010: early stopping\n"
          ],
          "name": "stdout"
        }
      ]
    },
    {
      "cell_type": "markdown",
      "metadata": {
        "id": "XclvX-i0Bbjm",
        "colab_type": "text"
      },
      "source": [
        "The model is oscelating and having trouble finding the minima. Need to try again with a smaller step size to see if that will help."
      ]
    },
    {
      "cell_type": "code",
      "metadata": {
        "id": "qTpR0mXfBkXT",
        "colab_type": "code",
        "colab": {
          "base_uri": "https://localhost:8080/",
          "height": 357
        },
        "outputId": "0472c000-749a-49ce-823b-0ecd944df2a7"
      },
      "source": [
        "# 2nd ATTEMPT:\n",
        "history = autoencoder.fit(x_train, \n",
        "                          x_train, \n",
        "                          epochs=25, \n",
        "                          batch_size= 105, \n",
        "                          shuffle = True, \n",
        "                          validation_data=(x_test, x_test), \n",
        "                          callbacks=[early_stopping])"
      ],
      "execution_count": 51,
      "outputs": [
        {
          "output_type": "stream",
          "text": [
            "Train on 60000 samples, validate on 10000 samples\n",
            "Epoch 1/25\n",
            "60000/60000 [==============================] - 202s 3ms/step - loss: 0.4463 - val_loss: 0.4407\n",
            "Epoch 2/25\n",
            "60000/60000 [==============================] - 201s 3ms/step - loss: 0.4524 - val_loss: 0.4378\n",
            "Epoch 3/25\n",
            "60000/60000 [==============================] - 201s 3ms/step - loss: 0.4689 - val_loss: 0.4715\n",
            "Epoch 4/25\n",
            "60000/60000 [==============================] - 199s 3ms/step - loss: 0.4742 - val_loss: 0.4568\n",
            "Epoch 5/25\n",
            "60000/60000 [==============================] - 199s 3ms/step - loss: 0.4819 - val_loss: 0.4877\n",
            "Epoch 6/25\n",
            "60000/60000 [==============================] - 200s 3ms/step - loss: 0.4898 - val_loss: 0.4848\n",
            "Epoch 7/25\n",
            "60000/60000 [==============================] - 200s 3ms/step - loss: 0.4912 - val_loss: 0.4844\n",
            "Epoch 8/25\n",
            "60000/60000 [==============================] - 199s 3ms/step - loss: 0.5069 - val_loss: 0.5118\n",
            "Epoch 9/25\n",
            "60000/60000 [==============================] - 200s 3ms/step - loss: 0.4986 - val_loss: 0.4775\n",
            "Epoch 00009: early stopping\n"
          ],
          "name": "stdout"
        }
      ]
    },
    {
      "cell_type": "markdown",
      "metadata": {
        "id": "4O51ZAJXcA0x",
        "colab_type": "text"
      },
      "source": [
        "When we reduced the batch size, the results got worse but are still roughly the same as the last run"
      ]
    },
    {
      "cell_type": "markdown",
      "metadata": {
        "id": "HjIgZIsOU1LZ",
        "colab_type": "text"
      },
      "source": [
        "***Visualize Examples of Input Images & Their Decoded Reconstruction***"
      ]
    },
    {
      "cell_type": "code",
      "metadata": {
        "id": "fMiV2YsuXK_K",
        "colab_type": "code",
        "colab": {}
      },
      "source": [
        "# Encode & Decode the Test Images\n",
        "\n",
        "#encoded_imgs = encoder.predict(x_test)\n",
        "#decoded_imgs = decoded.predict(encoded_imgs)\n",
        "decoded_imgs = autoencoder.predict(x_test)\n"
      ],
      "execution_count": 0,
      "outputs": []
    },
    {
      "cell_type": "code",
      "metadata": {
        "id": "Y98OyvWeM-jt",
        "colab_type": "code",
        "outputId": "af54b869-c644-48f2-b0c2-7bcdfddddd31",
        "colab": {
          "base_uri": "https://localhost:8080/",
          "height": 263
        }
      },
      "source": [
        "## Visualize an Example\n",
        "decoded_imgs = autoencoder.predict(x_test)\n",
        "\n",
        "n = 10\n",
        "plt.figure(figsize=(20, 4))\n",
        "for i in range(n):\n",
        "    # display original\n",
        "    ax = plt.subplot(2, n, i + 1)\n",
        "    plt.imshow(x_test[-i].reshape(28, 28))\n",
        "    plt.gray()\n",
        "\n",
        "    if decoded_imgs is not None:\n",
        "        # display reconstruction\n",
        "        ax = plt.subplot(2, n, i + 1 + n)\n",
        "        plt.imshow(decoded_imgs[-i].reshape(28, 28))\n",
        "        plt.gray()\n",
        "plt.show()"
      ],
      "execution_count": 53,
      "outputs": [
        {
          "output_type": "display_data",
          "data": {
            "image/png": "[encoded data removed]",
            "text/plain": [
              "<Figure size 1440x288 with 20 Axes>"
            ]
          },
          "metadata": {
            "tags": []
          }
        }
      ]
    },
    {
      "cell_type": "markdown",
      "metadata": {
        "id": "EaPb_fyU6F5r",
        "colab_type": "text"
      },
      "source": [
        "The decoded images do not look like the input - a sign that information was lost in the training, which corresponds to what we expected based on the loss above. We can see that the model caputures the rough shape and shading, ut not much detail."
      ]
    },
    {
      "cell_type": "code",
      "metadata": {
        "id": "Wt6qP05VHqKM",
        "colab_type": "code",
        "colab": {}
      },
      "source": [
        "# Map input to encoded representation\n",
        "encoder = Model(input_img, encoded)\n",
        "encoded_imgs = encoder.predict(x_test)"
      ],
      "execution_count": 0,
      "outputs": []
    },
    {
      "cell_type": "code",
      "metadata": {
        "id": "iT-HFa4Sk16N",
        "colab_type": "code",
        "colab": {
          "base_uri": "https://localhost:8080/",
          "height": 279
        },
        "outputId": "3d6b6601-47cd-44fa-98d3-0a90a30ffaeb"
      },
      "source": [
        "# Evaluate\n",
        "def plot_train_history_loss(history):\n",
        "    # summarize history for loss\n",
        "    plt.plot(history.history['loss'])\n",
        "    plt.plot(history.history['val_loss'])\n",
        "    #plt.title('Convolutional Autoencoder Model Loss')\n",
        "    plt.ylabel('Loss')\n",
        "    plt.xlabel('Epoch')\n",
        "    plt.legend(['train', 'test'], loc='lower right')\n",
        "    plt.show()\n",
        "\n",
        "plot_train_history_loss(history)"
      ],
      "execution_count": 57,
      "outputs": [
        {
          "output_type": "display_data",
          "data": {
            "image/png": "[encoded data removed]",
            "text/plain": [
              "<Figure size 432x288 with 1 Axes>"
            ]
          },
          "metadata": {
            "tags": []
          }
        }
      ]
    },
    {
      "cell_type": "markdown",
      "metadata": {
        "id": "cK-uwduTe910",
        "colab_type": "text"
      },
      "source": [
        "The plot shows that the loss actually increased with each epoch, rather than decreasing, and then might have found a local minima at the end, where it slightly decreased."
      ]
    },
    {
      "cell_type": "markdown",
      "metadata": {
        "id": "foOcdla1NBYi",
        "colab_type": "text"
      },
      "source": [
        "###**2. Image Classification**\n",
        "We’ll continue to use the Fashion MNIST dataset and build a deep convolutional network for classification.\n"
      ]
    },
    {
      "cell_type": "markdown",
      "metadata": {
        "id": "ceYJQ87pkWC4",
        "colab_type": "text"
      },
      "source": [
        "REFERENCE: https://towardsdatascience.com/mnist-cnn-python-c61a5bce7a19\n"
      ]
    },
    {
      "cell_type": "code",
      "metadata": {
        "id": "hnd420XJOX_X",
        "colab_type": "code",
        "colab": {}
      },
      "source": [
        "# IMPORT & PREP THE DATA\n",
        "(train_X,train_Y), (test_X,test_Y) = fashion_mnist.load_data()\n",
        "\n",
        "# Reshape images as per the tensor format required by tensorflow\n",
        "train_X = train_X.reshape(-1, 28, 28, 1)\n",
        "test_X = test_X.reshape(-1, 28, 28, 1)\n",
        "\n",
        "train_X = train_X.astype('float32')\n",
        "test_X = test_X.astype('float32')\n",
        "\n",
        "train_X = train_X / 255\n",
        "test_X = test_X / 255"
      ],
      "execution_count": 0,
      "outputs": []
    },
    {
      "cell_type": "code",
      "metadata": {
        "id": "BQUZlUdMzrae",
        "colab_type": "code",
        "colab": {}
      },
      "source": [
        "# One Hot Encoding\n",
        "train_Y_one_hot = to_categorical(train_Y)\n",
        "test_Y_one_hot = to_categorical(test_Y)"
      ],
      "execution_count": 0,
      "outputs": []
    },
    {
      "cell_type": "markdown",
      "metadata": {
        "id": "-7638mwBNBjD",
        "colab_type": "text"
      },
      "source": [
        "**2.1 Deep CNN**\n",
        "\n",
        "Build a deep CNN to classify the images. Provide a brief description of the architectural choices you’ve made: kernel sizes, strides, padding, network depth. Train your network end-to-end. Report on your model’s performance on training set and test set.\n"
      ]
    },
    {
      "cell_type": "code",
      "metadata": {
        "id": "-d0Lk5LcNB_N",
        "colab_type": "code",
        "colab": {}
      },
      "source": [
        "# build the Deep CNN Model \n",
        "model = Sequential()\n",
        "model.add(Conv2D(filters=64, kernel_size=(3,3), input_shape=(28, 28, 1)))   # 64 neurons (feature maps) and a 3x3 feature detector\n",
        "model.add(Activation('relu'))\n",
        "model.add(MaxPooling2D(pool_size=(2,2)))     # use max pooling with a 2x2 matrix\n",
        "\n",
        "model.add(Conv2D(filters=64, kernel_size=(3,3)))\n",
        "model.add(Activation('relu'))\n",
        "#model.add(Dropout(0.25))\n",
        "model.add(MaxPooling2D(pool_size=(2,2)))     # use max pooling with a 2x2 matrix\n",
        "\n",
        "model.add(Flatten())\n",
        "model.add(Dense(64))                         # implements the operation output = activation(dot(input, weight) + bias)\n",
        "\n",
        "#model.add(Dropout(0.25))\n",
        "model.add(Dense(10))\n",
        "model.add(Activation('softmax'))\n"
      ],
      "execution_count": 0,
      "outputs": []
    },
    {
      "cell_type": "code",
      "metadata": {
        "id": "mh8eXbWoiAxP",
        "colab_type": "code",
        "colab": {}
      },
      "source": [
        "model.compile(loss=keras.losses.categorical_crossentropy, optimizer=keras.optimizers.Adam(),metrics=['accuracy'])"
      ],
      "execution_count": 0,
      "outputs": []
    },
    {
      "cell_type": "code",
      "metadata": {
        "id": "VpQVXWneuumo",
        "colab_type": "code",
        "colab": {
          "base_uri": "https://localhost:8080/",
          "height": 493
        },
        "outputId": "e756df31-1d8e-4427-b00d-f49406f5ef1e"
      },
      "source": [
        "model.summary()"
      ],
      "execution_count": 104,
      "outputs": [
        {
          "output_type": "stream",
          "text": [
            "Model: \"sequential_7\"\n",
            "_________________________________________________________________\n",
            "Layer (type)                 Output Shape              Param #   \n",
            "=================================================================\n",
            "conv2d_36 (Conv2D)           (None, 26, 26, 64)        640       \n",
            "_________________________________________________________________\n",
            "activation_19 (Activation)   (None, 26, 26, 64)        0         \n",
            "_________________________________________________________________\n",
            "max_pooling2d_21 (MaxPooling (None, 13, 13, 64)        0         \n",
            "_________________________________________________________________\n",
            "conv2d_37 (Conv2D)           (None, 11, 11, 64)        36928     \n",
            "_________________________________________________________________\n",
            "activation_20 (Activation)   (None, 11, 11, 64)        0         \n",
            "_________________________________________________________________\n",
            "max_pooling2d_22 (MaxPooling (None, 5, 5, 64)          0         \n",
            "_________________________________________________________________\n",
            "flatten_7 (Flatten)          (None, 1600)              0         \n",
            "_________________________________________________________________\n",
            "dense_13 (Dense)             (None, 64)                102464    \n",
            "_________________________________________________________________\n",
            "dense_14 (Dense)             (None, 10)                650       \n",
            "_________________________________________________________________\n",
            "activation_21 (Activation)   (None, 10)                0         \n",
            "=================================================================\n",
            "Total params: 140,682\n",
            "Trainable params: 140,682\n",
            "Non-trainable params: 0\n",
            "_________________________________________________________________\n"
          ],
          "name": "stdout"
        }
      ]
    },
    {
      "cell_type": "code",
      "metadata": {
        "id": "BxebZXHzNLC8",
        "colab_type": "code",
        "colab": {
          "base_uri": "https://localhost:8080/",
          "height": 544
        },
        "outputId": "35bf3537-9a9c-4fd0-a368-51d39790ee76"
      },
      "source": [
        "# Incorporate early stopping \n",
        "#from keras.callbacks import EarlyStopping  \n",
        "\n",
        "#early_stopping = EarlyStopping(monitor='val_loss', min_delta=0, patience=7, verbose=1, mode='auto')\n",
        "\n",
        "# Train model\n",
        "model.fit(train_X, train_Y_one_hot, batch_size=64, epochs=15)\n",
        "                   #,\n",
        "                   #validation_data=(test_X, test_Y),\n",
        "                   #callbacks= [eary_stopping])"
      ],
      "execution_count": 105,
      "outputs": [
        {
          "output_type": "stream",
          "text": [
            "Epoch 1/15\n",
            "60000/60000 [==============================] - 131s 2ms/step - loss: 0.1433 - acc: 0.9470\n",
            "Epoch 2/15\n",
            "60000/60000 [==============================] - 129s 2ms/step - loss: 0.1345 - acc: 0.9506\n",
            "Epoch 3/15\n",
            "60000/60000 [==============================] - 128s 2ms/step - loss: 0.1256 - acc: 0.9533\n",
            "Epoch 4/15\n",
            "60000/60000 [==============================] - 128s 2ms/step - loss: 0.1200 - acc: 0.9552\n",
            "Epoch 5/15\n",
            "60000/60000 [==============================] - 129s 2ms/step - loss: 0.1130 - acc: 0.9583\n",
            "Epoch 6/15\n",
            "60000/60000 [==============================] - 127s 2ms/step - loss: 0.1092 - acc: 0.9594\n",
            "Epoch 7/15\n",
            "60000/60000 [==============================] - 127s 2ms/step - loss: 0.1035 - acc: 0.9614\n",
            "Epoch 8/15\n",
            "60000/60000 [==============================] - 127s 2ms/step - loss: 0.0981 - acc: 0.9628\n",
            "Epoch 9/15\n",
            "60000/60000 [==============================] - 127s 2ms/step - loss: 0.0959 - acc: 0.9644\n",
            "Epoch 10/15\n",
            "60000/60000 [==============================] - 127s 2ms/step - loss: 0.0897 - acc: 0.9666\n",
            "Epoch 11/15\n",
            "60000/60000 [==============================] - 127s 2ms/step - loss: 0.0843 - acc: 0.9688\n",
            "Epoch 12/15\n",
            "60000/60000 [==============================] - 126s 2ms/step - loss: 0.0819 - acc: 0.9699\n",
            "Epoch 13/15\n",
            "60000/60000 [==============================] - 127s 2ms/step - loss: 0.0782 - acc: 0.9709\n",
            "Epoch 14/15\n",
            "60000/60000 [==============================] - 127s 2ms/step - loss: 0.0770 - acc: 0.9717\n",
            "Epoch 15/15\n",
            "60000/60000 [==============================] - 128s 2ms/step - loss: 0.0703 - acc: 0.9737\n"
          ],
          "name": "stdout"
        },
        {
          "output_type": "execute_result",
          "data": {
            "text/plain": [
              "<keras.callbacks.History at 0x7f1feb9df240>"
            ]
          },
          "metadata": {
            "tags": []
          },
          "execution_count": 105
        }
      ]
    },
    {
      "cell_type": "code",
      "metadata": {
        "id": "X9EeXoRYy4J1",
        "colab_type": "code",
        "colab": {}
      },
      "source": [
        "from keras.models import model_from_json\n",
        "from numpy import loadtxt\n",
        "from keras.models import load_model"
      ],
      "execution_count": 0,
      "outputs": []
    },
    {
      "cell_type": "code",
      "metadata": {
        "id": "ch4YQmroy5gS",
        "colab_type": "code",
        "colab": {
          "base_uri": "https://localhost:8080/",
          "height": 34
        },
        "outputId": "f236dd68-6ead-47ca-b8e3-396cc54ba082"
      },
      "source": [
        "# SAVE MODEL\n",
        "\n",
        "# save model and architecture to single file\n",
        "model.save(\"model.h5\")\n",
        "print(\"Saved model to disk\")\n",
        "\n",
        "# load model\n",
        "model = load_model('model.h5')"
      ],
      "execution_count": 122,
      "outputs": [
        {
          "output_type": "stream",
          "text": [
            "Saved model to disk\n"
          ],
          "name": "stdout"
        }
      ]
    },
    {
      "cell_type": "code",
      "metadata": {
        "id": "ddRz0UNC0dz0",
        "colab_type": "code",
        "colab": {
          "base_uri": "https://localhost:8080/",
          "height": 51
        },
        "outputId": "ba8e8ed8-ec7c-4587-93af-068ca2b7d4bd"
      },
      "source": [
        "# Evaluate Model & Validate results with test data\n",
        "test_loss, test_acc = model.evaluate(test_X, test_Y_one_hot, verbose=0)\n",
        "print('Test loss', test_loss*100, \"%\")\n",
        "print('Test accuracy', test_acc*100, \"%\")"
      ],
      "execution_count": 115,
      "outputs": [
        {
          "output_type": "stream",
          "text": [
            "Test loss 42.944968256950375 %\n",
            "Test accuracy 89.94 %\n"
          ],
          "name": "stdout"
        }
      ]
    },
    {
      "cell_type": "markdown",
      "metadata": {
        "id": "AlkX4JWt0NR4",
        "colab_type": "text"
      },
      "source": [
        "Based on the fact that the accuracy is so much lower for the test data than for the training data, there is evidence to suggest that we may have overfit the model to our training data."
      ]
    },
    {
      "cell_type": "code",
      "metadata": {
        "id": "ivH6UhwCjwc0",
        "colab_type": "code",
        "colab": {
          "base_uri": "https://localhost:8080/",
          "height": 34
        },
        "outputId": "13bf1ab5-981e-4245-ca2e-bb75796e3a20"
      },
      "source": [
        "predictions = model.predict(test_X)\n",
        "print(np.argmax(np.round(predictions[0])))"
      ],
      "execution_count": 108,
      "outputs": [
        {
          "output_type": "stream",
          "text": [
            "9\n"
          ],
          "name": "stdout"
        }
      ]
    },
    {
      "cell_type": "code",
      "metadata": {
        "id": "88Mo40tA00bS",
        "colab_type": "code",
        "colab": {}
      },
      "source": [
        "# initialize the label names\n",
        "labelNames = [\"top\", \"trouser\", \"pullover\", \"dress\", \"coat\",\n",
        "\t\"sandal\", \"shirt\", \"sneaker\", \"bag\", \"ankle boot\"]"
      ],
      "execution_count": 0,
      "outputs": []
    },
    {
      "cell_type": "code",
      "metadata": {
        "id": "aCqFtei9kSh_",
        "colab_type": "code",
        "colab": {
          "base_uri": "https://localhost:8080/",
          "height": 265
        },
        "outputId": "b3173f63-68ba-4767-fc81-bb7d1b9f0f55"
      },
      "source": [
        "plt.imshow(test_X[0].reshape(28, 28), cmap = plt.cm.binary)\n",
        "plt.show()"
      ],
      "execution_count": 109,
      "outputs": [
        {
          "output_type": "display_data",
          "data": {
            "image/png": "[encoded data removed]",
            "text/plain": [
              "<Figure size 432x288 with 1 Axes>"
            ]
          },
          "metadata": {
            "tags": []
          }
        }
      ]
    },
    {
      "cell_type": "markdown",
      "metadata": {
        "id": "EjOlOBlt1TJF",
        "colab_type": "text"
      },
      "source": [
        "Based on the prediction, the label names, and the image, we can tell that the model correctly classified the image as an ankle boot."
      ]
    },
    {
      "cell_type": "markdown",
      "metadata": {
        "id": "FD-UKdsVNLUQ",
        "colab_type": "text"
      },
      "source": [
        "**2.2 Transfer Learning**\n",
        "\n",
        "Repeat the same task, but this time utilize a pre-trained network for the majority of your model. You should only train the final Dense layer, all other weights should be fixed. You can use whichever pre-trained backbone you like (ResNet, VGG, etc). Report on your model’s performance on training set and test set."
      ]
    },
    {
      "cell_type": "code",
      "metadata": {
        "id": "Qe9204z_NNHY",
        "colab_type": "code",
        "colab": {}
      },
      "source": [
        "# IMPORT & PREP THE DATA\n",
        "(train_X,train_Y), (test_X,test_Y) = fashion_mnist.load_data()\n",
        "\n",
        "# Convert images into 3 channels\n",
        "train_X=np.dstack([train_X] * 3)\n",
        "test_X=np.dstack([test_X]*3)\n",
        "train_X.shape,test_X.shape\n",
        "\n",
        "# Reshape images as per the tensor format required by tensorflow\n",
        "train_X = train_X.reshape(-1,28,28,3)\n",
        "test_X= test_X.reshape (-1,28,28,3)\n",
        "train_X.shape,test_X.shape\n",
        "\n",
        "# Resize the images to 48x48 for VGG16\n",
        "train_X = np.asarray([img_to_array(array_to_img(im, scale=False).resize((48,48))) for im in train_X])\n",
        "test_X = np.asarray([img_to_array(array_to_img(im, scale=False).resize((48,48))) for im in test_X])\n",
        "train_X.shape, test_X.shape\n",
        "\n",
        "train_X = train_X.astype('float32')\n",
        "test_X = test_X.astype('float32')\n",
        "train_X = train_X / 255\n",
        "test_X = test_X / 255\n"
      ],
      "execution_count": 0,
      "outputs": []
    },
    {
      "cell_type": "code",
      "metadata": {
        "id": "zjHBWp_B_juP",
        "colab_type": "code",
        "colab": {
          "base_uri": "https://localhost:8080/",
          "height": 34
        },
        "outputId": "758d2e0c-cd16-4a1d-f435-a3705f0a45ab"
      },
      "source": [
        "# Converting Labels to one hot encoded format\n",
        "train_Y_one_hot = to_categorical(train_Y)\n",
        "test_Y_one_hot = to_categorical(test_Y)\n",
        "\n",
        "# Splitting train data as train and validation data\n",
        "train_X,valid_X,train_label,valid_label = train_test_split(train_X, train_Y_one_hot, test_size=0.3, random_state=27)\n",
        "\n",
        "train_X.shape,\n",
        "valid_X.shape,\n",
        "train_label.shape,\n",
        "valid_label.shape"
      ],
      "execution_count": 128,
      "outputs": [
        {
          "output_type": "execute_result",
          "data": {
            "text/plain": [
              "(18000, 10)"
            ]
          },
          "metadata": {
            "tags": []
          },
          "execution_count": 128
        }
      ]
    },
    {
      "cell_type": "code",
      "metadata": {
        "id": "8h8bVAyw1cz7",
        "colab_type": "code",
        "colab": {
          "base_uri": "https://localhost:8080/",
          "height": 833
        },
        "outputId": "309a98d6-6447-4cb2-90fb-46c3f061b3e2"
      },
      "source": [
        "# Preprocess Data \n",
        "train_X = preprocess_input(train_X)\n",
        "valid_X = preprocess_input(valid_X)\n",
        "test_X  = preprocess_input (test_X)\n",
        "\n",
        "#  VGG16 Model\n",
        "conv_base = VGG16(weights='imagenet',include_top=False, input_shape=(48, 48, 3))   # use pretrained weights\n",
        "conv_base.summary()"
      ],
      "execution_count": 129,
      "outputs": [
        {
          "output_type": "stream",
          "text": [
            "Downloading data from https://github.com/fchollet/deep-learning-models/releases/download/v0.1/vgg16_weights_tf_dim_ordering_tf_kernels_notop.h5\n",
            "58892288/58889256 [==============================] - 5s 0us/step\n",
            "Model: \"vgg16\"\n",
            "_________________________________________________________________\n",
            "Layer (type)                 Output Shape              Param #   \n",
            "=================================================================\n",
            "input_4 (InputLayer)         (None, 48, 48, 3)         0         \n",
            "_________________________________________________________________\n",
            "block1_conv1 (Conv2D)        (None, 48, 48, 64)        1792      \n",
            "_________________________________________________________________\n",
            "block1_conv2 (Conv2D)        (None, 48, 48, 64)        36928     \n",
            "_________________________________________________________________\n",
            "block1_pool (MaxPooling2D)   (None, 24, 24, 64)        0         \n",
            "_________________________________________________________________\n",
            "block2_conv1 (Conv2D)        (None, 24, 24, 128)       73856     \n",
            "_________________________________________________________________\n",
            "block2_conv2 (Conv2D)        (None, 24, 24, 128)       147584    \n",
            "_________________________________________________________________\n",
            "block2_pool (MaxPooling2D)   (None, 12, 12, 128)       0         \n",
            "_________________________________________________________________\n",
            "block3_conv1 (Conv2D)        (None, 12, 12, 256)       295168    \n",
            "_________________________________________________________________\n",
            "block3_conv2 (Conv2D)        (None, 12, 12, 256)       590080    \n",
            "_________________________________________________________________\n",
            "block3_conv3 (Conv2D)        (None, 12, 12, 256)       590080    \n",
            "_________________________________________________________________\n",
            "block3_pool (MaxPooling2D)   (None, 6, 6, 256)         0         \n",
            "_________________________________________________________________\n",
            "block4_conv1 (Conv2D)        (None, 6, 6, 512)         1180160   \n",
            "_________________________________________________________________\n",
            "block4_conv2 (Conv2D)        (None, 6, 6, 512)         2359808   \n",
            "_________________________________________________________________\n",
            "block4_conv3 (Conv2D)        (None, 6, 6, 512)         2359808   \n",
            "_________________________________________________________________\n",
            "block4_pool (MaxPooling2D)   (None, 3, 3, 512)         0         \n",
            "_________________________________________________________________\n",
            "block5_conv1 (Conv2D)        (None, 3, 3, 512)         2359808   \n",
            "_________________________________________________________________\n",
            "block5_conv2 (Conv2D)        (None, 3, 3, 512)         2359808   \n",
            "_________________________________________________________________\n",
            "block5_conv3 (Conv2D)        (None, 3, 3, 512)         2359808   \n",
            "_________________________________________________________________\n",
            "block5_pool (MaxPooling2D)   (None, 1, 1, 512)         0         \n",
            "=================================================================\n",
            "Total params: 14,714,688\n",
            "Trainable params: 14,714,688\n",
            "Non-trainable params: 0\n",
            "_________________________________________________________________\n"
          ],
          "name": "stdout"
        }
      ]
    },
    {
      "cell_type": "code",
      "metadata": {
        "id": "kz0MMuo92OR5",
        "colab_type": "code",
        "colab": {
          "base_uri": "https://localhost:8080/",
          "height": 68
        },
        "outputId": "73ce2c87-fe35-44e0-8f2e-f6f79f07beef"
      },
      "source": [
        "# Extracting features\n",
        "train_features = conv_base.predict(np.array(train_X), batch_size=16, verbose=1)\n",
        "test_features = conv_base.predict(np.array(test_X), batch_size=16, verbose=1)\n",
        "val_features = conv_base.predict(np.array(valid_X), batch_size=16, verbose=1)\n"
      ],
      "execution_count": 130,
      "outputs": [
        {
          "output_type": "stream",
          "text": [
            "42000/42000 [==============================] - 1850s 44ms/step\n",
            "10000/10000 [==============================] - 439s 44ms/step\n",
            "18000/18000 [==============================] - 789s 44ms/step\n"
          ],
          "name": "stdout"
        }
      ]
    },
    {
      "cell_type": "code",
      "metadata": {
        "id": "el1OaXeFBEC0",
        "colab_type": "code",
        "colab": {}
      },
      "source": [
        "# Save features \n",
        "np.savez(\"train_features\", train_features, train_label)\n",
        "np.savez(\"test_features\", test_features, test_Y)\n",
        "np.savez(\"val_features\", val_features, valid_label)"
      ],
      "execution_count": 0,
      "outputs": []
    },
    {
      "cell_type": "code",
      "metadata": {
        "id": "tfW58RTgORSt",
        "colab_type": "code",
        "colab": {
          "base_uri": "https://localhost:8080/",
          "height": 68
        },
        "outputId": "8ad78c6d-561c-48ce-ff4a-7805803d3866"
      },
      "source": [
        "print(train_features.shape)\n",
        "print(test_features.shape)\n",
        "print(val_features.shape)"
      ],
      "execution_count": 132,
      "outputs": [
        {
          "output_type": "stream",
          "text": [
            "(42000, 1, 1, 512)\n",
            "(10000, 1, 1, 512)\n",
            "(18000, 1, 1, 512)\n"
          ],
          "name": "stdout"
        }
      ]
    },
    {
      "cell_type": "code",
      "metadata": {
        "id": "gH9IIqg4N6mU",
        "colab_type": "code",
        "colab": {}
      },
      "source": [
        "# Flatten extracted features\n",
        "train_features_flat = np.reshape(train_features, (42000, 1*1*512))\n",
        "test_features_flat = np.reshape(test_features, (10000, 1*1*512))\n",
        "val_features_flat = np.reshape(val_features, (18000, 1*1*512))"
      ],
      "execution_count": 0,
      "outputs": []
    },
    {
      "cell_type": "code",
      "metadata": {
        "id": "dxei84CLOHWI",
        "colab_type": "code",
        "colab": {}
      },
      "source": [
        "from keras.callbacks import EarlyStopping\n",
        "from keras.callbacks import ReduceLROnPlateau"
      ],
      "execution_count": 0,
      "outputs": []
    },
    {
      "cell_type": "code",
      "metadata": {
        "id": "rP02hgtKBHiC",
        "colab_type": "code",
        "colab": {}
      },
      "source": [
        "NB_TRAIN_SAMPLES = train_features_flat.shape[0]\n",
        "NB_VALIDATION_SAMPLES = val_features_flat.shape[0]\n",
        "\n",
        "model = models.Sequential()\n",
        "model.add(layers.Dense(512, activation='relu', input_dim=(1*1*512)))       # Densely connected classifier\n",
        "model.add(layers.LeakyReLU(alpha=0.1))                                     # leakyrelu layer\n",
        "model.add(layers.Dense(10, activation='softmax'))                          # dense layer for the number of classes\n",
        "\n",
        "model.compile(loss='categorical_crossentropy', optimizer=optimizers.Adam(), metrics=['acc'])"
      ],
      "execution_count": 0,
      "outputs": []
    },
    {
      "cell_type": "code",
      "metadata": {
        "id": "mbM_LKj5O5oM",
        "colab_type": "code",
        "colab": {
          "base_uri": "https://localhost:8080/",
          "height": 1000
        },
        "outputId": "611b95a6-729e-4262-f539-ad642f0f24b5"
      },
      "source": [
        "# Incorporate reduced learning and early stopping for callback\n",
        "#reduce_learning = callbacks.ReduceLROnPlateau(monitor='val_loss',factor=0.2, patience=2, verbose=1, mode='auto', epsilon=0.0001, cooldown=2, min_lr=0)\n",
        "#early_stopping = callbacks.EarlyStopping(monitor='val_loss', min_delta=0, patience=7, verbose=1, mode='auto')\n",
        "#callbacks = [#reduce_learning, \n",
        " #            early_stopping]\n",
        "\n",
        "# Train model\n",
        "#history = model.fit(train_features_flat, train_label, epochs=55, validation_data=(val_features_flat, valid_label), callbacks=callbacks)\n",
        "\n",
        "early_stopping = EarlyStopping(monitor='val_loss', min_delta=0, patience=7, verbose=1, mode='auto')\n",
        "model = model.fit(train_features_flat, train_label, batch_size=125, epochs=125, validation_data=(val_features_flat, valid_label), callbacks=[early_stopping])\n"
      ],
      "execution_count": 149,
      "outputs": [
        {
          "output_type": "stream",
          "text": [
            "Train on 42000 samples, validate on 18000 samples\n",
            "Epoch 1/125\n",
            "42000/42000 [==============================] - 6s 136us/step - loss: 1.7562 - acc: 0.3702 - val_loss: 1.4048 - val_acc: 0.5052\n",
            "Epoch 2/125\n",
            "42000/42000 [==============================] - 5s 118us/step - loss: 1.3191 - acc: 0.5232 - val_loss: 1.2143 - val_acc: 0.5588\n",
            "Epoch 3/125\n",
            "42000/42000 [==============================] - 5s 121us/step - loss: 1.1580 - acc: 0.5877 - val_loss: 1.1012 - val_acc: 0.6072\n",
            "Epoch 4/125\n",
            "42000/42000 [==============================] - 5s 123us/step - loss: 1.0695 - acc: 0.6205 - val_loss: 1.0910 - val_acc: 0.6443\n",
            "Epoch 5/125\n",
            "42000/42000 [==============================] - 5s 118us/step - loss: 1.0049 - acc: 0.6444 - val_loss: 0.9669 - val_acc: 0.6667\n",
            "Epoch 6/125\n",
            "42000/42000 [==============================] - 5s 121us/step - loss: 0.9680 - acc: 0.6552 - val_loss: 0.9522 - val_acc: 0.6549\n",
            "Epoch 7/125\n",
            "42000/42000 [==============================] - 5s 116us/step - loss: 0.9362 - acc: 0.6672 - val_loss: 0.9040 - val_acc: 0.6668\n",
            "Epoch 8/125\n",
            "42000/42000 [==============================] - 5s 118us/step - loss: 0.9108 - acc: 0.6743 - val_loss: 0.8940 - val_acc: 0.6800\n",
            "Epoch 9/125\n",
            "42000/42000 [==============================] - 5s 117us/step - loss: 0.8884 - acc: 0.6838 - val_loss: 0.8552 - val_acc: 0.6995\n",
            "Epoch 10/125\n",
            "42000/42000 [==============================] - 5s 119us/step - loss: 0.8807 - acc: 0.6815 - val_loss: 0.8450 - val_acc: 0.7016\n",
            "Epoch 11/125\n",
            "42000/42000 [==============================] - 5s 117us/step - loss: 0.8619 - acc: 0.6931 - val_loss: 0.8312 - val_acc: 0.7058\n",
            "Epoch 12/125\n",
            "42000/42000 [==============================] - 5s 119us/step - loss: 0.8536 - acc: 0.6923 - val_loss: 0.8323 - val_acc: 0.6949\n",
            "Epoch 13/125\n",
            "42000/42000 [==============================] - 5s 119us/step - loss: 0.8416 - acc: 0.6965 - val_loss: 0.8250 - val_acc: 0.7113\n",
            "Epoch 14/125\n",
            "42000/42000 [==============================] - 5s 123us/step - loss: 0.8317 - acc: 0.7014 - val_loss: 0.7986 - val_acc: 0.7155\n",
            "Epoch 15/125\n",
            "42000/42000 [==============================] - 5s 121us/step - loss: 0.8238 - acc: 0.7020 - val_loss: 0.8053 - val_acc: 0.7077\n",
            "Epoch 16/125\n",
            "42000/42000 [==============================] - 5s 120us/step - loss: 0.8100 - acc: 0.7085 - val_loss: 0.8097 - val_acc: 0.7063\n",
            "Epoch 17/125\n",
            "42000/42000 [==============================] - 5s 120us/step - loss: 0.8032 - acc: 0.7111 - val_loss: 0.7693 - val_acc: 0.7263\n",
            "Epoch 18/125\n",
            "42000/42000 [==============================] - 5s 117us/step - loss: 0.7950 - acc: 0.7150 - val_loss: 0.8224 - val_acc: 0.7038\n",
            "Epoch 19/125\n",
            "42000/42000 [==============================] - 5s 117us/step - loss: 0.7933 - acc: 0.7144 - val_loss: 0.7585 - val_acc: 0.7281\n",
            "Epoch 20/125\n",
            "42000/42000 [==============================] - 5s 115us/step - loss: 0.7832 - acc: 0.7177 - val_loss: 0.8143 - val_acc: 0.6996\n",
            "Epoch 21/125\n",
            "42000/42000 [==============================] - 5s 116us/step - loss: 0.7765 - acc: 0.7211 - val_loss: 0.7499 - val_acc: 0.7286\n",
            "Epoch 22/125\n",
            "42000/42000 [==============================] - 5s 117us/step - loss: 0.7764 - acc: 0.7193 - val_loss: 0.7501 - val_acc: 0.7312\n",
            "Epoch 23/125\n",
            "42000/42000 [==============================] - 5s 118us/step - loss: 0.7661 - acc: 0.7245 - val_loss: 0.7652 - val_acc: 0.7210\n",
            "Epoch 24/125\n",
            "42000/42000 [==============================] - 5s 118us/step - loss: 0.7635 - acc: 0.7221 - val_loss: 0.7529 - val_acc: 0.7369\n",
            "Epoch 25/125\n",
            "42000/42000 [==============================] - 5s 119us/step - loss: 0.7599 - acc: 0.7263 - val_loss: 0.7922 - val_acc: 0.7017\n",
            "Epoch 26/125\n",
            "42000/42000 [==============================] - 5s 118us/step - loss: 0.7527 - acc: 0.7271 - val_loss: 0.7341 - val_acc: 0.7413\n",
            "Epoch 27/125\n",
            "42000/42000 [==============================] - 5s 121us/step - loss: 0.7478 - acc: 0.7295 - val_loss: 0.7292 - val_acc: 0.7401\n",
            "Epoch 28/125\n",
            "42000/42000 [==============================] - 5s 116us/step - loss: 0.7448 - acc: 0.7312 - val_loss: 0.7318 - val_acc: 0.7333\n",
            "Epoch 29/125\n",
            "42000/42000 [==============================] - 5s 119us/step - loss: 0.7419 - acc: 0.7350 - val_loss: 0.7149 - val_acc: 0.7412\n",
            "Epoch 30/125\n",
            "42000/42000 [==============================] - 5s 116us/step - loss: 0.7389 - acc: 0.7337 - val_loss: 0.7652 - val_acc: 0.7274\n",
            "Epoch 31/125\n",
            "42000/42000 [==============================] - 5s 120us/step - loss: 0.7400 - acc: 0.7331 - val_loss: 0.7673 - val_acc: 0.7144\n",
            "Epoch 32/125\n",
            "42000/42000 [==============================] - 5s 120us/step - loss: 0.7349 - acc: 0.7349 - val_loss: 0.7016 - val_acc: 0.7506\n",
            "Epoch 33/125\n",
            "42000/42000 [==============================] - 5s 119us/step - loss: 0.7313 - acc: 0.7361 - val_loss: 0.7126 - val_acc: 0.7456\n",
            "Epoch 34/125\n",
            "42000/42000 [==============================] - 5s 120us/step - loss: 0.7264 - acc: 0.7396 - val_loss: 0.6949 - val_acc: 0.7515\n",
            "Epoch 35/125\n",
            "42000/42000 [==============================] - 5s 119us/step - loss: 0.7289 - acc: 0.7381 - val_loss: 0.7087 - val_acc: 0.7486\n",
            "Epoch 36/125\n",
            "42000/42000 [==============================] - 5s 119us/step - loss: 0.7196 - acc: 0.7409 - val_loss: 0.7129 - val_acc: 0.7449\n",
            "Epoch 37/125\n",
            "42000/42000 [==============================] - 5s 114us/step - loss: 0.7192 - acc: 0.7408 - val_loss: 0.7596 - val_acc: 0.7167\n",
            "Epoch 38/125\n",
            "42000/42000 [==============================] - 5s 115us/step - loss: 0.7225 - acc: 0.7390 - val_loss: 0.6980 - val_acc: 0.7469\n",
            "Epoch 39/125\n",
            "42000/42000 [==============================] - 5s 115us/step - loss: 0.7198 - acc: 0.7399 - val_loss: 0.7257 - val_acc: 0.7421\n",
            "Epoch 40/125\n",
            "42000/42000 [==============================] - 5s 118us/step - loss: 0.7146 - acc: 0.7401 - val_loss: 0.6988 - val_acc: 0.7522\n",
            "Epoch 41/125\n",
            "42000/42000 [==============================] - 5s 115us/step - loss: 0.7076 - acc: 0.7462 - val_loss: 0.7045 - val_acc: 0.7497\n",
            "Epoch 00041: early stopping\n"
          ],
          "name": "stdout"
        }
      ]
    },
    {
      "cell_type": "code",
      "metadata": {
        "id": "erfoSmixS0Nc",
        "colab_type": "code",
        "colab": {
          "base_uri": "https://localhost:8080/",
          "height": 282
        },
        "outputId": "ec3c010f-8c8c-4848-a7b7-3f285e5fdb1a"
      },
      "source": [
        "# Evaluate\n",
        "def plot_train_history_loss(model):\n",
        "    # summarize history for loss\n",
        "    plt.plot(model.history['loss'])\n",
        "    plt.plot(model.history['val_loss'])\n",
        "    #plt.title('Convolutional Autoencoder Model Loss')\n",
        "    plt.ylabel('Loss')\n",
        "    plt.xlabel('Epoch')\n",
        "    plt.legend(['train', 'test'], loc='lower right')\n",
        "    plt.show()\n",
        "\n",
        "plot_train_history_loss(model)"
      ],
      "execution_count": 152,
      "outputs": [
        {
          "output_type": "display_data",
          "data": {
            "image/png": "[encoded data removed]",
            "text/plain": [
              "<Figure size 432x288 with 1 Axes>"
            ]
          },
          "metadata": {
            "tags": []
          }
        }
      ]
    },
    {
      "cell_type": "markdown",
      "metadata": {
        "id": "V9EVZbR3NOAK",
        "colab_type": "text"
      },
      "source": [
        "###**3. Text Classification**\n",
        "\n",
        "While images contain local spatial correlations and structure, many other datasets contain temporal correlations. Examples include time series and discrete sequences such as text. In this problem, we will tackle the task of text classification in the context of natural language.\n",
        "\n",
        "**Background** In this problem, we will build models that read short text segments (tweets) and identify if one or more specific topics are being discussed. \n",
        "\n",
        "**Dataset** The dataset consists of tweets along with labels for which topics were being referenced in the tweet. Examples of the topics include ”storms”, ”rain”, ”hurricane”, ”snow” and so on. Unlike previous classification problems we have encountered, in this dataset, there is not just a single right answer. The labels here are derived from multiple annotators decided how to label each tweet, so a single tweet can be about more than one topic. The label is the\n",
        "fraction of annotations for a given topic, and each row should sum to 1.\n",
        "\n",
        "What Loss function should you use here? Categorical CrossEntropy might work, but with some modification since we don’t have ”hard” labels over the categories. Another option might be sigmoid: for each output category, use a sigmoid to collapse the output to between 0 and 1, but each category output can be roughly independent of the others. In the problems below, feel free to\n",
        "try both."
      ]
    },
    {
      "cell_type": "markdown",
      "metadata": {
        "id": "KLDb76Zajwmo",
        "colab_type": "text"
      },
      "source": [
        "REFERENCE: https://towardsdatascience.com/multi-class-text-classification-with-lstm-1590bee1bd17"
      ]
    },
    {
      "cell_type": "code",
      "metadata": {
        "id": "r7jILRtWT_gt",
        "colab_type": "code",
        "colab": {
          "base_uri": "https://localhost:8080/",
          "height": 255
        },
        "outputId": "4ea919c6-afbd-4e36-f7e8-80656d5ac997"
      },
      "source": [
        "# IMPORT THE DATA\n",
        "import pandas as pd\n",
        "tweets = open(\"tweets_with_labels.csv\")\n",
        "lines = tweets.readlines()\n",
        "tweets.close()\n",
        "\n",
        "lines = [line.strip('\\n') for line in lines]\n",
        "tweettext = [line.split(\"\\t\") for line in lines]\n",
        "header = tweettext[0]\n",
        "\n",
        "# Check the shape of the data\n",
        "print(len(header))\n",
        "print(len(tweettext))\n",
        "\n",
        "\n",
        "tweettext = [c for c in tweettext[1:] if len(c)==17]\n",
        "print(len(tweettext))\n",
        "\n",
        "tweets = pd.DataFrame(columns=header, data=tweettext)\n",
        "\n",
        "## Rename the columns\n",
        "tweets.rename(columns = {'k1':'clouds'}, inplace = True) \n",
        "tweets.rename(columns = {'k2':'cold'}, inplace = True) \n",
        "tweets.rename(columns = {'k3':'dry'}, inplace = True) \n",
        "tweets.rename(columns = {'k4':'hot'}, inplace = True) \n",
        "tweets.rename(columns = {'k5':'humid'}, inplace = True) \n",
        "tweets.rename(columns = {'k6':'hurricane'}, inplace = True) \n",
        "tweets.rename(columns = {'k7':'icanttell'}, inplace = True) \n",
        "tweets.rename(columns = {'k8':'ice'}, inplace = True) \n",
        "tweets.rename(columns = {'k9':'other'}, inplace = True) \n",
        "tweets.rename(columns = {'k10':'rain'}, inplace = True) \n",
        "tweets.rename(columns = {'k11':'snow'}, inplace = True) \n",
        "tweets.rename(columns = {'k12':'storms'}, inplace = True) \n",
        "tweets.rename(columns = {'k13':'sun'}, inplace = True) \n",
        "tweets.rename(columns = {'k14':'tornado'}, inplace = True) \n",
        "tweets.rename(columns = {'k15':'wind'}, inplace = True) \n",
        "\n",
        "# Check the first 5 rows of data - each row should sum to 1\n",
        "tweets[:5]\n"
      ],
      "execution_count": 202,
      "outputs": [
        {
          "output_type": "stream",
          "text": [
            "17\n",
            "77947\n",
            "77847\n"
          ],
          "name": "stdout"
        },
        {
          "output_type": "execute_result",
          "data": {
            "text/html": [
              "<div>\n",
              "<style scoped>\n",
              "    .dataframe tbody tr th:only-of-type {\n",
              "        vertical-align: middle;\n",
              "    }\n",
              "\n",
              "    .dataframe tbody tr th {\n",
              "        vertical-align: top;\n",
              "    }\n",
              "\n",
              "    .dataframe thead th {\n",
              "        text-align: right;\n",
              "    }\n",
              "</style>\n",
              "<table border=\"1\" class=\"dataframe\">\n",
              "  <thead>\n",
              "    <tr style=\"text-align: right;\">\n",
              "      <th></th>\n",
              "      <th>id</th>\n",
              "      <th>tweet</th>\n",
              "      <th>clouds</th>\n",
              "      <th>cold</th>\n",
              "      <th>dry</th>\n",
              "      <th>hot</th>\n",
              "      <th>humid</th>\n",
              "      <th>hurricane</th>\n",
              "      <th>icanttell</th>\n",
              "      <th>ice</th>\n",
              "      <th>other</th>\n",
              "      <th>rain</th>\n",
              "      <th>snow</th>\n",
              "      <th>storms</th>\n",
              "      <th>sun</th>\n",
              "      <th>tornado</th>\n",
              "      <th>wind</th>\n",
              "    </tr>\n",
              "  </thead>\n",
              "  <tbody>\n",
              "    <tr>\n",
              "      <th>0</th>\n",
              "      <td>1</td>\n",
              "      <td>Jazz for a Rainy Afternoon:  {link}</td>\n",
              "      <td>0</td>\n",
              "      <td>0</td>\n",
              "      <td>0</td>\n",
              "      <td>0</td>\n",
              "      <td>0</td>\n",
              "      <td>0</td>\n",
              "      <td>0</td>\n",
              "      <td>0</td>\n",
              "      <td>0</td>\n",
              "      <td>1</td>\n",
              "      <td>0</td>\n",
              "      <td>0</td>\n",
              "      <td>0</td>\n",
              "      <td>0</td>\n",
              "      <td>0</td>\n",
              "    </tr>\n",
              "    <tr>\n",
              "      <th>1</th>\n",
              "      <td>2</td>\n",
              "      <td>RT: @mention: I love rainy days.</td>\n",
              "      <td>0</td>\n",
              "      <td>0</td>\n",
              "      <td>0</td>\n",
              "      <td>0</td>\n",
              "      <td>0</td>\n",
              "      <td>0</td>\n",
              "      <td>0</td>\n",
              "      <td>0</td>\n",
              "      <td>0</td>\n",
              "      <td>1</td>\n",
              "      <td>0</td>\n",
              "      <td>0</td>\n",
              "      <td>0</td>\n",
              "      <td>0</td>\n",
              "      <td>0</td>\n",
              "    </tr>\n",
              "    <tr>\n",
              "      <th>2</th>\n",
              "      <td>3</td>\n",
              "      <td>Good Morning Chicago! Time to kick the Windy C...</td>\n",
              "      <td>0</td>\n",
              "      <td>0</td>\n",
              "      <td>0</td>\n",
              "      <td>0</td>\n",
              "      <td>0</td>\n",
              "      <td>0</td>\n",
              "      <td>1</td>\n",
              "      <td>0</td>\n",
              "      <td>0</td>\n",
              "      <td>0</td>\n",
              "      <td>0</td>\n",
              "      <td>0</td>\n",
              "      <td>0</td>\n",
              "      <td>0</td>\n",
              "      <td>0</td>\n",
              "    </tr>\n",
              "    <tr>\n",
              "      <th>3</th>\n",
              "      <td>6</td>\n",
              "      <td>Preach lol! :) RT @mention: #alliwantis this t...</td>\n",
              "      <td>0</td>\n",
              "      <td>0</td>\n",
              "      <td>0</td>\n",
              "      <td>0</td>\n",
              "      <td>0</td>\n",
              "      <td>0</td>\n",
              "      <td>0.604</td>\n",
              "      <td>0</td>\n",
              "      <td>0.196</td>\n",
              "      <td>0</td>\n",
              "      <td>0</td>\n",
              "      <td>0</td>\n",
              "      <td>0.201</td>\n",
              "      <td>0</td>\n",
              "      <td>0</td>\n",
              "    </tr>\n",
              "    <tr>\n",
              "      <th>4</th>\n",
              "      <td>9</td>\n",
              "      <td>@mention good morning sunshine</td>\n",
              "      <td>0</td>\n",
              "      <td>0</td>\n",
              "      <td>0</td>\n",
              "      <td>0</td>\n",
              "      <td>0</td>\n",
              "      <td>0</td>\n",
              "      <td>0</td>\n",
              "      <td>0</td>\n",
              "      <td>0</td>\n",
              "      <td>0</td>\n",
              "      <td>0</td>\n",
              "      <td>0</td>\n",
              "      <td>1</td>\n",
              "      <td>0</td>\n",
              "      <td>0</td>\n",
              "    </tr>\n",
              "  </tbody>\n",
              "</table>\n",
              "</div>"
            ],
            "text/plain": [
              "  id                                              tweet  ... tornado wind\n",
              "0  1                Jazz for a Rainy Afternoon:  {link}  ...       0    0\n",
              "1  2                   RT: @mention: I love rainy days.  ...       0    0\n",
              "2  3  Good Morning Chicago! Time to kick the Windy C...  ...       0    0\n",
              "3  6  Preach lol! :) RT @mention: #alliwantis this t...  ...       0    0\n",
              "4  9                     @mention good morning sunshine  ...       0    0\n",
              "\n",
              "[5 rows x 17 columns]"
            ]
          },
          "metadata": {
            "tags": []
          },
          "execution_count": 202
        }
      ]
    },
    {
      "cell_type": "code",
      "metadata": {
        "id": "r5Yirha_a4lx",
        "colab_type": "code",
        "colab": {
          "base_uri": "https://localhost:8080/",
          "height": 85
        },
        "outputId": "e88ff62c-a21d-4e11-ef81-714e94161284"
      },
      "source": [
        "# CLEAN THE DATA\n",
        "\n",
        "# Remove mentions as these shouldnt count as text\n",
        "tweets[\"tweet\"] = tweets[\"tweet\"].apply(lambda x : ' '.join([w for w in x.split() if not w.startswith('@') ])  ) \n",
        "\n",
        "# Split up the text and the labels\n",
        "TEXT = tweets[\"tweet\"].values\n",
        "LABELS = tweets.iloc[:,2:].values\n",
        "\n",
        "# Remove symbols and numbers from text\n",
        "import re\n",
        "TEXT = np.array(list(map(lambda i: re.sub('[^a-zA-Z]', ' ', i), TEXT)))\n",
        "TEXT = np.array(list(map(lambda i: re.sub(r'\\s+', ' ', i), TEXT)))\n",
        "\n",
        "TEXT[:5]"
      ],
      "execution_count": 214,
      "outputs": [
        {
          "output_type": "execute_result",
          "data": {
            "text/plain": [
              "array(['Jazz for a Rainy Afternoon link ', 'RT I love rainy days ',\n",
              "       'Good Morning Chicago Time to kick the Windy City in the nuts and head back West ',\n",
              "       'Preach lol RT alliwantis this type of weather all the time I live for beautiful days like this minneapolis',\n",
              "       'good morning sunshine'], dtype='<U167')"
            ]
          },
          "metadata": {
            "tags": []
          },
          "execution_count": 214
        }
      ]
    },
    {
      "cell_type": "code",
      "metadata": {
        "id": "0qnWifv0hk1L",
        "colab_type": "code",
        "colab": {
          "base_uri": "https://localhost:8080/",
          "height": 51
        },
        "outputId": "85a42799-c16f-40cb-c148-7be484cb4870"
      },
      "source": [
        "# SPLIT 30:70 for TEST/TRAIN\n",
        "TEXT_train, TEXT_test, LABEL_train, LABEL_test = train_test_split(TEXT, \n",
        "                                                                  LABELS, \n",
        "                                                                  test_size=0.30, \n",
        "                                                                  random_state=27)\n",
        "\n",
        "print(TEXT_train.shape,LABEL_train.shape)\n",
        "print(TEXT_test.shape,LABEL_test.shape)"
      ],
      "execution_count": 215,
      "outputs": [
        {
          "output_type": "stream",
          "text": [
            "(54492,) (54492, 15)\n",
            "(23355,) (23355, 15)\n"
          ],
          "name": "stdout"
        }
      ]
    },
    {
      "cell_type": "code",
      "metadata": {
        "id": "IGOg3dySYoli",
        "colab_type": "code",
        "colab": {
          "base_uri": "https://localhost:8080/",
          "height": 68
        },
        "outputId": "d48709e5-685b-49b9-9a94-92b00e8f0584"
      },
      "source": [
        "#TOKENIZE TWEETS\n",
        "\n",
        "tk = Tokenizer(num_words=50000, filters='!\"#$%&()*+,-./:;<=>?@[\\]^_`{|}~', lower=True)\n",
        "tk.fit_on_texts(TEXT_train)\n",
        "tk.fit_on_texts(TEXT_test)\n",
        "\n",
        "word_index = tk.word_index\n",
        "print('Found %s unique tokens.' % len(word_index))\n",
        "\n",
        "train_tokenized = tk.texts_to_sequences(TEXT_train)\n",
        "test_tokenized = tk.texts_to_sequences(TEXT_test)\n",
        "\n",
        "TEXT_train = pad_sequences(train_tokenized, maxlen = 250)\n",
        "TEXT_test = pad_sequences(test_tokenized, maxlen = 250)\n",
        "\n",
        "print('Shape of Train data tensor:', TEXT_train.shape)\n",
        "print('Shape of Test data tensor:', TEXT_test.shape)\n",
        "\n",
        "TEXT = pad_sequences(sequences, maxlen=500)\n"
      ],
      "execution_count": 216,
      "outputs": [
        {
          "output_type": "stream",
          "text": [
            "Found 39667 unique tokens.\n",
            "Shape of Train data tensor: (54492, 250)\n",
            "Shape of Test data tensor: (23355, 250)\n"
          ],
          "name": "stdout"
        }
      ]
    },
    {
      "cell_type": "code",
      "metadata": {
        "id": "hyDQBfU1f-gi",
        "colab_type": "code",
        "colab": {
          "base_uri": "https://localhost:8080/",
          "height": 241
        },
        "outputId": "4831151d-e3df-4745-f222-d61bceeb9658"
      },
      "source": [
        "## USE GLOVE FOR WORD EMBEDDINGS\n",
        "\n",
        "pip install glove_python\n",
        "\n",
        "from glove import Corpus, Glove"
      ],
      "execution_count": 182,
      "outputs": [
        {
          "output_type": "stream",
          "text": [
            "Collecting glove_python\n",
            "\u001b[?25l  Downloading https://files.pythonhosted.org/packages/3e/79/7e7e548dd9dcb741935d031117f4bed133276c2a047aadad42f1552d1771/glove_python-0.1.0.tar.gz (263kB)\n",
            "\r\u001b[K     |█▎                              | 10kB 15.3MB/s eta 0:00:01\r\u001b[K     |██▌                             | 20kB 1.8MB/s eta 0:00:01\r\u001b[K     |███▊                            | 30kB 2.6MB/s eta 0:00:01\r\u001b[K     |█████                           | 40kB 1.7MB/s eta 0:00:01\r\u001b[K     |██████▎                         | 51kB 2.1MB/s eta 0:00:01\r\u001b[K     |███████▌                        | 61kB 2.5MB/s eta 0:00:01\r\u001b[K     |████████▊                       | 71kB 2.9MB/s eta 0:00:01\r\u001b[K     |██████████                      | 81kB 3.3MB/s eta 0:00:01\r\u001b[K     |███████████▏                    | 92kB 3.7MB/s eta 0:00:01\r\u001b[K     |████████████▌                   | 102kB 2.8MB/s eta 0:00:01\r\u001b[K     |█████████████▊                  | 112kB 2.8MB/s eta 0:00:01\r\u001b[K     |███████████████                 | 122kB 2.8MB/s eta 0:00:01\r\u001b[K     |████████████████▏               | 133kB 2.8MB/s eta 0:00:01\r\u001b[K     |█████████████████▍              | 143kB 2.8MB/s eta 0:00:01\r\u001b[K     |██████████████████▊             | 153kB 2.8MB/s eta 0:00:01\r\u001b[K     |████████████████████            | 163kB 2.8MB/s eta 0:00:01\r\u001b[K     |█████████████████████▏          | 174kB 2.8MB/s eta 0:00:01\r\u001b[K     |██████████████████████▍         | 184kB 2.8MB/s eta 0:00:01\r\u001b[K     |███████████████████████▋        | 194kB 2.8MB/s eta 0:00:01\r\u001b[K     |█████████████████████████       | 204kB 2.8MB/s eta 0:00:01\r\u001b[K     |██████████████████████████▏     | 215kB 2.8MB/s eta 0:00:01\r\u001b[K     |███████████████████████████▍    | 225kB 2.8MB/s eta 0:00:01\r\u001b[K     |████████████████████████████▋   | 235kB 2.8MB/s eta 0:00:01\r\u001b[K     |█████████████████████████████▉  | 245kB 2.8MB/s eta 0:00:01\r\u001b[K     |███████████████████████████████▏| 256kB 2.8MB/s eta 0:00:01\r\u001b[K     |████████████████████████████████| 266kB 2.8MB/s \n",
            "\u001b[?25hRequirement already satisfied: numpy in /usr/local/lib/python3.6/dist-packages (from glove_python) (1.17.4)\n",
            "Requirement already satisfied: scipy in /usr/local/lib/python3.6/dist-packages (from glove_python) (1.3.3)\n",
            "Building wheels for collected packages: glove-python\n",
            "  Building wheel for glove-python (setup.py) ... \u001b[?25l\u001b[?25hdone\n",
            "  Created wheel for glove-python: filename=glove_python-0.1.0-cp36-cp36m-linux_x86_64.whl size=700333 sha256=f34222a778fabefd4e3313a0aee504217693edde0e7f7afbb9ae8304a3bf6270\n",
            "  Stored in directory: /root/.cache/pip/wheels/88/4b/6d/10c0d2ad32c9d9d68beec9694a6f0b6e83ab1662a90a089a4b\n",
            "Successfully built glove-python\n",
            "Installing collected packages: glove-python\n",
            "Successfully installed glove-python-0.1.0\n"
          ],
          "name": "stdout"
        }
      ]
    },
    {
      "cell_type": "markdown",
      "metadata": {
        "id": "3TjgwqDTNUd9",
        "colab_type": "text"
      },
      "source": [
        "**3.1 RNN**\n",
        "\n",
        "Build and train a Recurrent Neural Network to solve this text classification task. You can use any type of RNN you wish (SimpleRNN, GRU, LSTM)."
      ]
    },
    {
      "cell_type": "markdown",
      "metadata": {
        "id": "g43JPtS7o9Nm",
        "colab_type": "text"
      },
      "source": [
        "*  The first layer is the embedded layer that uses 100 length vectors to represent each word.\n",
        "\n",
        "*  SpatialDropout1D performs variational dropout in NLP models.\n",
        "\n",
        "*  The next layer is the LSTM layer with 100 memory units.\n",
        "\n",
        "*  The output layer must create 13 output values, one for each class.\n",
        "\n",
        "*  Activation function is softmax for multi-class classification.\n",
        "\n",
        "*  Because it is a multi-class classification problem, categorical_crossentropy is used as the loss function."
      ]
    },
    {
      "cell_type": "code",
      "metadata": {
        "id": "gqCHxnp_qP2d",
        "colab_type": "code",
        "colab": {}
      },
      "source": [
        "from keras.layers import SpatialDropout1D"
      ],
      "execution_count": 0,
      "outputs": []
    },
    {
      "cell_type": "code",
      "metadata": {
        "id": "_bD-P0lFpMhB",
        "colab_type": "code",
        "colab": {
          "base_uri": "https://localhost:8080/",
          "height": 341
        },
        "outputId": "f6b0254d-9625-426a-b618-8743b56cb721"
      },
      "source": [
        "model = Sequential()\n",
        "model.add(Embedding(50000, 100, input_length=TEXT.shape[1]))\n",
        "model.add(SpatialDropout1D(0.2))\n",
        "model.add(LSTM(100, dropout=0.2, recurrent_dropout=0.2))\n",
        "model.add(Dense(13, activation='softmax'))\n",
        "model.compile(loss='categorical_crossentropy', optimizer='adam', metrics=['accuracy'])\n",
        "\n",
        "epochs = 5\n",
        "batch_size = 64\n",
        "\n",
        "history = model.fit(TEXT_train, \n",
        "                    LABEL_train, \n",
        "                    epochs=epochs, \n",
        "                    batch_size=batch_size,\n",
        "                    validation_split=0.1)\n"
      ],
      "execution_count": 221,
      "outputs": [
        {
          "output_type": "error",
          "ename": "ValueError",
          "evalue": "ignored",
          "traceback": [
            "\u001b[0;31m---------------------------------------------------------------------------\u001b[0m",
            "\u001b[0;31mValueError\u001b[0m                                Traceback (most recent call last)",
            "\u001b[0;32m<ipython-input-221-b8b94ee47a60>\u001b[0m in \u001b[0;36m<module>\u001b[0;34m()\u001b[0m\n\u001b[1;32m     13\u001b[0m                     \u001b[0mepochs\u001b[0m\u001b[0;34m=\u001b[0m\u001b[0mepochs\u001b[0m\u001b[0;34m,\u001b[0m\u001b[0;34m\u001b[0m\u001b[0;34m\u001b[0m\u001b[0m\n\u001b[1;32m     14\u001b[0m                     \u001b[0mbatch_size\u001b[0m\u001b[0;34m=\u001b[0m\u001b[0mbatch_size\u001b[0m\u001b[0;34m,\u001b[0m\u001b[0;34m\u001b[0m\u001b[0;34m\u001b[0m\u001b[0m\n\u001b[0;32m---> 15\u001b[0;31m                     validation_split=0.1)\n\u001b[0m",
            "\u001b[0;32m/usr/local/lib/python3.6/dist-packages/keras/engine/training.py\u001b[0m in \u001b[0;36mfit\u001b[0;34m(self, x, y, batch_size, epochs, verbose, callbacks, validation_split, validation_data, shuffle, class_weight, sample_weight, initial_epoch, steps_per_epoch, validation_steps, validation_freq, max_queue_size, workers, use_multiprocessing, **kwargs)\u001b[0m\n\u001b[1;32m   1087\u001b[0m             \u001b[0msample_weight\u001b[0m\u001b[0;34m=\u001b[0m\u001b[0msample_weight\u001b[0m\u001b[0;34m,\u001b[0m\u001b[0;34m\u001b[0m\u001b[0;34m\u001b[0m\u001b[0m\n\u001b[1;32m   1088\u001b[0m             \u001b[0mclass_weight\u001b[0m\u001b[0;34m=\u001b[0m\u001b[0mclass_weight\u001b[0m\u001b[0;34m,\u001b[0m\u001b[0;34m\u001b[0m\u001b[0;34m\u001b[0m\u001b[0m\n\u001b[0;32m-> 1089\u001b[0;31m             batch_size=batch_size)\n\u001b[0m\u001b[1;32m   1090\u001b[0m \u001b[0;34m\u001b[0m\u001b[0m\n\u001b[1;32m   1091\u001b[0m         \u001b[0;31m# Prepare validation data.\u001b[0m\u001b[0;34m\u001b[0m\u001b[0;34m\u001b[0m\u001b[0;34m\u001b[0m\u001b[0m\n",
            "\u001b[0;32m/usr/local/lib/python3.6/dist-packages/keras/engine/training.py\u001b[0m in \u001b[0;36m_standardize_user_data\u001b[0;34m(self, x, y, sample_weight, class_weight, check_array_lengths, batch_size)\u001b[0m\n\u001b[1;32m    755\u001b[0m             \u001b[0mfeed_input_shapes\u001b[0m\u001b[0;34m,\u001b[0m\u001b[0;34m\u001b[0m\u001b[0;34m\u001b[0m\u001b[0m\n\u001b[1;32m    756\u001b[0m             \u001b[0mcheck_batch_axis\u001b[0m\u001b[0;34m=\u001b[0m\u001b[0;32mFalse\u001b[0m\u001b[0;34m,\u001b[0m  \u001b[0;31m# Don't enforce the batch size.\u001b[0m\u001b[0;34m\u001b[0m\u001b[0;34m\u001b[0m\u001b[0m\n\u001b[0;32m--> 757\u001b[0;31m             exception_prefix='input')\n\u001b[0m\u001b[1;32m    758\u001b[0m \u001b[0;34m\u001b[0m\u001b[0m\n\u001b[1;32m    759\u001b[0m         \u001b[0;32mif\u001b[0m \u001b[0my\u001b[0m \u001b[0;32mis\u001b[0m \u001b[0;32mnot\u001b[0m \u001b[0;32mNone\u001b[0m\u001b[0;34m:\u001b[0m\u001b[0;34m\u001b[0m\u001b[0;34m\u001b[0m\u001b[0m\n",
            "\u001b[0;32m/usr/local/lib/python3.6/dist-packages/keras/engine/training_utils.py\u001b[0m in \u001b[0;36mstandardize_input_data\u001b[0;34m(data, names, shapes, check_batch_axis, exception_prefix)\u001b[0m\n\u001b[1;32m    139\u001b[0m                             \u001b[0;34m': expected '\u001b[0m \u001b[0;34m+\u001b[0m \u001b[0mnames\u001b[0m\u001b[0;34m[\u001b[0m\u001b[0mi\u001b[0m\u001b[0;34m]\u001b[0m \u001b[0;34m+\u001b[0m \u001b[0;34m' to have shape '\u001b[0m \u001b[0;34m+\u001b[0m\u001b[0;34m\u001b[0m\u001b[0;34m\u001b[0m\u001b[0m\n\u001b[1;32m    140\u001b[0m                             \u001b[0mstr\u001b[0m\u001b[0;34m(\u001b[0m\u001b[0mshape\u001b[0m\u001b[0;34m)\u001b[0m \u001b[0;34m+\u001b[0m \u001b[0;34m' but got array with shape '\u001b[0m \u001b[0;34m+\u001b[0m\u001b[0;34m\u001b[0m\u001b[0;34m\u001b[0m\u001b[0m\n\u001b[0;32m--> 141\u001b[0;31m                             str(data_shape))\n\u001b[0m\u001b[1;32m    142\u001b[0m     \u001b[0;32mreturn\u001b[0m \u001b[0mdata\u001b[0m\u001b[0;34m\u001b[0m\u001b[0;34m\u001b[0m\u001b[0m\n\u001b[1;32m    143\u001b[0m \u001b[0;34m\u001b[0m\u001b[0m\n",
            "\u001b[0;31mValueError\u001b[0m: Error when checking input: expected embedding_4_input to have shape (500,) but got array with shape (250,)"
          ]
        }
      ]
    },
    {
      "cell_type": "markdown",
      "metadata": {
        "id": "-2AXd0LfNVru",
        "colab_type": "text"
      },
      "source": [
        "**3.2 CNN**\n",
        "\n",
        "Build and train a 1D CNN for this text classification task. We recommend you do a character-level convolution (with character embeddings). You might gain some insight and inspiration from these text classification approaches:\n",
        "\n",
        "• http://www.aclweb.org/anthology/D14-1181\n",
        "\n",
        "• https://arxiv.org/abs/1702.08568"
      ]
    },
    {
      "cell_type": "code",
      "metadata": {
        "id": "JwiWA5NwNZS0",
        "colab_type": "code",
        "colab": {}
      },
      "source": [
        ""
      ],
      "execution_count": 0,
      "outputs": []
    },
    {
      "cell_type": "markdown",
      "metadata": {
        "id": "YlLCmCUYNaEm",
        "colab_type": "text"
      },
      "source": [
        "**3.3 Comparison**\n",
        "\n",
        "Be sure to directly compare your two methods with an ROC curve or similar validation method. Don’t forget to create a train-test split."
      ]
    },
    {
      "cell_type": "code",
      "metadata": {
        "id": "VTeYMCtONec8",
        "colab_type": "code",
        "colab": {}
      },
      "source": [
        ""
      ],
      "execution_count": 0,
      "outputs": []
    }
  ]
}