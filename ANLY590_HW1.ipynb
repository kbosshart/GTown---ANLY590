{
  "nbformat": 4,
  "nbformat_minor": 0,
  "metadata": {
    "colab": {
      "name": "ANLY590 HW1.ipynb",
      "version": "0.3.2",
      "provenance": [],
      "collapsed_sections": [],
      "include_colab_link": true
    },
    "kernelspec": {
      "name": "python3",
      "display_name": "Python 3"
    }
  },
  "cells": [
    {
      "cell_type": "markdown",
      "metadata": {
        "id": "view-in-github",
        "colab_type": "text"
      },
      "source": [
        "<a href=\"https://colab.research.google.com/github/kbosshart/GTown---ANLY590/blob/master/ANLY590_HW1.ipynb\" target=\"_parent\"><img src=\"https://colab.research.google.com/assets/colab-badge.svg\" alt=\"Open In Colab\"/></a>"
      ]
    },
    {
      "cell_type": "markdown",
      "metadata": {
        "id": "vAPwj04FpjXw",
        "colab_type": "text"
      },
      "source": [
        "# Homework Assignment 1\n",
        "## ANLY-590 Fall 2019\n",
        "### Kate Bosshart | KEB289@Georgetown.edu\n",
        "\n",
        "\n",
        "---\n",
        "\n"
      ]
    },
    {
      "cell_type": "markdown",
      "metadata": {
        "id": "MnKMlbaPq2Zj",
        "colab_type": "text"
      },
      "source": [
        "# **1. Regularization** \n",
        "Using the accompanying Hitters dataset, we will explore regression models to predict a player's Salary from other variables."
      ]
    },
    {
      "cell_type": "code",
      "metadata": {
        "id": "-YzBkCfBvXGi",
        "colab_type": "code",
        "colab": {}
      },
      "source": [
        "# Import Libraries needed for analysis\n",
        "import pandas as pd\n",
        "import numpy as np\n",
        "import matplotlib.pyplot as plt\n",
        "\n",
        "from sklearn.model_selection import cross_val_score, GridSearchCV, train_test_split\n",
        "from sklearn.linear_model import Ridge, RidgeCV, Lasso, LassoCV, LinearRegression\n",
        "from sklearn.preprocessing import scale \n",
        "from sklearn.metrics import mean_squared_error"
      ],
      "execution_count": 0,
      "outputs": []
    },
    {
      "cell_type": "code",
      "metadata": {
        "id": "SL_uO3YqvcD0",
        "colab_type": "code",
        "colab": {}
      },
      "source": [
        "# Provide the path for the CSV file in Github\n",
        "url = 'https://gist.githubusercontent.com/keeganhines/59974f1ebef97bbaa44fb19143f90bad/raw/d9bcf657f97201394a59fffd801c44347eb7e28d/Hitters.csv'"
      ],
      "execution_count": 0,
      "outputs": []
    },
    {
      "cell_type": "code",
      "metadata": {
        "id": "DpouvzZvvcLn",
        "colab_type": "code",
        "outputId": "e367af05-3936-418f-f465-7dff8ae06063",
        "colab": {
          "base_uri": "https://localhost:8080/",
          "height": 389
        }
      },
      "source": [
        "# Read in the Hitters data from this location and print out an extract\n",
        "data = pd.read_csv(url, index_col=0)\n",
        "data.head()"
      ],
      "execution_count": 5,
      "outputs": [
        {
          "output_type": "execute_result",
          "data": {
            "text/html": [
              "<div>\n",
              "<style scoped>\n",
              "    .dataframe tbody tr th:only-of-type {\n",
              "        vertical-align: middle;\n",
              "    }\n",
              "\n",
              "    .dataframe tbody tr th {\n",
              "        vertical-align: top;\n",
              "    }\n",
              "\n",
              "    .dataframe thead th {\n",
              "        text-align: right;\n",
              "    }\n",
              "</style>\n",
              "<table border=\"1\" class=\"dataframe\">\n",
              "  <thead>\n",
              "    <tr style=\"text-align: right;\">\n",
              "      <th></th>\n",
              "      <th>AtBat</th>\n",
              "      <th>Hits</th>\n",
              "      <th>HmRun</th>\n",
              "      <th>Runs</th>\n",
              "      <th>RBI</th>\n",
              "      <th>Walks</th>\n",
              "      <th>Years</th>\n",
              "      <th>CAtBat</th>\n",
              "      <th>CHits</th>\n",
              "      <th>CHmRun</th>\n",
              "      <th>CRuns</th>\n",
              "      <th>CRBI</th>\n",
              "      <th>CWalks</th>\n",
              "      <th>League</th>\n",
              "      <th>Division</th>\n",
              "      <th>PutOuts</th>\n",
              "      <th>Assists</th>\n",
              "      <th>Errors</th>\n",
              "      <th>Salary</th>\n",
              "      <th>NewLeague</th>\n",
              "    </tr>\n",
              "  </thead>\n",
              "  <tbody>\n",
              "    <tr>\n",
              "      <th>-Andy Allanson</th>\n",
              "      <td>293</td>\n",
              "      <td>66</td>\n",
              "      <td>1</td>\n",
              "      <td>30</td>\n",
              "      <td>29</td>\n",
              "      <td>14</td>\n",
              "      <td>1</td>\n",
              "      <td>293</td>\n",
              "      <td>66</td>\n",
              "      <td>1</td>\n",
              "      <td>30</td>\n",
              "      <td>29</td>\n",
              "      <td>14</td>\n",
              "      <td>A</td>\n",
              "      <td>E</td>\n",
              "      <td>446</td>\n",
              "      <td>33</td>\n",
              "      <td>20</td>\n",
              "      <td>NaN</td>\n",
              "      <td>A</td>\n",
              "    </tr>\n",
              "    <tr>\n",
              "      <th>-Alan Ashby</th>\n",
              "      <td>315</td>\n",
              "      <td>81</td>\n",
              "      <td>7</td>\n",
              "      <td>24</td>\n",
              "      <td>38</td>\n",
              "      <td>39</td>\n",
              "      <td>14</td>\n",
              "      <td>3449</td>\n",
              "      <td>835</td>\n",
              "      <td>69</td>\n",
              "      <td>321</td>\n",
              "      <td>414</td>\n",
              "      <td>375</td>\n",
              "      <td>N</td>\n",
              "      <td>W</td>\n",
              "      <td>632</td>\n",
              "      <td>43</td>\n",
              "      <td>10</td>\n",
              "      <td>475.0</td>\n",
              "      <td>N</td>\n",
              "    </tr>\n",
              "    <tr>\n",
              "      <th>-Alvin Davis</th>\n",
              "      <td>479</td>\n",
              "      <td>130</td>\n",
              "      <td>18</td>\n",
              "      <td>66</td>\n",
              "      <td>72</td>\n",
              "      <td>76</td>\n",
              "      <td>3</td>\n",
              "      <td>1624</td>\n",
              "      <td>457</td>\n",
              "      <td>63</td>\n",
              "      <td>224</td>\n",
              "      <td>266</td>\n",
              "      <td>263</td>\n",
              "      <td>A</td>\n",
              "      <td>W</td>\n",
              "      <td>880</td>\n",
              "      <td>82</td>\n",
              "      <td>14</td>\n",
              "      <td>480.0</td>\n",
              "      <td>A</td>\n",
              "    </tr>\n",
              "    <tr>\n",
              "      <th>-Andre Dawson</th>\n",
              "      <td>496</td>\n",
              "      <td>141</td>\n",
              "      <td>20</td>\n",
              "      <td>65</td>\n",
              "      <td>78</td>\n",
              "      <td>37</td>\n",
              "      <td>11</td>\n",
              "      <td>5628</td>\n",
              "      <td>1575</td>\n",
              "      <td>225</td>\n",
              "      <td>828</td>\n",
              "      <td>838</td>\n",
              "      <td>354</td>\n",
              "      <td>N</td>\n",
              "      <td>E</td>\n",
              "      <td>200</td>\n",
              "      <td>11</td>\n",
              "      <td>3</td>\n",
              "      <td>500.0</td>\n",
              "      <td>N</td>\n",
              "    </tr>\n",
              "    <tr>\n",
              "      <th>-Andres Galarraga</th>\n",
              "      <td>321</td>\n",
              "      <td>87</td>\n",
              "      <td>10</td>\n",
              "      <td>39</td>\n",
              "      <td>42</td>\n",
              "      <td>30</td>\n",
              "      <td>2</td>\n",
              "      <td>396</td>\n",
              "      <td>101</td>\n",
              "      <td>12</td>\n",
              "      <td>48</td>\n",
              "      <td>46</td>\n",
              "      <td>33</td>\n",
              "      <td>N</td>\n",
              "      <td>E</td>\n",
              "      <td>805</td>\n",
              "      <td>40</td>\n",
              "      <td>4</td>\n",
              "      <td>91.5</td>\n",
              "      <td>N</td>\n",
              "    </tr>\n",
              "  </tbody>\n",
              "</table>\n",
              "</div>"
            ],
            "text/plain": [
              "                   AtBat  Hits  HmRun  Runs  ...  Assists  Errors  Salary  NewLeague\n",
              "-Andy Allanson       293    66      1    30  ...       33      20     NaN          A\n",
              "-Alan Ashby          315    81      7    24  ...       43      10   475.0          N\n",
              "-Alvin Davis         479   130     18    66  ...       82      14   480.0          A\n",
              "-Andre Dawson        496   141     20    65  ...       11       3   500.0          N\n",
              "-Andres Galarraga    321    87     10    39  ...       40       4    91.5          N\n",
              "\n",
              "[5 rows x 20 columns]"
            ]
          },
          "metadata": {
            "tags": []
          },
          "execution_count": 5
        }
      ]
    },
    {
      "cell_type": "code",
      "metadata": {
        "id": "J1dHgsgkKoDb",
        "colab_type": "code",
        "outputId": "ddb1ff53-9f3f-4581-9ca2-7d016cabb7be",
        "colab": {
          "base_uri": "https://localhost:8080/",
          "height": 389
        }
      },
      "source": [
        "# Remove missing data from the Hitters Dataset\n",
        "complete_data = pd.read_csv(url, index_col=0).dropna()\n",
        "complete_data.head()"
      ],
      "execution_count": 6,
      "outputs": [
        {
          "output_type": "execute_result",
          "data": {
            "text/html": [
              "<div>\n",
              "<style scoped>\n",
              "    .dataframe tbody tr th:only-of-type {\n",
              "        vertical-align: middle;\n",
              "    }\n",
              "\n",
              "    .dataframe tbody tr th {\n",
              "        vertical-align: top;\n",
              "    }\n",
              "\n",
              "    .dataframe thead th {\n",
              "        text-align: right;\n",
              "    }\n",
              "</style>\n",
              "<table border=\"1\" class=\"dataframe\">\n",
              "  <thead>\n",
              "    <tr style=\"text-align: right;\">\n",
              "      <th></th>\n",
              "      <th>AtBat</th>\n",
              "      <th>Hits</th>\n",
              "      <th>HmRun</th>\n",
              "      <th>Runs</th>\n",
              "      <th>RBI</th>\n",
              "      <th>Walks</th>\n",
              "      <th>Years</th>\n",
              "      <th>CAtBat</th>\n",
              "      <th>CHits</th>\n",
              "      <th>CHmRun</th>\n",
              "      <th>CRuns</th>\n",
              "      <th>CRBI</th>\n",
              "      <th>CWalks</th>\n",
              "      <th>League</th>\n",
              "      <th>Division</th>\n",
              "      <th>PutOuts</th>\n",
              "      <th>Assists</th>\n",
              "      <th>Errors</th>\n",
              "      <th>Salary</th>\n",
              "      <th>NewLeague</th>\n",
              "    </tr>\n",
              "  </thead>\n",
              "  <tbody>\n",
              "    <tr>\n",
              "      <th>-Alan Ashby</th>\n",
              "      <td>315</td>\n",
              "      <td>81</td>\n",
              "      <td>7</td>\n",
              "      <td>24</td>\n",
              "      <td>38</td>\n",
              "      <td>39</td>\n",
              "      <td>14</td>\n",
              "      <td>3449</td>\n",
              "      <td>835</td>\n",
              "      <td>69</td>\n",
              "      <td>321</td>\n",
              "      <td>414</td>\n",
              "      <td>375</td>\n",
              "      <td>N</td>\n",
              "      <td>W</td>\n",
              "      <td>632</td>\n",
              "      <td>43</td>\n",
              "      <td>10</td>\n",
              "      <td>475.0</td>\n",
              "      <td>N</td>\n",
              "    </tr>\n",
              "    <tr>\n",
              "      <th>-Alvin Davis</th>\n",
              "      <td>479</td>\n",
              "      <td>130</td>\n",
              "      <td>18</td>\n",
              "      <td>66</td>\n",
              "      <td>72</td>\n",
              "      <td>76</td>\n",
              "      <td>3</td>\n",
              "      <td>1624</td>\n",
              "      <td>457</td>\n",
              "      <td>63</td>\n",
              "      <td>224</td>\n",
              "      <td>266</td>\n",
              "      <td>263</td>\n",
              "      <td>A</td>\n",
              "      <td>W</td>\n",
              "      <td>880</td>\n",
              "      <td>82</td>\n",
              "      <td>14</td>\n",
              "      <td>480.0</td>\n",
              "      <td>A</td>\n",
              "    </tr>\n",
              "    <tr>\n",
              "      <th>-Andre Dawson</th>\n",
              "      <td>496</td>\n",
              "      <td>141</td>\n",
              "      <td>20</td>\n",
              "      <td>65</td>\n",
              "      <td>78</td>\n",
              "      <td>37</td>\n",
              "      <td>11</td>\n",
              "      <td>5628</td>\n",
              "      <td>1575</td>\n",
              "      <td>225</td>\n",
              "      <td>828</td>\n",
              "      <td>838</td>\n",
              "      <td>354</td>\n",
              "      <td>N</td>\n",
              "      <td>E</td>\n",
              "      <td>200</td>\n",
              "      <td>11</td>\n",
              "      <td>3</td>\n",
              "      <td>500.0</td>\n",
              "      <td>N</td>\n",
              "    </tr>\n",
              "    <tr>\n",
              "      <th>-Andres Galarraga</th>\n",
              "      <td>321</td>\n",
              "      <td>87</td>\n",
              "      <td>10</td>\n",
              "      <td>39</td>\n",
              "      <td>42</td>\n",
              "      <td>30</td>\n",
              "      <td>2</td>\n",
              "      <td>396</td>\n",
              "      <td>101</td>\n",
              "      <td>12</td>\n",
              "      <td>48</td>\n",
              "      <td>46</td>\n",
              "      <td>33</td>\n",
              "      <td>N</td>\n",
              "      <td>E</td>\n",
              "      <td>805</td>\n",
              "      <td>40</td>\n",
              "      <td>4</td>\n",
              "      <td>91.5</td>\n",
              "      <td>N</td>\n",
              "    </tr>\n",
              "    <tr>\n",
              "      <th>-Alfredo Griffin</th>\n",
              "      <td>594</td>\n",
              "      <td>169</td>\n",
              "      <td>4</td>\n",
              "      <td>74</td>\n",
              "      <td>51</td>\n",
              "      <td>35</td>\n",
              "      <td>11</td>\n",
              "      <td>4408</td>\n",
              "      <td>1133</td>\n",
              "      <td>19</td>\n",
              "      <td>501</td>\n",
              "      <td>336</td>\n",
              "      <td>194</td>\n",
              "      <td>A</td>\n",
              "      <td>W</td>\n",
              "      <td>282</td>\n",
              "      <td>421</td>\n",
              "      <td>25</td>\n",
              "      <td>750.0</td>\n",
              "      <td>A</td>\n",
              "    </tr>\n",
              "  </tbody>\n",
              "</table>\n",
              "</div>"
            ],
            "text/plain": [
              "                   AtBat  Hits  HmRun  Runs  ...  Assists  Errors  Salary  NewLeague\n",
              "-Alan Ashby          315    81      7    24  ...       43      10   475.0          N\n",
              "-Alvin Davis         479   130     18    66  ...       82      14   480.0          A\n",
              "-Andre Dawson        496   141     20    65  ...       11       3   500.0          N\n",
              "-Andres Galarraga    321    87     10    39  ...       40       4    91.5          N\n",
              "-Alfredo Griffin     594   169      4    74  ...      421      25   750.0          A\n",
              "\n",
              "[5 rows x 20 columns]"
            ]
          },
          "metadata": {
            "tags": []
          },
          "execution_count": 6
        }
      ]
    },
    {
      "cell_type": "markdown",
      "metadata": {
        "id": "bYaLDNPF_V0z",
        "colab_type": "text"
      },
      "source": [
        "Looking at just the first five rows, we can see that the first player that had a missing value has now been removed from the dataset"
      ]
    },
    {
      "cell_type": "code",
      "metadata": {
        "id": "lGRCsi_52Vis",
        "colab_type": "code",
        "colab": {}
      },
      "source": [
        "# Investigative Plots: Create scatterplots of some avialable features and Salary \n",
        "def scatter_plot(feature, target):\n",
        "    plt.figure(figsize=(3, 3))\n",
        "    plt.scatter(\n",
        "        complete_data[feature],\n",
        "        complete_data[target],\n",
        "        c='blue'\n",
        "    )\n",
        "    plt.suptitle(\"Plot of Hitter Salary\", fontsize=10)\n",
        "    plt.xlabel(\"{}\".format(feature), fontsize=10)\n",
        "    plt.ylabel(\"Salary ($)\", fontsize=10)\n",
        "    plt.show()"
      ],
      "execution_count": 0,
      "outputs": []
    },
    {
      "cell_type": "code",
      "metadata": {
        "id": "NxPfDZxd5KWm",
        "colab_type": "code",
        "outputId": "ac346be8-f05c-4f27-9b1c-e8d5ce74b1b9",
        "colab": {
          "base_uri": "https://localhost:8080/",
          "height": 247
        }
      },
      "source": [
        "scatter_plot('Hits', 'Salary')"
      ],
      "execution_count": 9,
      "outputs": [
        {
          "output_type": "display_data",
          "data": {
            "image/png": "[encoded data removed]",
            "text/plain": [
              "<Figure size 216x216 with 1 Axes>"
            ]
          },
          "metadata": {
            "tags": []
          }
        }
      ]
    },
    {
      "cell_type": "code",
      "metadata": {
        "id": "d-AVhjNL5Kd6",
        "colab_type": "code",
        "outputId": "c0e44c25-d249-4929-e2f1-659825b3498c",
        "colab": {
          "base_uri": "https://localhost:8080/",
          "height": 247
        }
      },
      "source": [
        "scatter_plot('Runs', 'Salary')"
      ],
      "execution_count": 10,
      "outputs": [
        {
          "output_type": "display_data",
          "data": {
            "image/png": "[encoded data removed]",
            "text/plain": [
              "<Figure size 216x216 with 1 Axes>"
            ]
          },
          "metadata": {
            "tags": []
          }
        }
      ]
    },
    {
      "cell_type": "code",
      "metadata": {
        "id": "LCOEo_np5ZkI",
        "colab_type": "code",
        "outputId": "a19fb6fe-e216-4521-e69c-65b0a636085c",
        "colab": {
          "base_uri": "https://localhost:8080/",
          "height": 247
        }
      },
      "source": [
        "scatter_plot('HmRun', 'Salary')"
      ],
      "execution_count": 11,
      "outputs": [
        {
          "output_type": "display_data",
          "data": {
            "image/png": "[encoded data removed]",
            "text/plain": [
              "<Figure size 216x216 with 1 Axes>"
            ]
          },
          "metadata": {
            "tags": []
          }
        }
      ]
    },
    {
      "cell_type": "markdown",
      "metadata": {
        "id": "kfNpkbei0-N_",
        "colab_type": "text"
      },
      "source": [
        "**1.1** \n",
        "Use LASSO regression to predict Salary from the other numeric predictors. "
      ]
    },
    {
      "cell_type": "code",
      "metadata": {
        "id": "of_qqsf58Cpn",
        "colab_type": "code",
        "colab": {}
      },
      "source": [
        "# Split out the Predictors and our Response Variable, Salary\n",
        "Predictors = complete_data.drop(['Salary'], axis=1)\n",
        "Salaries = complete_data['Salary'].values.reshape(-1,1)\n",
        "\n",
        "y = Salaries"
      ],
      "execution_count": 0,
      "outputs": []
    },
    {
      "cell_type": "code",
      "metadata": {
        "id": "Kh-6VNfc6O7d",
        "colab_type": "code",
        "colab": {
          "base_uri": "https://localhost:8080/",
          "height": 309
        },
        "outputId": "ebcf6382-6657-4deb-ca72-e051652cb14f"
      },
      "source": [
        "# Create dummy variables for the character predictors - League, Division, and New League\n",
        "dummies = pd.get_dummies(Predictors[['League', 'Division', 'NewLeague']])\n",
        "dummies.head()"
      ],
      "execution_count": 8,
      "outputs": [
        {
          "output_type": "execute_result",
          "data": {
            "text/html": [
              "<div>\n",
              "<style scoped>\n",
              "    .dataframe tbody tr th:only-of-type {\n",
              "        vertical-align: middle;\n",
              "    }\n",
              "\n",
              "    .dataframe tbody tr th {\n",
              "        vertical-align: top;\n",
              "    }\n",
              "\n",
              "    .dataframe thead th {\n",
              "        text-align: right;\n",
              "    }\n",
              "</style>\n",
              "<table border=\"1\" class=\"dataframe\">\n",
              "  <thead>\n",
              "    <tr style=\"text-align: right;\">\n",
              "      <th></th>\n",
              "      <th>League_A</th>\n",
              "      <th>League_N</th>\n",
              "      <th>Division_E</th>\n",
              "      <th>Division_W</th>\n",
              "      <th>NewLeague_A</th>\n",
              "      <th>NewLeague_N</th>\n",
              "    </tr>\n",
              "  </thead>\n",
              "  <tbody>\n",
              "    <tr>\n",
              "      <th>-Alan Ashby</th>\n",
              "      <td>0</td>\n",
              "      <td>1</td>\n",
              "      <td>0</td>\n",
              "      <td>1</td>\n",
              "      <td>0</td>\n",
              "      <td>1</td>\n",
              "    </tr>\n",
              "    <tr>\n",
              "      <th>-Alvin Davis</th>\n",
              "      <td>1</td>\n",
              "      <td>0</td>\n",
              "      <td>0</td>\n",
              "      <td>1</td>\n",
              "      <td>1</td>\n",
              "      <td>0</td>\n",
              "    </tr>\n",
              "    <tr>\n",
              "      <th>-Andre Dawson</th>\n",
              "      <td>0</td>\n",
              "      <td>1</td>\n",
              "      <td>1</td>\n",
              "      <td>0</td>\n",
              "      <td>0</td>\n",
              "      <td>1</td>\n",
              "    </tr>\n",
              "    <tr>\n",
              "      <th>-Andres Galarraga</th>\n",
              "      <td>0</td>\n",
              "      <td>1</td>\n",
              "      <td>1</td>\n",
              "      <td>0</td>\n",
              "      <td>0</td>\n",
              "      <td>1</td>\n",
              "    </tr>\n",
              "    <tr>\n",
              "      <th>-Alfredo Griffin</th>\n",
              "      <td>1</td>\n",
              "      <td>0</td>\n",
              "      <td>0</td>\n",
              "      <td>1</td>\n",
              "      <td>1</td>\n",
              "      <td>0</td>\n",
              "    </tr>\n",
              "  </tbody>\n",
              "</table>\n",
              "</div>"
            ],
            "text/plain": [
              "                   League_A  League_N  ...  NewLeague_A  NewLeague_N\n",
              "-Alan Ashby               0         1  ...            0            1\n",
              "-Alvin Davis              1         0  ...            1            0\n",
              "-Andre Dawson             0         1  ...            0            1\n",
              "-Andres Galarraga         0         1  ...            0            1\n",
              "-Alfredo Griffin          1         0  ...            1            0\n",
              "\n",
              "[5 rows x 6 columns]"
            ]
          },
          "metadata": {
            "tags": []
          },
          "execution_count": 8
        }
      ]
    },
    {
      "cell_type": "markdown",
      "metadata": {
        "id": "djpjyial_jif",
        "colab_type": "text"
      },
      "source": [
        "We can see that the categorical variables have now been converted to multiple dummy variables. Some of these contain duplicative information and can be dropped."
      ]
    },
    {
      "cell_type": "code",
      "metadata": {
        "id": "M3AS9wv_5xw4",
        "colab_type": "code",
        "colab": {
          "base_uri": "https://localhost:8080/",
          "height": 389
        },
        "outputId": "4d6e0a17-067c-4187-e586-75cd0db8371a"
      },
      "source": [
        "# Update character fields with dummy variables in our Predictors\n",
        "Predictors = Predictors.drop(['League', 'Division', 'NewLeague'], axis = 1).astype('float64')\n",
        "X = pd.concat([Predictors, dummies[['League_N', 'Division_W', 'NewLeague_N']]], axis = 1)  # Use just one of the dummy vars for each\n",
        "\n",
        "X.head()"
      ],
      "execution_count": 9,
      "outputs": [
        {
          "output_type": "execute_result",
          "data": {
            "text/html": [
              "<div>\n",
              "<style scoped>\n",
              "    .dataframe tbody tr th:only-of-type {\n",
              "        vertical-align: middle;\n",
              "    }\n",
              "\n",
              "    .dataframe tbody tr th {\n",
              "        vertical-align: top;\n",
              "    }\n",
              "\n",
              "    .dataframe thead th {\n",
              "        text-align: right;\n",
              "    }\n",
              "</style>\n",
              "<table border=\"1\" class=\"dataframe\">\n",
              "  <thead>\n",
              "    <tr style=\"text-align: right;\">\n",
              "      <th></th>\n",
              "      <th>AtBat</th>\n",
              "      <th>Hits</th>\n",
              "      <th>HmRun</th>\n",
              "      <th>Runs</th>\n",
              "      <th>RBI</th>\n",
              "      <th>Walks</th>\n",
              "      <th>Years</th>\n",
              "      <th>CAtBat</th>\n",
              "      <th>CHits</th>\n",
              "      <th>CHmRun</th>\n",
              "      <th>CRuns</th>\n",
              "      <th>CRBI</th>\n",
              "      <th>CWalks</th>\n",
              "      <th>PutOuts</th>\n",
              "      <th>Assists</th>\n",
              "      <th>Errors</th>\n",
              "      <th>League_N</th>\n",
              "      <th>Division_W</th>\n",
              "      <th>NewLeague_N</th>\n",
              "    </tr>\n",
              "  </thead>\n",
              "  <tbody>\n",
              "    <tr>\n",
              "      <th>-Alan Ashby</th>\n",
              "      <td>315.0</td>\n",
              "      <td>81.0</td>\n",
              "      <td>7.0</td>\n",
              "      <td>24.0</td>\n",
              "      <td>38.0</td>\n",
              "      <td>39.0</td>\n",
              "      <td>14.0</td>\n",
              "      <td>3449.0</td>\n",
              "      <td>835.0</td>\n",
              "      <td>69.0</td>\n",
              "      <td>321.0</td>\n",
              "      <td>414.0</td>\n",
              "      <td>375.0</td>\n",
              "      <td>632.0</td>\n",
              "      <td>43.0</td>\n",
              "      <td>10.0</td>\n",
              "      <td>1</td>\n",
              "      <td>1</td>\n",
              "      <td>1</td>\n",
              "    </tr>\n",
              "    <tr>\n",
              "      <th>-Alvin Davis</th>\n",
              "      <td>479.0</td>\n",
              "      <td>130.0</td>\n",
              "      <td>18.0</td>\n",
              "      <td>66.0</td>\n",
              "      <td>72.0</td>\n",
              "      <td>76.0</td>\n",
              "      <td>3.0</td>\n",
              "      <td>1624.0</td>\n",
              "      <td>457.0</td>\n",
              "      <td>63.0</td>\n",
              "      <td>224.0</td>\n",
              "      <td>266.0</td>\n",
              "      <td>263.0</td>\n",
              "      <td>880.0</td>\n",
              "      <td>82.0</td>\n",
              "      <td>14.0</td>\n",
              "      <td>0</td>\n",
              "      <td>1</td>\n",
              "      <td>0</td>\n",
              "    </tr>\n",
              "    <tr>\n",
              "      <th>-Andre Dawson</th>\n",
              "      <td>496.0</td>\n",
              "      <td>141.0</td>\n",
              "      <td>20.0</td>\n",
              "      <td>65.0</td>\n",
              "      <td>78.0</td>\n",
              "      <td>37.0</td>\n",
              "      <td>11.0</td>\n",
              "      <td>5628.0</td>\n",
              "      <td>1575.0</td>\n",
              "      <td>225.0</td>\n",
              "      <td>828.0</td>\n",
              "      <td>838.0</td>\n",
              "      <td>354.0</td>\n",
              "      <td>200.0</td>\n",
              "      <td>11.0</td>\n",
              "      <td>3.0</td>\n",
              "      <td>1</td>\n",
              "      <td>0</td>\n",
              "      <td>1</td>\n",
              "    </tr>\n",
              "    <tr>\n",
              "      <th>-Andres Galarraga</th>\n",
              "      <td>321.0</td>\n",
              "      <td>87.0</td>\n",
              "      <td>10.0</td>\n",
              "      <td>39.0</td>\n",
              "      <td>42.0</td>\n",
              "      <td>30.0</td>\n",
              "      <td>2.0</td>\n",
              "      <td>396.0</td>\n",
              "      <td>101.0</td>\n",
              "      <td>12.0</td>\n",
              "      <td>48.0</td>\n",
              "      <td>46.0</td>\n",
              "      <td>33.0</td>\n",
              "      <td>805.0</td>\n",
              "      <td>40.0</td>\n",
              "      <td>4.0</td>\n",
              "      <td>1</td>\n",
              "      <td>0</td>\n",
              "      <td>1</td>\n",
              "    </tr>\n",
              "    <tr>\n",
              "      <th>-Alfredo Griffin</th>\n",
              "      <td>594.0</td>\n",
              "      <td>169.0</td>\n",
              "      <td>4.0</td>\n",
              "      <td>74.0</td>\n",
              "      <td>51.0</td>\n",
              "      <td>35.0</td>\n",
              "      <td>11.0</td>\n",
              "      <td>4408.0</td>\n",
              "      <td>1133.0</td>\n",
              "      <td>19.0</td>\n",
              "      <td>501.0</td>\n",
              "      <td>336.0</td>\n",
              "      <td>194.0</td>\n",
              "      <td>282.0</td>\n",
              "      <td>421.0</td>\n",
              "      <td>25.0</td>\n",
              "      <td>0</td>\n",
              "      <td>1</td>\n",
              "      <td>0</td>\n",
              "    </tr>\n",
              "  </tbody>\n",
              "</table>\n",
              "</div>"
            ],
            "text/plain": [
              "                   AtBat   Hits  HmRun  ...  League_N  Division_W  NewLeague_N\n",
              "-Alan Ashby        315.0   81.0    7.0  ...         1           1            1\n",
              "-Alvin Davis       479.0  130.0   18.0  ...         0           1            0\n",
              "-Andre Dawson      496.0  141.0   20.0  ...         1           0            1\n",
              "-Andres Galarraga  321.0   87.0   10.0  ...         1           0            1\n",
              "-Alfredo Griffin   594.0  169.0    4.0  ...         0           1            0\n",
              "\n",
              "[5 rows x 19 columns]"
            ]
          },
          "metadata": {
            "tags": []
          },
          "execution_count": 9
        }
      ]
    },
    {
      "cell_type": "code",
      "metadata": {
        "id": "g5ZMBqyb0IE3",
        "colab_type": "code",
        "colab": {}
      },
      "source": [
        "# Create 100 alpha parameters to tune model\n",
        "alphas = 10**np.linspace(start=10, stop=-2, num=100)*0.5  # Return evenly spaced numbers over a specified interval.\n",
        "#alphas"
      ],
      "execution_count": 0,
      "outputs": []
    },
    {
      "cell_type": "code",
      "metadata": {
        "id": "g51DjY8YAqqs",
        "colab_type": "code",
        "colab": {}
      },
      "source": [
        "# Split out data into Test and Training Datasets\n",
        "X_train, X_test , y_train, y_test = train_test_split(X, y, test_size=0.5, random_state=1)"
      ],
      "execution_count": 0,
      "outputs": []
    },
    {
      "cell_type": "code",
      "metadata": {
        "id": "kgWQY2KI0II_",
        "colab_type": "code",
        "colab": {}
      },
      "source": [
        "lasso = Lasso(max_iter = 10000, normalize = True)\n",
        "coeffs = []\n",
        "\n",
        "for a in alphas:\n",
        "    lasso.set_params(alpha=a)\n",
        "    lasso.fit(scale(X_train), y_train)\n",
        "    coeffs.append(lasso.coef_)"
      ],
      "execution_count": 0,
      "outputs": []
    },
    {
      "cell_type": "code",
      "metadata": {
        "id": "0rbMLM2o_ytB",
        "colab_type": "code",
        "colab": {
          "base_uri": "https://localhost:8080/",
          "height": 1000
        },
        "outputId": "655e2da6-13fc-4162-e3ae-758cd62b894f"
      },
      "source": [
        "coeffs"
      ],
      "execution_count": 13,
      "outputs": [
        {
          "output_type": "execute_result",
          "data": {
            "text/plain": [
              "[array([ 0.,  0.,  0.,  0.,  0.,  0.,  0.,  0.,  0.,  0.,  0.,  0.,  0.,\n",
              "         0., -0.,  0., -0., -0., -0.]),\n",
              " array([ 0.,  0.,  0.,  0.,  0.,  0.,  0.,  0.,  0.,  0.,  0.,  0.,  0.,\n",
              "         0., -0.,  0., -0., -0., -0.]),\n",
              " array([ 0.,  0.,  0.,  0.,  0.,  0.,  0.,  0.,  0.,  0.,  0.,  0.,  0.,\n",
              "         0., -0.,  0., -0., -0., -0.]),\n",
              " array([ 0.,  0.,  0.,  0.,  0.,  0.,  0.,  0.,  0.,  0.,  0.,  0.,  0.,\n",
              "         0., -0.,  0., -0., -0., -0.]),\n",
              " array([ 0.,  0.,  0.,  0.,  0.,  0.,  0.,  0.,  0.,  0.,  0.,  0.,  0.,\n",
              "         0., -0.,  0., -0., -0., -0.]),\n",
              " array([ 0.,  0.,  0.,  0.,  0.,  0.,  0.,  0.,  0.,  0.,  0.,  0.,  0.,\n",
              "         0., -0.,  0., -0., -0., -0.]),\n",
              " array([ 0.,  0.,  0.,  0.,  0.,  0.,  0.,  0.,  0.,  0.,  0.,  0.,  0.,\n",
              "         0., -0.,  0., -0., -0., -0.]),\n",
              " array([ 0.,  0.,  0.,  0.,  0.,  0.,  0.,  0.,  0.,  0.,  0.,  0.,  0.,\n",
              "         0., -0.,  0., -0., -0., -0.]),\n",
              " array([ 0.,  0.,  0.,  0.,  0.,  0.,  0.,  0.,  0.,  0.,  0.,  0.,  0.,\n",
              "         0., -0.,  0., -0., -0., -0.]),\n",
              " array([ 0.,  0.,  0.,  0.,  0.,  0.,  0.,  0.,  0.,  0.,  0.,  0.,  0.,\n",
              "         0., -0.,  0., -0., -0., -0.]),\n",
              " array([ 0.,  0.,  0.,  0.,  0.,  0.,  0.,  0.,  0.,  0.,  0.,  0.,  0.,\n",
              "         0., -0.,  0., -0., -0., -0.]),\n",
              " array([ 0.,  0.,  0.,  0.,  0.,  0.,  0.,  0.,  0.,  0.,  0.,  0.,  0.,\n",
              "         0., -0.,  0., -0., -0., -0.]),\n",
              " array([ 0.,  0.,  0.,  0.,  0.,  0.,  0.,  0.,  0.,  0.,  0.,  0.,  0.,\n",
              "         0., -0.,  0., -0., -0., -0.]),\n",
              " array([ 0.,  0.,  0.,  0.,  0.,  0.,  0.,  0.,  0.,  0.,  0.,  0.,  0.,\n",
              "         0., -0.,  0., -0., -0., -0.]),\n",
              " array([ 0.,  0.,  0.,  0.,  0.,  0.,  0.,  0.,  0.,  0.,  0.,  0.,  0.,\n",
              "         0., -0.,  0., -0., -0., -0.]),\n",
              " array([ 0.,  0.,  0.,  0.,  0.,  0.,  0.,  0.,  0.,  0.,  0.,  0.,  0.,\n",
              "         0., -0.,  0., -0., -0., -0.]),\n",
              " array([ 0.,  0.,  0.,  0.,  0.,  0.,  0.,  0.,  0.,  0.,  0.,  0.,  0.,\n",
              "         0., -0.,  0., -0., -0., -0.]),\n",
              " array([ 0.,  0.,  0.,  0.,  0.,  0.,  0.,  0.,  0.,  0.,  0.,  0.,  0.,\n",
              "         0., -0.,  0., -0., -0., -0.]),\n",
              " array([ 0.,  0.,  0.,  0.,  0.,  0.,  0.,  0.,  0.,  0.,  0.,  0.,  0.,\n",
              "         0., -0.,  0., -0., -0., -0.]),\n",
              " array([ 0.,  0.,  0.,  0.,  0.,  0.,  0.,  0.,  0.,  0.,  0.,  0.,  0.,\n",
              "         0., -0.,  0., -0., -0., -0.]),\n",
              " array([ 0.,  0.,  0.,  0.,  0.,  0.,  0.,  0.,  0.,  0.,  0.,  0.,  0.,\n",
              "         0., -0.,  0., -0., -0., -0.]),\n",
              " array([ 0.,  0.,  0.,  0.,  0.,  0.,  0.,  0.,  0.,  0.,  0.,  0.,  0.,\n",
              "         0., -0.,  0., -0., -0., -0.]),\n",
              " array([ 0.,  0.,  0.,  0.,  0.,  0.,  0.,  0.,  0.,  0.,  0.,  0.,  0.,\n",
              "         0., -0.,  0., -0., -0., -0.]),\n",
              " array([ 0.,  0.,  0.,  0.,  0.,  0.,  0.,  0.,  0.,  0.,  0.,  0.,  0.,\n",
              "         0., -0.,  0., -0., -0., -0.]),\n",
              " array([ 0.,  0.,  0.,  0.,  0.,  0.,  0.,  0.,  0.,  0.,  0.,  0.,  0.,\n",
              "         0., -0.,  0., -0., -0., -0.]),\n",
              " array([ 0.,  0.,  0.,  0.,  0.,  0.,  0.,  0.,  0.,  0.,  0.,  0.,  0.,\n",
              "         0., -0.,  0., -0., -0., -0.]),\n",
              " array([ 0.,  0.,  0.,  0.,  0.,  0.,  0.,  0.,  0.,  0.,  0.,  0.,  0.,\n",
              "         0., -0.,  0., -0., -0., -0.]),\n",
              " array([ 0.,  0.,  0.,  0.,  0.,  0.,  0.,  0.,  0.,  0.,  0.,  0.,  0.,\n",
              "         0., -0.,  0., -0., -0., -0.]),\n",
              " array([ 0.,  0.,  0.,  0.,  0.,  0.,  0.,  0.,  0.,  0.,  0.,  0.,  0.,\n",
              "         0., -0.,  0., -0., -0., -0.]),\n",
              " array([ 0.,  0.,  0.,  0.,  0.,  0.,  0.,  0.,  0.,  0.,  0.,  0.,  0.,\n",
              "         0., -0.,  0., -0., -0., -0.]),\n",
              " array([ 0.,  0.,  0.,  0.,  0.,  0.,  0.,  0.,  0.,  0.,  0.,  0.,  0.,\n",
              "         0., -0.,  0., -0., -0., -0.]),\n",
              " array([ 0.,  0.,  0.,  0.,  0.,  0.,  0.,  0.,  0.,  0.,  0.,  0.,  0.,\n",
              "         0., -0.,  0., -0., -0., -0.]),\n",
              " array([ 0.,  0.,  0.,  0.,  0.,  0.,  0.,  0.,  0.,  0.,  0.,  0.,  0.,\n",
              "         0., -0.,  0., -0., -0., -0.]),\n",
              " array([ 0.,  0.,  0.,  0.,  0.,  0.,  0.,  0.,  0.,  0.,  0.,  0.,  0.,\n",
              "         0., -0.,  0., -0., -0., -0.]),\n",
              " array([ 0.,  0.,  0.,  0.,  0.,  0.,  0.,  0.,  0.,  0.,  0.,  0.,  0.,\n",
              "         0., -0.,  0., -0., -0., -0.]),\n",
              " array([ 0.,  0.,  0.,  0.,  0.,  0.,  0.,  0.,  0.,  0.,  0.,  0.,  0.,\n",
              "         0., -0.,  0., -0., -0., -0.]),\n",
              " array([ 0.,  0.,  0.,  0.,  0.,  0.,  0.,  0.,  0.,  0.,  0.,  0.,  0.,\n",
              "         0., -0.,  0., -0., -0., -0.]),\n",
              " array([ 0.,  0.,  0.,  0.,  0.,  0.,  0.,  0.,  0.,  0.,  0.,  0.,  0.,\n",
              "         0., -0.,  0., -0., -0., -0.]),\n",
              " array([ 0.,  0.,  0.,  0.,  0.,  0.,  0.,  0.,  0.,  0.,  0.,  0.,  0.,\n",
              "         0., -0.,  0., -0., -0., -0.]),\n",
              " array([ 0.,  0.,  0.,  0.,  0.,  0.,  0.,  0.,  0.,  0.,  0.,  0.,  0.,\n",
              "         0., -0.,  0., -0., -0., -0.]),\n",
              " array([ 0.,  0.,  0.,  0.,  0.,  0.,  0.,  0.,  0.,  0.,  0.,  0.,  0.,\n",
              "         0., -0.,  0., -0., -0., -0.]),\n",
              " array([ 0.,  0.,  0.,  0.,  0.,  0.,  0.,  0.,  0.,  0.,  0.,  0.,  0.,\n",
              "         0., -0.,  0., -0., -0., -0.]),\n",
              " array([ 0.,  0.,  0.,  0.,  0.,  0.,  0.,  0.,  0.,  0.,  0.,  0.,  0.,\n",
              "         0., -0.,  0., -0., -0., -0.]),\n",
              " array([ 0.,  0.,  0.,  0.,  0.,  0.,  0.,  0.,  0.,  0.,  0.,  0.,  0.,\n",
              "         0., -0.,  0., -0., -0., -0.]),\n",
              " array([ 0.,  0.,  0.,  0.,  0.,  0.,  0.,  0.,  0.,  0.,  0.,  0.,  0.,\n",
              "         0., -0.,  0., -0., -0., -0.]),\n",
              " array([ 0.,  0.,  0.,  0.,  0.,  0.,  0.,  0.,  0.,  0.,  0.,  0.,  0.,\n",
              "         0., -0.,  0., -0., -0., -0.]),\n",
              " array([ 0.,  0.,  0.,  0.,  0.,  0.,  0.,  0.,  0.,  0.,  0.,  0.,  0.,\n",
              "         0., -0.,  0., -0., -0., -0.]),\n",
              " array([ 0.,  0.,  0.,  0.,  0.,  0.,  0.,  0.,  0.,  0.,  0.,  0.,  0.,\n",
              "         0., -0.,  0., -0., -0., -0.]),\n",
              " array([ 0.,  0.,  0.,  0.,  0.,  0.,  0.,  0.,  0.,  0.,  0.,  0.,  0.,\n",
              "         0., -0.,  0., -0., -0., -0.]),\n",
              " array([ 0.,  0.,  0.,  0.,  0.,  0.,  0.,  0.,  0.,  0.,  0.,  0.,  0.,\n",
              "         0., -0.,  0., -0., -0., -0.]),\n",
              " array([ 0.,  0.,  0.,  0.,  0.,  0.,  0.,  0.,  0.,  0.,  0.,  0.,  0.,\n",
              "         0., -0.,  0., -0., -0., -0.]),\n",
              " array([ 0.,  0.,  0.,  0.,  0.,  0.,  0.,  0.,  0.,  0.,  0.,  0.,  0.,\n",
              "         0., -0.,  0., -0., -0., -0.]),\n",
              " array([ 0.,  0.,  0.,  0.,  0.,  0.,  0.,  0.,  0.,  0.,  0.,  0.,  0.,\n",
              "         0., -0.,  0., -0., -0., -0.]),\n",
              " array([ 0.,  0.,  0.,  0.,  0.,  0.,  0.,  0.,  0.,  0.,  0.,  0.,  0.,\n",
              "         0., -0.,  0., -0., -0., -0.]),\n",
              " array([ 0.,  0.,  0.,  0.,  0.,  0.,  0.,  0.,  0.,  0.,  0.,  0.,  0.,\n",
              "         0., -0.,  0., -0., -0., -0.]),\n",
              " array([ 0.,  0.,  0.,  0.,  0.,  0.,  0.,  0.,  0.,  0.,  0.,  0.,  0.,\n",
              "         0., -0.,  0., -0., -0., -0.]),\n",
              " array([ 0.,  0.,  0.,  0.,  0.,  0.,  0.,  0.,  0.,  0.,  0.,  0.,  0.,\n",
              "         0., -0.,  0., -0., -0., -0.]),\n",
              " array([ 0.,  0.,  0.,  0.,  0.,  0.,  0.,  0.,  0.,  0.,  0.,  0.,  0.,\n",
              "         0., -0.,  0., -0., -0., -0.]),\n",
              " array([ 0.,  0.,  0.,  0.,  0.,  0.,  0.,  0.,  0.,  0.,  0.,  0.,  0.,\n",
              "         0., -0.,  0., -0., -0., -0.]),\n",
              " array([ 0.,  0.,  0.,  0.,  0.,  0.,  0.,  0.,  0.,  0.,  0.,  0.,  0.,\n",
              "         0., -0.,  0., -0., -0., -0.]),\n",
              " array([ 0.,  0.,  0.,  0.,  0.,  0.,  0.,  0.,  0.,  0.,  0.,  0.,  0.,\n",
              "         0., -0.,  0., -0., -0., -0.]),\n",
              " array([ 0.,  0.,  0.,  0.,  0.,  0.,  0.,  0.,  0.,  0.,  0.,  0.,  0.,\n",
              "         0., -0.,  0., -0., -0., -0.]),\n",
              " array([ 0.,  0.,  0.,  0.,  0.,  0.,  0.,  0.,  0.,  0.,  0.,  0.,  0.,\n",
              "         0., -0.,  0., -0., -0., -0.]),\n",
              " array([ 0.,  0.,  0.,  0.,  0.,  0.,  0.,  0.,  0.,  0.,  0.,  0.,  0.,\n",
              "         0., -0.,  0., -0., -0., -0.]),\n",
              " array([ 0.,  0.,  0.,  0.,  0.,  0.,  0.,  0.,  0.,  0.,  0.,  0.,  0.,\n",
              "         0., -0.,  0., -0., -0., -0.]),\n",
              " array([ 0.,  0.,  0.,  0.,  0.,  0.,  0.,  0.,  0.,  0.,  0.,  0.,  0.,\n",
              "         0., -0.,  0., -0., -0., -0.]),\n",
              " array([ 0.,  0.,  0.,  0.,  0.,  0.,  0.,  0.,  0.,  0.,  0.,  0.,  0.,\n",
              "         0., -0.,  0., -0., -0., -0.]),\n",
              " array([ 0.,  0.,  0.,  0.,  0.,  0.,  0.,  0.,  0.,  0.,  0.,  0.,  0.,\n",
              "         0., -0.,  0., -0., -0., -0.]),\n",
              " array([ 0.,  0.,  0.,  0.,  0.,  0.,  0.,  0.,  0.,  0.,  0.,  0.,  0.,\n",
              "         0., -0.,  0., -0., -0., -0.]),\n",
              " array([ 0.        ,  0.        ,  0.        ,  0.        ,  0.        ,\n",
              "         0.        ,  0.        ,  0.        ,  0.        ,  0.        ,\n",
              "         0.        , 27.30814552,  0.        ,  0.        ,  0.        ,\n",
              "         0.        , -0.        , -0.        , -0.        ]),\n",
              " array([ 0.        ,  0.        ,  0.        ,  0.        , 16.21874807,\n",
              "         0.        ,  0.        ,  0.        ,  0.        ,  0.        ,\n",
              "         0.        , 78.64702199,  0.        , 11.65472819,  0.        ,\n",
              "         0.        , -0.        , -0.        , -0.        ]),\n",
              " array([  0.        ,   0.        ,   0.        ,   0.        ,\n",
              "         23.76901185,  20.59410571,   0.        ,   0.        ,\n",
              "          0.        ,   0.        ,   0.        , 109.67659281,\n",
              "          0.        ,  42.77916013,   0.        ,   0.        ,\n",
              "          0.        ,  -0.        ,   0.        ]),\n",
              " array([  0.        ,   5.72331053,   0.        ,   0.        ,\n",
              "         25.18296139,  35.64752292,   0.        ,   0.        ,\n",
              "          0.        ,   0.        ,   0.        , 133.9643413 ,\n",
              "          0.        ,  65.5856131 ,   0.        ,   0.        ,\n",
              "          0.        ,  -0.        ,   0.        ]),\n",
              " array([  0.        ,  16.37535146,   0.        ,   0.        ,\n",
              "         22.02316299,  45.45893477,   0.        ,   0.        ,\n",
              "          0.        ,   0.        ,   0.        , 153.30272828,\n",
              "          0.        ,  82.13330121,   0.        ,   0.        ,\n",
              "          0.        ,  -0.        ,   0.        ]),\n",
              " array([  0.        ,  26.49873628,   0.        ,   0.        ,\n",
              "         16.57045063,  53.67416913,   0.        ,   0.        ,\n",
              "          0.        ,   0.        ,   0.        , 169.25946268,\n",
              "          0.        ,  93.11497527,   0.        ,   0.        ,\n",
              "          0.        , -10.52948452,   0.        ]),\n",
              " array([  0.        ,  37.18720932,   0.        ,   0.        ,\n",
              "          8.83904518,  59.62629051,   0.        ,   0.        ,\n",
              "          0.        ,   7.42824961,   0.        , 175.7625429 ,\n",
              "          0.        , 100.67055006,   0.        ,  -0.        ,\n",
              "          0.        , -25.60018677,   0.        ]),\n",
              " array([  0.        ,  45.67904977,   0.        ,   0.        ,\n",
              "          2.59146225,  63.92175154,   0.        ,   0.        ,\n",
              "          0.        ,  15.11224577,   0.        , 178.87723905,\n",
              "          0.        , 106.47304228,  -0.        ,  -0.        ,\n",
              "          0.        , -36.98832813,   0.        ]),\n",
              " array([  0.        ,  50.58547315,   0.        ,   0.        ,\n",
              "          0.        ,  67.14332223,   0.        ,   0.        ,\n",
              "          0.        ,  19.81444573,   0.        , 181.70696617,\n",
              "          0.        , 110.76644749,  -0.        ,  -0.        ,\n",
              "          0.        , -45.4381206 ,   0.        ]),\n",
              " array([ -0.        ,  52.91193199,   0.        ,   0.        ,\n",
              "          0.        ,  69.5524154 ,   0.        ,   0.        ,\n",
              "          0.        ,  22.31849773,   0.        , 184.31299376,\n",
              "          0.        , 113.92223607,  -0.        ,  -0.        ,\n",
              "          0.        , -51.67940152,   0.        ]),\n",
              " array([-0.00000000e+00,  5.46886888e+01, -0.00000000e+00,  0.00000000e+00,\n",
              "         0.00000000e+00,  7.13736524e+01,  0.00000000e+00,  0.00000000e+00,\n",
              "         0.00000000e+00,  2.43258371e+01,  0.00000000e+00,  1.86194646e+02,\n",
              "         0.00000000e+00,  1.16289749e+02, -0.00000000e+00, -0.00000000e+00,\n",
              "         1.44062655e-01, -5.64051973e+01,  0.00000000e+00]),\n",
              " array([-22.19022128,  77.30126494,  -0.        ,   0.        ,\n",
              "          0.        ,  73.56785762,  -0.        ,   0.        ,\n",
              "          0.        ,  32.37362388,   0.        , 182.40293921,\n",
              "          0.        , 117.75922224,  -0.        ,  -0.        ,\n",
              "          5.24252664, -59.84514934,   0.        ]),\n",
              " array([-109.86378502,  160.70983507,   -0.        ,    0.        ,\n",
              "           0.        ,   77.8340041 ,   -0.        ,   -0.        ,\n",
              "           0.        ,   48.55399063,    0.        ,  171.31037294,\n",
              "           0.        ,  119.88784032,    0.        ,   -0.        ,\n",
              "          10.12369501,  -61.5330816 ,    0.        ]),\n",
              " array([-179.92049463,  222.59433307,   -5.22780484,   -0.        ,\n",
              "           8.98849082,   81.06705133,   -0.        ,   -0.        ,\n",
              "           0.        ,   64.14443106,    0.        ,  159.06050658,\n",
              "          -0.        ,  121.6477298 ,    1.97692661,    0.        ,\n",
              "          13.37090674,  -61.99227836,    0.        ]),\n",
              " array([-241.94570187,  269.13037657,  -17.99825048,   -0.        ,\n",
              "          30.76537921,   83.65991225,   -0.        ,   -0.        ,\n",
              "           0.        ,   83.46851214,    0.        ,  142.06911796,\n",
              "          -0.        ,  123.60368732,    9.09795359,   -0.        ,\n",
              "          14.79004117,  -60.66513701,    0.        ]),\n",
              " array([-287.8156972 ,  301.14685271,  -26.68637542,   -0.        ,\n",
              "          45.09854456,   88.26816835,   -0.388033  ,  -25.26268452,\n",
              "           0.        ,   87.88854423,   24.70560075,  149.29029334,\n",
              "         -10.46585182,  124.43952677,   14.92237504,   -0.        ,\n",
              "          16.12983551,  -59.81521091,   -0.        ]),\n",
              " array([-313.55240606,  312.10238402,  -30.31279855,   -0.        ,\n",
              "          52.37999142,   92.31727336,   -0.        , -145.98387089,\n",
              "           0.        ,   55.74298281,  136.33115181,  210.35104014,\n",
              "         -33.64288789,  124.28960192,   21.94846255,   -1.663119  ,\n",
              "          18.302852  ,  -59.11142122,   -0.        ]),\n",
              " array([-322.58068856,  317.01227627,  -28.7614177 ,  -14.19927095,\n",
              "          59.01885561,   96.55906138,   -0.        , -304.53637674,\n",
              "          96.12992384,   49.08044172,  212.00298178,  211.65842907,\n",
              "         -42.81728521,  124.79527654,   30.9451664 ,   -8.38039556,\n",
              "          24.35172176,  -58.70114492,   -4.87648138]),\n",
              " array([-311.68429109,  288.47379768,  -31.92469135,  -11.78353614,\n",
              "          71.81302506,   92.75907844,    0.        , -548.4922801 ,\n",
              "         402.76306554,   96.9594971 ,  185.55045517,  114.53020873,\n",
              "         -23.18503337,  125.14283672,   39.58536009,  -16.17336297,\n",
              "          34.96795293,  -57.76360025,  -14.43562872]),\n",
              " array([-306.44581638,  271.92234714,  -33.60716917,  -11.68591992,\n",
              "          80.21875125,   91.02131645,    0.        , -712.07072371,\n",
              "         600.0834713 ,  125.85237007,  175.21524512,   55.15167475,\n",
              "         -12.18561792,  125.45368803,   45.86874822,  -21.6544825 ,\n",
              "          42.65924258,  -57.15536756,  -21.4487206 ]),\n",
              " array([-2.97454824e+02,  2.55318723e+02, -3.42185315e+01, -9.81177048e+00,\n",
              "         8.49957068e+01,  8.86676531e+01,  1.00701043e+01, -8.73263688e+02,\n",
              "         7.86749466e+02,  1.54479590e+02,  1.59398692e+02,  0.00000000e+00,\n",
              "        -4.40679022e-01,  1.25551863e+02,  5.07464770e+01, -2.56889203e+01,\n",
              "         4.84927231e+01, -5.71220830e+01, -2.62067932e+01]),\n",
              " array([-294.62284495,  251.25000567,  -32.27129109,  -12.02068851,\n",
              "          84.42926674,   89.15833575,   17.22857346, -964.71132988,\n",
              "         857.25713786,  154.79887587,  173.6602738 ,    0.        ,\n",
              "          -0.        ,  125.46502762,   54.31272111,  -28.27411718,\n",
              "          52.43091253,  -57.42533478,  -29.48447609]),\n",
              " array([ -292.6524927 ,   248.357897  ,   -30.80216104,   -13.80013129,\n",
              "           84.0201934 ,    89.63934499,    22.63494105, -1033.15075649,\n",
              "          909.62920587,   154.98983727,   185.01449984,     0.        ,\n",
              "           -0.        ,   125.40777899,    57.01015032,   -30.22622986,\n",
              "           55.40878344,   -57.65354942,   -31.96830549]),\n",
              " array([ -291.15915325,   246.16856038,   -29.6896915 ,   -15.14795858,\n",
              "           83.71012453,    90.00303321,    26.72730959, -1084.94491368,\n",
              "          949.25697077,   155.13217323,   193.61498712,    -0.        ,\n",
              "           -0.        ,   125.36446284,    59.05094817,   -31.70319745,\n",
              "           57.66166915,   -57.82626922,   -33.84729856]),\n",
              " array([ -290.02413812,   244.50709837,   -28.84697914,   -16.16777232,\n",
              "           83.47432206,    90.27798358,    29.82669168, -1124.16477864,\n",
              "          979.26330343,   155.23901099,   200.12862108,    -0.        ,\n",
              "           -0.        ,   125.33145043,    60.5954132 ,   -32.82116163,\n",
              "           59.36638964,   -57.9571323 ,   -35.26883445]),\n",
              " array([-2.89067873e+02,  2.40452712e+02, -2.97656969e+01, -1.58700905e+01,\n",
              "         8.59316021e+01,  9.07342411e+01,  3.27755802e+01, -1.16254355e+03,\n",
              "         1.03283872e+03,  1.67968633e+02,  1.95400993e+02, -2.51849145e+01,\n",
              "         2.66183135e-01,  1.25483964e+02,  6.18426834e+01, -3.39033413e+01,\n",
              "         6.09069006e+01, -5.78807396e+01, -3.65522255e+01]),\n",
              " array([ -283.65676739,   230.16411628,   -31.77650158,   -12.29707969,\n",
              "           90.08549928,    88.08629119,    35.81697164, -1219.79545467,\n",
              "         1127.91793606,   191.15204665,   169.23711469,   -70.0721359 ,\n",
              "           10.46521853,   125.62871358,    62.80501298,   -34.96896826,\n",
              "           62.33998937,   -57.63648635,   -37.62253182]),\n",
              " array([ -279.50226753,   222.27632976,   -33.31519838,    -9.55390917,\n",
              "           93.2563318 ,    86.06003622,    38.1366556 , -1263.55894176,\n",
              "         1200.62323092,   208.87640043,   149.20920008,  -104.37897493,\n",
              "           18.26178598,   125.73771363,    63.53754876,   -35.78239013,\n",
              "           63.43071515,   -57.45004914,   -38.43554093]),\n",
              " array([ -276.35526939,   216.30287485,   -34.47998319,    -7.47639327,\n",
              "           95.65632743,    84.52572322,    39.89291567, -1296.69463307,\n",
              "         1255.66966933,   222.29444547,   134.04538238,  -130.35004925,\n",
              "           24.16480709,   125.82009917,    64.09198859,   -36.39818024,\n",
              "           64.25620809,   -57.30895262,   -39.05072576]),\n",
              " array([ -273.97221465,   211.78034535,   -35.36157194,    -5.90343843,\n",
              "           97.47263117,    83.36419099,    41.22233047, -1321.77801479,\n",
              "         1297.33773362,   232.45060577,   122.56675388,  -150.00730464,\n",
              "           28.63323046,   125.88238097,    64.51157713,   -36.86427211,\n",
              "           64.88089352,   -57.20218156,   -39.51619054]),\n",
              " array([ -272.167686  ,   208.35636755,   -36.02881255,    -4.7125212 ,\n",
              "           98.84719001,    82.48487908,    42.22863028, -1340.7656561 ,\n",
              "         1328.87852511,   240.13776009,   113.87782027,  -164.88555026,\n",
              "           32.0156646 ,   125.92946523,    64.82911082,   -37.21705385,\n",
              "           65.35361652,   -57.12138584,   -39.86837202])]"
            ]
          },
          "metadata": {
            "tags": []
          },
          "execution_count": 13
        }
      ]
    },
    {
      "cell_type": "code",
      "metadata": {
        "id": "jOY3jC5J_qz9",
        "colab_type": "code",
        "colab": {
          "base_uri": "https://localhost:8080/",
          "height": 374
        },
        "outputId": "4dc54380-e502-4d5d-8488-edbeb5ddc416"
      },
      "source": [
        "lassopred = lasso.predict(X_test)\n",
        "\n",
        "print(pd.Series(lasso.coef_, index = X.columns)) # Print coefficients\n",
        "print(mean_squared_error(y_test, lassopred))     # Calculate the test MSE"
      ],
      "execution_count": 14,
      "outputs": [
        {
          "output_type": "stream",
          "text": [
            "AtBat          -272.167686\n",
            "Hits            208.356368\n",
            "HmRun           -36.028813\n",
            "Runs             -4.712521\n",
            "RBI              98.847190\n",
            "Walks            82.484879\n",
            "Years            42.228630\n",
            "CAtBat        -1340.765656\n",
            "CHits          1328.878525\n",
            "CHmRun          240.137760\n",
            "CRuns           113.877820\n",
            "CRBI           -164.885550\n",
            "CWalks           32.015665\n",
            "PutOuts         125.929465\n",
            "Assists          64.829111\n",
            "Errors          -37.217054\n",
            "League_N         65.353617\n",
            "Division_W      -57.121386\n",
            "NewLeague_N     -39.868372\n",
            "dtype: float64\n",
            "11787020747676.246\n"
          ],
          "name": "stdout"
        }
      ]
    },
    {
      "cell_type": "markdown",
      "metadata": {
        "id": "m_e96j6h_2YE",
        "colab_type": "text"
      },
      "source": [
        "So far, none of the coefficients have been minimized to zero - all variables are still included in the model to predict Salary."
      ]
    },
    {
      "cell_type": "code",
      "metadata": {
        "id": "KHkKWW3HFavw",
        "colab_type": "code",
        "colab": {
          "base_uri": "https://localhost:8080/",
          "height": 34
        },
        "outputId": "99cd4f82-bbaf-4f21-b70f-a8a309eab792"
      },
      "source": [
        "np.shape(coeffs)"
      ],
      "execution_count": 15,
      "outputs": [
        {
          "output_type": "execute_result",
          "data": {
            "text/plain": [
              "(100, 19)"
            ]
          },
          "metadata": {
            "tags": []
          },
          "execution_count": 15
        }
      ]
    },
    {
      "cell_type": "code",
      "metadata": {
        "id": "VSs2kMTu2WAA",
        "colab_type": "code",
        "colab": {
          "base_uri": "https://localhost:8080/",
          "height": 329
        },
        "outputId": "9c25d39d-f4e4-4ec4-98b4-4bfe6af1d119"
      },
      "source": [
        "ax = plt.gca()\n",
        "ax.plot(alphas*2, coeffs)\n",
        "ax.set_xscale('log')\n",
        "plt.axis('tight')\n",
        "plt.xlabel('Alpha Parameter')\n",
        "plt.ylabel('Weights')\n",
        "plt.suptitle(\"Visualization of Coefficient Trajectories\", fontsize=10)"
      ],
      "execution_count": 16,
      "outputs": [
        {
          "output_type": "execute_result",
          "data": {
            "text/plain": [
              "Text(0.5, 0.98, 'Visualization of Coefficient Trajectories')"
            ]
          },
          "metadata": {
            "tags": []
          },
          "execution_count": 16
        },
        {
          "output_type": "display_data",
          "data": {
            "image/png": "[encoded data removed]",
            "text/plain": [
              "<Figure size 432x288 with 1 Axes>"
            ]
          },
          "metadata": {
            "tags": []
          }
        }
      ]
    },
    {
      "cell_type": "markdown",
      "metadata": {
        "id": "w1mSo-lmAAq1",
        "colab_type": "text"
      },
      "source": [
        "Looking at the visualization of the coefficient trajectories, we can see that for certian alpha parameters, at least some of the coefficients tend towards zero, suggesting that they can be removed from the model as predictors of Salary."
      ]
    },
    {
      "cell_type": "code",
      "metadata": {
        "id": "gvj11APk2W_c",
        "colab_type": "code",
        "colab": {
          "base_uri": "https://localhost:8080/",
          "height": 231
        },
        "outputId": "b4e2caaa-4247-47c7-e580-6bc14d13b4be"
      },
      "source": [
        "lassocv = LassoCV(alphas = None, \n",
        "                  cv = 10, \n",
        "                  max_iter = 100000, \n",
        "                  normalize = True)\n",
        "lassocv.fit(X_train, y_train)\n",
        "\n",
        "lasso.set_params(alpha=lassocv.alpha_)\n",
        "lasso.fit(X_train, y_train)\n",
        "mean_squared_error(y_test, lasso.predict(X_test))"
      ],
      "execution_count": 17,
      "outputs": [
        {
          "output_type": "stream",
          "text": [
            "/usr/local/lib/python3.6/dist-packages/sklearn/linear_model/coordinate_descent.py:1100: DataConversionWarning: A column-vector y was passed when a 1d array was expected. Please change the shape of y to (n_samples, ), for example using ravel().\n",
            "  y = column_or_1d(y, warn=True)\n"
          ],
          "name": "stderr"
        },
        {
          "output_type": "execute_result",
          "data": {
            "text/plain": [
              "104960.65853895503"
            ]
          },
          "metadata": {
            "tags": []
          },
          "execution_count": 17
        }
      ]
    },
    {
      "cell_type": "code",
      "metadata": {
        "id": "K_IF1N55AvF-",
        "colab_type": "code",
        "colab": {
          "base_uri": "https://localhost:8080/",
          "height": 34
        },
        "outputId": "d004c075-2908-4b45-fb3f-6b8b3af11aeb"
      },
      "source": [
        "lassocv.alpha_"
      ],
      "execution_count": 19,
      "outputs": [
        {
          "output_type": "execute_result",
          "data": {
            "text/plain": [
              "2.402973015740077"
            ]
          },
          "metadata": {
            "tags": []
          },
          "execution_count": 19
        }
      ]
    },
    {
      "cell_type": "markdown",
      "metadata": {
        "id": "076WZFP5ASyw",
        "colab_type": "text"
      },
      "source": [
        "After Cross-Validation, we find that the optimal alpha is 2.403, and with this value of alpha, the MSE is reduced as compared to before cross-validation."
      ]
    },
    {
      "cell_type": "code",
      "metadata": {
        "id": "Htrd_ChWCMWx",
        "colab_type": "code",
        "colab": {
          "base_uri": "https://localhost:8080/",
          "height": 357
        },
        "outputId": "d2be2c21-996b-4bf6-914b-d2432297eadc"
      },
      "source": [
        "# Check coefficients to determine how many Predictors are left\n",
        "pd.Series(lasso.coef_, index=X.columns)"
      ],
      "execution_count": 18,
      "outputs": [
        {
          "output_type": "execute_result",
          "data": {
            "text/plain": [
              "AtBat           0.000000\n",
              "Hits            1.082446\n",
              "HmRun           0.000000\n",
              "Runs            0.000000\n",
              "RBI             0.000000\n",
              "Walks           2.906388\n",
              "Years           0.000000\n",
              "CAtBat          0.000000\n",
              "CHits           0.000000\n",
              "CHmRun          0.219367\n",
              "CRuns           0.000000\n",
              "CRBI            0.513975\n",
              "CWalks          0.000000\n",
              "PutOuts         0.368401\n",
              "Assists        -0.000000\n",
              "Errors         -0.000000\n",
              "League_N        0.000000\n",
              "Division_W    -89.064338\n",
              "NewLeague_N     0.000000\n",
              "dtype: float64"
            ]
          },
          "metadata": {
            "tags": []
          },
          "execution_count": 18
        }
      ]
    },
    {
      "cell_type": "markdown",
      "metadata": {
        "id": "UKwoiJyhCUJd",
        "colab_type": "text"
      },
      "source": [
        "After cross-validation, we see that some of the coefficients have been reduced to zero, suggesting that they do not add value to the prediction of Salary. Now, there are only 6 variables remaining in our model as predictors."
      ]
    },
    {
      "cell_type": "markdown",
      "metadata": {
        "id": "oW7cLo9P1oQ7",
        "colab_type": "text"
      },
      "source": [
        "**1.2**\n",
        "Repeat with Ridge Regression. Visualize coefficient trajectories. Use cross-validation to find the optimal value fo the regression penalty.\n"
      ]
    },
    {
      "cell_type": "code",
      "metadata": {
        "id": "aUYxRugW_VKe",
        "colab_type": "code",
        "colab": {}
      },
      "source": [
        "from sklearn.linear_model import Ridge"
      ],
      "execution_count": 0,
      "outputs": []
    },
    {
      "cell_type": "code",
      "metadata": {
        "id": "VZe50X7bE_yI",
        "colab_type": "code",
        "colab": {}
      },
      "source": [
        "# Create 100 alpha parameters to tune model\n",
        "alphas = 10**np.linspace(start=10, stop=-2, num=100)*0.5  # Return evenly spaced numbers over a specified interval.\n",
        "#alphas"
      ],
      "execution_count": 0,
      "outputs": []
    },
    {
      "cell_type": "code",
      "metadata": {
        "id": "pdR1busvBHDD",
        "colab_type": "code",
        "colab": {
          "base_uri": "https://localhost:8080/",
          "height": 442
        },
        "outputId": "fdfb99f0-f632-4391-ee72-9eded56a071f"
      },
      "source": [
        "alphas"
      ],
      "execution_count": 25,
      "outputs": [
        {
          "output_type": "execute_result",
          "data": {
            "text/plain": [
              "array([5.00000000e+09, 3.78231664e+09, 2.86118383e+09, 2.16438064e+09,\n",
              "       1.63727458e+09, 1.23853818e+09, 9.36908711e+08, 7.08737081e+08,\n",
              "       5.36133611e+08, 4.05565415e+08, 3.06795364e+08, 2.32079442e+08,\n",
              "       1.75559587e+08, 1.32804389e+08, 1.00461650e+08, 7.59955541e+07,\n",
              "       5.74878498e+07, 4.34874501e+07, 3.28966612e+07, 2.48851178e+07,\n",
              "       1.88246790e+07, 1.42401793e+07, 1.07721735e+07, 8.14875417e+06,\n",
              "       6.16423370e+06, 4.66301673e+06, 3.52740116e+06, 2.66834962e+06,\n",
              "       2.01850863e+06, 1.52692775e+06, 1.15506485e+06, 8.73764200e+05,\n",
              "       6.60970574e+05, 5.00000000e+05, 3.78231664e+05, 2.86118383e+05,\n",
              "       2.16438064e+05, 1.63727458e+05, 1.23853818e+05, 9.36908711e+04,\n",
              "       7.08737081e+04, 5.36133611e+04, 4.05565415e+04, 3.06795364e+04,\n",
              "       2.32079442e+04, 1.75559587e+04, 1.32804389e+04, 1.00461650e+04,\n",
              "       7.59955541e+03, 5.74878498e+03, 4.34874501e+03, 3.28966612e+03,\n",
              "       2.48851178e+03, 1.88246790e+03, 1.42401793e+03, 1.07721735e+03,\n",
              "       8.14875417e+02, 6.16423370e+02, 4.66301673e+02, 3.52740116e+02,\n",
              "       2.66834962e+02, 2.01850863e+02, 1.52692775e+02, 1.15506485e+02,\n",
              "       8.73764200e+01, 6.60970574e+01, 5.00000000e+01, 3.78231664e+01,\n",
              "       2.86118383e+01, 2.16438064e+01, 1.63727458e+01, 1.23853818e+01,\n",
              "       9.36908711e+00, 7.08737081e+00, 5.36133611e+00, 4.05565415e+00,\n",
              "       3.06795364e+00, 2.32079442e+00, 1.75559587e+00, 1.32804389e+00,\n",
              "       1.00461650e+00, 7.59955541e-01, 5.74878498e-01, 4.34874501e-01,\n",
              "       3.28966612e-01, 2.48851178e-01, 1.88246790e-01, 1.42401793e-01,\n",
              "       1.07721735e-01, 8.14875417e-02, 6.16423370e-02, 4.66301673e-02,\n",
              "       3.52740116e-02, 2.66834962e-02, 2.01850863e-02, 1.52692775e-02,\n",
              "       1.15506485e-02, 8.73764200e-03, 6.60970574e-03, 5.00000000e-03])"
            ]
          },
          "metadata": {
            "tags": []
          },
          "execution_count": 25
        }
      ]
    },
    {
      "cell_type": "code",
      "metadata": {
        "id": "HNJr7gNU2U7z",
        "colab_type": "code",
        "colab": {}
      },
      "source": [
        "# Store vector of ridge regression coefficients\n",
        "ridge = Ridge(normalize = True)\n",
        "coeffs = []\n",
        "\n",
        "for a in alphas:\n",
        "    ridge.set_params(alpha=a)\n",
        "    ridge.fit(scale(X_train), y_train)\n",
        "    coeffs.append(ridge.coef_)"
      ],
      "execution_count": 0,
      "outputs": []
    },
    {
      "cell_type": "code",
      "metadata": {
        "id": "GfH4o4alFRJ8",
        "colab_type": "code",
        "colab": {
          "base_uri": "https://localhost:8080/",
          "height": 34
        },
        "outputId": "81582496-7020-4080-b505-bbd04da564a3"
      },
      "source": [
        "np.shape(coeffs)"
      ],
      "execution_count": 23,
      "outputs": [
        {
          "output_type": "execute_result",
          "data": {
            "text/plain": [
              "(100, 1, 19)"
            ]
          },
          "metadata": {
            "tags": []
          },
          "execution_count": 23
        }
      ]
    },
    {
      "cell_type": "code",
      "metadata": {
        "id": "-if_lzyOA_69",
        "colab_type": "code",
        "colab": {
          "base_uri": "https://localhost:8080/",
          "height": 1000
        },
        "outputId": "16c65e31-3ab5-4b35-e9ce-ef78fd6321ad"
      },
      "source": [
        "coeffs"
      ],
      "execution_count": 24,
      "outputs": [
        {
          "output_type": "execute_result",
          "data": {
            "text/plain": [
              "[array([[ 3.85669202e-08,  4.31464268e-08,  3.32046196e-08,\n",
              "          4.01853179e-08,  4.86054632e-08,  4.49031183e-08,\n",
              "          3.78347937e-08,  4.90654755e-08,  5.24022825e-08,\n",
              "          5.24552596e-08,  5.37755408e-08,  5.50065664e-08,\n",
              "          4.91116164e-08,  4.35299099e-08, -7.41494228e-10,\n",
              "          2.65133449e-09, -2.49945800e-09, -1.54990592e-08,\n",
              "         -2.02313682e-09]]),\n",
              " array([[ 5.09831987e-08,  5.70370370e-08,  4.38945529e-08,\n",
              "          5.31226252e-08,  6.42535618e-08,  5.93592797e-08,\n",
              "          5.00153705e-08,  6.48616710e-08,  6.92727335e-08,\n",
              "          6.93427661e-08,  7.10881001e-08,  7.27154436e-08,\n",
              "          6.49226665e-08,  5.75439791e-08, -9.80211730e-10,\n",
              "          3.50490816e-09, -3.30413638e-09, -2.04888442e-08,\n",
              "         -2.67446781e-09]]),\n",
              " array([[ 6.73967882e-08,  7.53996062e-08,  5.80260156e-08,\n",
              "          7.02249842e-08,  8.49394272e-08,  7.84694743e-08,\n",
              "          6.61173763e-08,  8.57433118e-08,  9.15744768e-08,\n",
              "          9.16670558e-08,  9.39742846e-08,  9.61255369e-08,\n",
              "          8.58239443e-08,  7.60697538e-08, -1.29578222e-09,\n",
              "          4.63328231e-09, -4.36787383e-09, -2.70850462e-08,\n",
              "         -3.53548904e-09]]),\n",
              " array([[ 8.90945876e-08,  9.96738419e-08,  7.67069777e-08,\n",
              "          9.28332962e-08,  1.12284924e-07,  1.03732027e-07,\n",
              "          8.74032803e-08,  1.13347612e-07,  1.21056069e-07,\n",
              "          1.21178453e-07,  1.24228474e-07,  1.27072303e-07,\n",
              "          1.13454203e-07,  1.00559738e-07, -1.71294783e-09,\n",
              "          6.12492654e-09, -5.77407213e-09, -3.58048371e-08,\n",
              "         -4.67370842e-09]]),\n",
              " array([[ 1.17777801e-07,  1.31762953e-07,  1.01402110e-07,\n",
              "          1.22720154e-07,  1.48434061e-07,  1.37127635e-07,\n",
              "          1.15541993e-07,  1.49838872e-07,  1.60028999e-07,\n",
              "          1.60190783e-07,  1.64222731e-07,  1.67982105e-07,\n",
              "          1.49979780e-07,  1.32934055e-07, -2.26441622e-09,\n",
              "          8.09679243e-09, -7.63298351e-09, -4.73318874e-08,\n",
              "         -6.17836745e-09]]),\n",
              " array([[ 1.55695322e-07,  1.74182869e-07,  1.34047622e-07,\n",
              "          1.62228821e-07,  1.96221093e-07,  1.81274663e-07,\n",
              "          1.52739714e-07,  1.98078171e-07,  2.11548918e-07,\n",
              "          2.11762787e-07,  2.17092785e-07,  2.22062457e-07,\n",
              "          1.98264442e-07,  1.75730997e-07, -2.99342496e-09,\n",
              "          1.07034831e-08, -1.00903549e-08, -6.25699696e-08,\n",
              "         -8.16743811e-09]]),\n",
              " array([[ 2.05820052e-07,  2.30259502e-07,  1.77203066e-07,\n",
              "          2.14456954e-07,  2.59392736e-07,  2.39634435e-07,\n",
              "          2.01912913e-07,  2.61847684e-07,  2.79655219e-07,\n",
              "          2.79937942e-07,  2.86983885e-07,  2.93553499e-07,\n",
              "          2.62093924e-07,  2.32306036e-07, -3.95713162e-09,\n",
              "          1.41493747e-08, -1.33388553e-08, -8.27138175e-08,\n",
              "         -1.07968724e-08]]),\n",
              " array([[ 2.72081995e-07,  3.04389509e-07,  2.34252025e-07,\n",
              "          2.83499471e-07,  3.42901931e-07,  3.16782620e-07,\n",
              "          2.66916987e-07,  3.46147227e-07,  3.69687740e-07,\n",
              "          3.70061483e-07,  3.79375806e-07,  3.88060448e-07,\n",
              "          3.46472741e-07,  3.07094908e-07, -5.23109508e-09,\n",
              "          1.87046407e-08, -1.76331815e-08, -1.09342799e-07,\n",
              "         -1.42728298e-08]]),\n",
              " array([[ 3.59676384e-07,  4.02385016e-07,  3.09667389e-07,\n",
              "          3.74769615e-07,  4.53296171e-07,  4.18767979e-07,\n",
              "          3.52848547e-07,  4.57586261e-07,  4.88705434e-07,\n",
              "          4.89199501e-07,  5.01512487e-07,  5.12993073e-07,\n",
              "          4.58016572e-07,  4.05961394e-07, -6.91519979e-09,\n",
              "          2.47264342e-08, -2.33100280e-08, -1.44544745e-07,\n",
              "         -1.88678408e-08]]),\n",
              " array([[ 4.75471010e-07,  5.31929308e-07,  4.09362062e-07,\n",
              "          4.95423373e-07,  5.99230858e-07,  5.53586621e-07,\n",
              "          4.66445011e-07,  6.04902104e-07,  6.46039820e-07,\n",
              "          6.46692947e-07,  6.62969990e-07,  6.78146649e-07,\n",
              "          6.05470950e-07,  5.36657070e-07, -9.14148705e-09,\n",
              "          3.26868908e-08, -3.08144847e-08, -1.91079646e-07,\n",
              "         -2.49421747e-08]]),\n",
              " array([[ 6.28544689e-07,  7.03179237e-07,  5.41152551e-07,\n",
              "          6.54920539e-07,  7.92147924e-07,  7.31808930e-07,\n",
              "          6.16612849e-07,  7.99644977e-07,  8.54026616e-07,\n",
              "          8.54890012e-07,  8.76407304e-07,  8.96469955e-07,\n",
              "          8.00396958e-07,  7.09429062e-07, -1.20845077e-08,\n",
              "          4.32101459e-08, -4.07349344e-08, -2.52596047e-07,\n",
              "         -3.29720862e-08]]),\n",
              " array([[ 8.30899081e-07,  9.29561561e-07,  7.15371818e-07,\n",
              "          8.65766403e-07,  1.04717293e-06,  9.67408331e-07,\n",
              "          8.15125890e-07,  1.05708359e-06,  1.12897292e-06,\n",
              "          1.13011428e-06,  1.15855887e-06,  1.18508051e-06,\n",
              "          1.05807767e-06,  9.37823465e-07, -1.59750077e-08,\n",
              "          5.71212699e-08, -5.38491845e-08, -3.33917108e-07,\n",
              "         -4.35871562e-08]]),\n",
              " array([[ 1.09839967e-06,  1.22882567e-06,  9.45679432e-07,\n",
              "          1.14449222e-06,  1.38430097e-06,  1.27885687e-06,\n",
              "          1.07754844e-06,  1.39740228e-06,  1.49243574e-06,\n",
              "          1.49394455e-06,  1.53154662e-06,  1.56660668e-06,\n",
              "          1.39871639e-06,  1.23974742e-06, -2.11180196e-08,\n",
              "          7.55109572e-08, -7.11854502e-08, -4.41418764e-07,\n",
              "         -5.76196529e-08]]),\n",
              " array([[ 1.45201970e-06,  1.62443519e-06,  1.25013254e-06,\n",
              "          1.51295134e-06,  1.82996439e-06,  1.69057350e-06,\n",
              "          1.42445560e-06,  1.84728355e-06,  1.97291219e-06,\n",
              "          1.97490674e-06,  2.02461448e-06,  2.07096180e-06,\n",
              "          1.84902072e-06,  1.63887312e-06, -2.79167782e-08,\n",
              "          9.98210414e-08, -9.41029714e-08, -5.83529627e-07,\n",
              "         -7.61697860e-08]]),\n",
              " array([[ 1.91948456e-06,  2.14740769e-06,  1.65260161e-06,\n",
              "          2.00003260e-06,  2.41910518e-06,  2.23483863e-06,\n",
              "          1.88304644e-06,  2.44200009e-06,  2.60807375e-06,\n",
              "          2.61071044e-06,  2.67642113e-06,  2.73768957e-06,\n",
              "          2.44429653e-06,  2.16649379e-06, -3.69043362e-08,\n",
              "          1.31957542e-07, -1.24398582e-07, -7.71391824e-07,\n",
              "         -1.00691967e-07]]),\n",
              " array([[ 2.53744556e-06,  2.83874652e-06,  2.18464201e-06,\n",
              "          2.64392533e-06,  3.19791461e-06,  2.95432509e-06,\n",
              "          2.48927650e-06,  3.22818031e-06,  3.44771993e-06,\n",
              "          3.45120548e-06,  3.53807114e-06,  3.61906441e-06,\n",
              "          3.23121608e-06,  2.86397725e-06, -4.87853579e-08,\n",
              "          1.74440105e-07, -1.64447591e-07, -1.01973459e-06,\n",
              "         -1.33108842e-07]]),\n",
              " array([[ 3.35435359e-06,  3.75265573e-06,  2.88796806e-06,\n",
              "          3.49511358e-06,  4.22745479e-06,  3.90544379e-06,\n",
              "          3.29067692e-06,  4.26746424e-06,  4.55768269e-06,\n",
              "          4.56229039e-06,  4.67712167e-06,  4.78419001e-06,\n",
              "          4.27147736e-06,  3.78600931e-06, -6.44913674e-08,\n",
              "          2.30599552e-07, -2.17390013e-07, -1.34802911e-06,\n",
              "         -1.75962033e-07]]),\n",
              " array([[ 4.43425784e-06,  4.96078984e-06,  3.81772364e-06,\n",
              "          4.62033426e-06,  5.58844621e-06,  5.16276667e-06,\n",
              "          4.35008101e-06,  5.64133633e-06,  6.02498803e-06,\n",
              "          6.03107914e-06,  6.18287933e-06,  6.32441737e-06,\n",
              "          5.64664144e-06,  5.00488138e-06, -8.52537840e-08,\n",
              "          3.04839037e-07, -2.87376762e-07, -1.78201514e-06,\n",
              "         -2.32611414e-07]]),\n",
              " array([[ 5.86182757e-06,  6.55787189e-06,  5.04680566e-06,\n",
              "          6.10780965e-06,  7.38759661e-06,  6.82487336e-06,\n",
              "          5.75055072e-06,  7.45751418e-06,  7.96467914e-06,\n",
              "          7.97273124e-06,  8.17340213e-06,  8.36050710e-06,\n",
              "          7.46452724e-06,  6.61615844e-06, -1.12700471e-07,\n",
              "          4.02979267e-07, -3.79895093e-07, -2.35571913e-06,\n",
              "         -3.07498532e-07]]),\n",
              " array([[ 7.74899048e-06,  8.66912012e-06,  6.67157952e-06,\n",
              "          8.07416433e-06,  9.76596725e-06,  9.02208036e-06,\n",
              "          7.60188898e-06,  9.85839407e-06,  1.05288363e-05,\n",
              "          1.05394807e-05,  1.08047558e-05,  1.10520975e-05,\n",
              "          9.86766496e-06,  8.74617173e-06, -1.48983365e-07,\n",
              "          5.32714874e-07, -5.02198828e-07, -3.11412203e-06,\n",
              "         -4.06494845e-07]]),\n",
              " array([[ 1.02437083e-05,  1.14600656e-05,  8.81943454e-06,\n",
              "          1.06735691e-05,  1.29100328e-05,  1.19266583e-05,\n",
              "          1.00492487e-05,  1.30322154e-05,  1.39185005e-05,\n",
              "          1.39325719e-05,  1.42832498e-05,  1.46102211e-05,\n",
              "          1.30444710e-05,  1.15619237e-05, -1.96947196e-07,\n",
              "          7.04217712e-07, -6.63877071e-07, -4.11668601e-06,\n",
              "         -5.37362056e-07]]),\n",
              " array([[ 1.35415778e-05,  1.51495305e-05,  1.16587718e-05,\n",
              "          1.41098284e-05,  1.70663014e-05,  1.57663386e-05,\n",
              "          1.32845134e-05,  1.72278194e-05,  1.83994362e-05,\n",
              "          1.84180377e-05,  1.88816132e-05,  1.93138500e-05,\n",
              "          1.72440207e-05,  1.52841816e-05, -2.60352526e-07,\n",
              "          9.30934371e-07, -8.77606027e-07, -5.44201656e-06,\n",
              "         -7.10360653e-07]]),\n",
              " array([[ 1.79011657e-05,  2.00267847e-05,  1.54122072e-05,\n",
              "          1.86523596e-05,  2.25606424e-05,  2.08421686e-05,\n",
              "          1.75613415e-05,  2.27741592e-05,  2.43229675e-05,\n",
              "          2.43475578e-05,  2.49603771e-05,  2.55317687e-05,\n",
              "          2.27955765e-05,  2.02047867e-05, -3.44170583e-07,\n",
              "          1.23064045e-06, -1.16014284e-06, -7.19402548e-06,\n",
              "         -9.39054349e-07]]),\n",
              " array([[ 2.36642821e-05,  2.64742254e-05,  2.03740258e-05,\n",
              "          2.46573163e-05,  2.98238351e-05,  2.75521150e-05,\n",
              "          2.32150540e-05,  3.01060909e-05,  3.21535242e-05,\n",
              "          3.21860313e-05,  3.29961419e-05,  3.37514880e-05,\n",
              "          3.01344035e-05,  2.67095357e-05, -4.54973021e-07,\n",
              "          1.62683425e-06, -1.53363936e-06, -9.51007808e-06,\n",
              "         -1.24137348e-06]]),\n",
              " array([[ 3.12827787e-05,  3.49973585e-05,  2.69332542e-05,\n",
              "          3.25955117e-05,  3.94253437e-05,  3.64222651e-05,\n",
              "          3.06889246e-05,  3.97984676e-05,  4.25050537e-05,\n",
              "          4.25480266e-05,  4.36189444e-05,  4.46174676e-05,\n",
              "          3.98358957e-05,  3.53084285e-05, -6.01447148e-07,\n",
              "          2.15057913e-06, -2.02737889e-06, -1.25717631e-05,\n",
              "         -1.64102077e-06]]),\n",
              " array([[ 4.13539756e-05,  4.62644318e-05,  3.56041614e-05,\n",
              "          4.30893317e-05,  5.21179645e-05,  4.81480746e-05,\n",
              "          4.05689339e-05,  5.26112096e-05,  5.61891569e-05,\n",
              "          5.62459652e-05,  5.76616541e-05,  5.89816431e-05,\n",
              "          5.26606882e-05,  4.66756545e-05, -7.95077018e-07,\n",
              "          2.84293904e-06, -2.68007193e-06, -1.66191303e-05,\n",
              "         -2.16932952e-06]]),\n",
              " array([[ 5.46674928e-05,  6.11588274e-05,  4.70665789e-05,\n",
              "          5.69615319e-05,  6.88968475e-05,  6.36488923e-05,\n",
              "          5.36297111e-05,  6.95488839e-05,  7.42787189e-05,\n",
              "          7.43538173e-05,  7.62252726e-05,  7.79702206e-05,\n",
              "          6.96142931e-05,  6.17024509e-05, -1.05104377e-06,\n",
              "          3.75819808e-06, -3.54289099e-06, -2.19695109e-05,\n",
              "         -2.86772009e-06]]),\n",
              " array([[ 7.22671570e-05,  8.08483204e-05,  6.22191999e-05,\n",
              "          7.52997426e-05,  9.10775178e-05,  8.41400398e-05,\n",
              "          7.08952660e-05,  9.19394633e-05,  9.81920258e-05,\n",
              "          9.82913034e-05,  1.00765253e-04,  1.03071972e-04,\n",
              "          9.20259329e-05,  8.15669782e-05, -1.38941583e-06,\n",
              "          4.96811667e-06, -4.68348225e-06, -2.90423983e-05,\n",
              "         -3.79094693e-06]]),\n",
              " array([[ 9.55328391e-05,  1.06876634e-04,  8.22500377e-05,\n",
              "          9.95417405e-05,  1.20399014e-04,  1.11228093e-04,\n",
              "          9.37192716e-05,  1.21538441e-04,  1.29803958e-04,\n",
              "          1.29935201e-04,  1.33205610e-04,  1.36254958e-04,\n",
              "          1.21652753e-04,  1.07826691e-04, -1.83672213e-06,\n",
              "          6.56755782e-06, -6.19126844e-06, -3.83923376e-05,\n",
              "         -5.01139081e-06]]),\n",
              " array([[ 1.26288635e-04,  1.41284467e-04,  1.08729564e-04,\n",
              "          1.31588169e-04,  1.59160227e-04,  1.47036840e-04,\n",
              "          1.23891191e-04,  1.60666458e-04,  1.71592982e-04,\n",
              "          1.71766483e-04,  1.76089760e-04,  1.80120819e-04,\n",
              "          1.60817579e-04,  1.42540447e-04, -2.42803188e-06,\n",
              "          8.68192487e-06, -8.18445851e-06, -5.07524042e-05,\n",
              "         -6.62473239e-06]]),\n",
              " array([[ 1.66945870e-04,  1.86769483e-04,  1.43733832e-04,\n",
              "          1.73951548e-04,  2.10400134e-04,  1.94373782e-04,\n",
              "          1.63776564e-04,  2.12391238e-04,  2.26835455e-04,\n",
              "          2.27064823e-04,  2.32779920e-04,  2.38108745e-04,\n",
              "          2.12591024e-04,  1.88429919e-04, -3.20970359e-06,\n",
              "          1.14769936e-05, -1.08193131e-05, -6.70916799e-05,\n",
              "         -8.75745161e-06]]),\n",
              " array([[ 2.20692138e-04,  2.46897796e-04,  1.90007224e-04,\n",
              "          2.29953240e-04,  2.78136036e-04,  2.56950234e-04,\n",
              "          2.16502458e-04,  2.80768082e-04,  2.99862475e-04,\n",
              "          3.00165706e-04,  3.07720691e-04,  3.14765087e-04,\n",
              "          2.81032211e-04,  2.49092978e-04, -4.24301885e-06,\n",
              "          1.51719100e-05, -1.43023913e-05, -8.86912321e-05,\n",
              "         -1.15767400e-05]]),\n",
              " array([[ 2.91741185e-04,  3.26383539e-04,  2.51177595e-04,\n",
              "          3.03983832e-04,  3.67678494e-04,  3.39672271e-04,\n",
              "          2.86202596e-04,  3.71157770e-04,  3.96399417e-04,\n",
              "          3.96800302e-04,  4.06787484e-04,  4.16099768e-04,\n",
              "          3.71506973e-04,  3.29285760e-04, -5.60898556e-06,\n",
              "          2.00563717e-05, -1.89067380e-05, -1.17244554e-04,\n",
              "         -1.53036018e-05]]),\n",
              " array([[ 3.85663220e-04,  4.31458401e-04,  3.32040647e-04,\n",
              "          4.01847306e-04,  4.86047625e-04,  4.49025325e-04,\n",
              "          3.78341396e-04,  4.90646789e-04,  5.24014728e-04,\n",
              "          5.24544731e-04,  5.37747087e-04,  5.50057390e-04,\n",
              "          4.91108484e-04,  4.35295525e-04, -7.41468653e-06,\n",
              "          2.65133425e-05, -2.49932778e-05, -1.54990338e-04,\n",
              "         -2.02301687e-05]]),\n",
              " array([[ 5.09821533e-04,  5.70360116e-04,  4.38935832e-04,\n",
              "          5.31215989e-04,  6.42523373e-04,  5.93582562e-04,\n",
              "          5.00142276e-04,  6.48602788e-04,  6.92713185e-04,\n",
              "          6.93413916e-04,  7.10866461e-04,  7.27139975e-04,\n",
              "          6.49213244e-04,  5.75433545e-04, -9.80167037e-06,\n",
              "          3.50490774e-05, -3.30390882e-05, -2.04887998e-04,\n",
              "         -2.67425820e-05]]),\n",
              " array([[ 6.73949614e-04,  7.53978143e-04,  5.80243211e-04,\n",
              "          7.02231906e-04,  8.49372874e-04,  7.84676857e-04,\n",
              "          6.61153789e-04,  8.57408789e-04,  9.15720041e-04,\n",
              "          9.16646539e-04,  9.39717437e-04,  9.61230100e-04,\n",
              "          8.58215990e-04,  7.60686622e-04, -1.29570412e-05,\n",
              "          4.63328159e-05, -4.36747617e-05, -2.70849686e-04,\n",
              "         -3.53512274e-05]]),\n",
              " array([[ 8.90913951e-04,  9.96707105e-04,  7.67040164e-04,\n",
              "          9.28301618e-04,  1.12281184e-03,  1.03728901e-03,\n",
              "          8.73997898e-04,  1.13343360e-03,  1.21051748e-03,\n",
              "          1.21174256e-03,  1.24224033e-03,  1.27067887e-03,\n",
              "          1.13450105e-03,  1.00557830e-03, -1.71281135e-05,\n",
              "          6.12492528e-05, -5.77337721e-05, -3.58047014e-04,\n",
              "         -4.67306832e-05]]),\n",
              " array([[ 1.17772222e-03,  1.31757481e-03,  1.01396935e-03,\n",
              "          1.22714677e-03,  1.48427526e-03,  1.37122173e-03,\n",
              "          1.15535893e-03,  1.49831443e-03,  1.60021447e-03,\n",
              "          1.60183448e-03,  1.64214971e-03,  1.67974389e-03,\n",
              "          1.49972618e-03,  1.32930721e-03, -2.26417772e-05,\n",
              "          8.09679022e-05, -7.63176913e-05, -4.73316504e-04,\n",
              "         -6.17724888e-05]]),\n",
              " array([[ 1.55685573e-03,  1.74173307e-03,  1.34038579e-03,\n",
              "          1.62219250e-03,  1.96209674e-03,  1.81265118e-03,\n",
              "          1.52729055e-03,  1.98065187e-03,  2.11535722e-03,\n",
              "          2.11749970e-03,  2.17079226e-03,  2.22048972e-03,\n",
              "          1.98251926e-03,  1.75725172e-03, -2.99300819e-05,\n",
              "          1.07034792e-04, -1.00882328e-04, -6.25695554e-04,\n",
              "         -8.16548341e-05]]),\n",
              " array([[ 2.05803015e-03,  2.30242791e-03,  1.77187264e-03,\n",
              "          2.14440227e-03,  2.59372782e-03,  2.39617755e-03,\n",
              "          2.01894286e-03,  2.61824996e-03,  2.79632159e-03,\n",
              "          2.79915543e-03,  2.86960190e-03,  2.93529934e-03,\n",
              "          2.62072052e-03,  2.32295856e-03, -3.95640332e-05,\n",
              "          1.41493680e-04, -1.33351469e-04, -8.27130937e-04,\n",
              "         -1.07934566e-04]]),\n",
              " array([[ 2.72052224e-03,  3.04360308e-03,  2.34224410e-03,\n",
              "          2.83470242e-03,  3.42867060e-03,  3.16753472e-03,\n",
              "          2.66884437e-03,  3.46107580e-03,  3.69647444e-03,\n",
              "          3.70022341e-03,  3.79334398e-03,  3.88019269e-03,\n",
              "          3.46434522e-03,  3.07077118e-03, -5.22982242e-05,\n",
              "          1.87046288e-04, -1.76267013e-04, -1.09341534e-03,\n",
              "         -1.42668608e-04]]),\n",
              " array([[ 3.59624359e-03,  4.02333988e-03,  3.09619133e-03,\n",
              "          3.74718539e-03,  4.53235236e-03,  4.18717044e-03,\n",
              "          3.52791667e-03,  4.57516979e-03,  4.88635018e-03,\n",
              "          4.89131101e-03,  5.01440129e-03,  5.12921113e-03,\n",
              "          4.57949785e-03,  4.05930308e-03, -6.91297592e-05,\n",
              "          2.47264134e-04, -2.32987040e-04, -1.44542535e-03,\n",
              "         -1.88574101e-04]]),\n",
              " array([[ 4.75380100e-03,  5.31840139e-03,  4.09277736e-03,\n",
              "          4.95334119e-03,  5.99124377e-03,  5.53497614e-03,\n",
              "          4.66345617e-03,  6.04781038e-03,  6.45916772e-03,\n",
              "          6.46573422e-03,  6.62843548e-03,  6.78020902e-03,\n",
              "          6.05354243e-03,  5.36602748e-03, -9.13760111e-05,\n",
              "          3.26868542e-04, -3.07946968e-04, -1.91075783e-03,\n",
              "         -2.49239479e-04]]),\n",
              " array([[ 0.00628386,  0.00703023,  0.00541005,  0.00654765,  0.00791962,\n",
              "          0.00731653,  0.00616439,  0.00799433,  0.00853812,  0.00854681,\n",
              "          0.00876186,  0.0089625 ,  0.00800193,  0.00709334, -0.00012078,\n",
              "          0.0004321 , -0.000407  , -0.00252589, -0.0003294 ]]),\n",
              " array([[ 0.00830621,  0.00929289,  0.00715114,  0.00865494,  0.01046848,\n",
              "          0.00967137,  0.00814822,  0.01056714,  0.01128597,  0.01129749,\n",
              "          0.01158173,  0.01184697,  0.01057721,  0.00937658, -0.00015963,\n",
              "          0.00057121, -0.00053789, -0.00333905, -0.00043532]]),\n",
              " array([[ 0.01097915,  0.0122835 ,  0.0094523 ,  0.01144016,  0.01383733,\n",
              "          0.01278382,  0.01077018,  0.01396756,  0.01491779,  0.01493307,\n",
              "          0.01530872,  0.01565936,  0.01398094,  0.01239458, -0.00021097,\n",
              "          0.00075511, -0.0007108 , -0.00441398, -0.00057522]]),\n",
              " array([[ 0.01451172,  0.01623604,  0.01249346,  0.01512119,  0.01828972,\n",
              "          0.01689744,  0.01423529,  0.01846155,  0.01971765,  0.01973792,\n",
              "          0.02023436,  0.0206979 ,  0.01847933,  0.01638367, -0.00027881,\n",
              "          0.00099821, -0.00093919, -0.00583494, -0.00076   ]]),\n",
              " array([[ 0.01918004,  0.02145955,  0.01651228,  0.01998579,  0.02417371,\n",
              "          0.02233389,  0.01881428,  0.02440028,  0.0260607 ,  0.02608764,\n",
              "          0.02674362,  0.02735641,  0.02442396,  0.02165609, -0.00036841,\n",
              "          0.00131957, -0.00124076, -0.00771329, -0.00100395]]),\n",
              " array([[ 0.02534858,  0.02836209,  0.02182242,  0.02641385,  0.03194884,\n",
              "          0.02951792,  0.02486448,  0.03224735,  0.03444218,  0.03447804,\n",
              "          0.03534473,  0.03615486,  0.03227895,  0.02862431, -0.00048675,\n",
              "          0.00174439, -0.00163885, -0.01019625, -0.0013259 ]]),\n",
              " array([[ 0.03349834,  0.03748222,  0.02883776,  0.03490676,  0.04222161,\n",
              "          0.03901019,  0.03285736,  0.04261446,  0.04551566,  0.04556348,\n",
              "          0.04670836,  0.04777939,  0.04265676,  0.03783308, -0.00064298,\n",
              "          0.00230597, -0.00216407, -0.01347837, -0.00175056]]),\n",
              " array([[ 0.04426363,  0.04953046,  0.03810401,  0.04612583,  0.05579199,\n",
              "          0.05155037,  0.0434145 ,  0.05630823,  0.06014303,  0.060207  ,\n",
              "          0.06171899,  0.06313498,  0.05636507,  0.05000163, -0.00084917,\n",
              "          0.00304835, -0.00285659, -0.01781679, -0.00231029]]),\n",
              " array([[ 0.05848038,  0.06544346,  0.05034016,  0.06094271,  0.07371445,\n",
              "          0.06811372,  0.05735477,  0.07439153,  0.07946017,  0.07954604,\n",
              "          0.08154225,  0.08341436,  0.07446827,  0.06607917, -0.00112112,\n",
              "          0.00402972, -0.00376895, -0.02355132, -0.00304735]]),\n",
              " array([[ 0.07724909,  0.086455  ,  0.06649245,  0.08050522,  0.09737763,\n",
              "          0.08998504,  0.07575567,  0.09826331,  0.10496248,  0.10507826,\n",
              "          0.10771269,  0.11018795,  0.09836757,  0.08731778, -0.00147957,\n",
              "          0.00532702, -0.00496961, -0.03113095, -0.00401671]]),\n",
              " array([[ 0.10201664,  0.11418826,  0.08780441,  0.10632292,  0.12860791,\n",
              "          0.11885496,  0.10003297,  0.1297624 ,  0.13861609,  0.13877309,\n",
              "          0.14224789,  0.14552081,  0.12990511,  0.11536791, -0.00195156,\n",
              "          0.00704192, -0.00654735, -0.0411489 , -0.00528942]]),\n",
              " array([[ 0.13468194,  0.15077551,  0.11590716,  0.14037783,  0.16980358,\n",
              "          0.15694496,  0.13204319,  0.1713013 ,  0.18300146,  0.18321592,\n",
              "          0.18779585,  0.19212383,  0.17149849,  0.1524031 , -0.0025723 ,\n",
              "          0.00930885, -0.00861655, -0.05438877, -0.0069567 ]]),\n",
              " array([[ 0.17773133,  0.19901201,  0.15293477,  0.18526663,  0.224107  ,\n",
              "          0.20716826,  0.17421448,  0.2260374 ,  0.24149755,  0.24179308,\n",
              "          0.24782388,  0.25354758,  0.22631293,  0.20128231, -0.00338732,\n",
              "          0.01230544, -0.01132325, -0.07188536, -0.00913436]]),\n",
              " array([[ 0.23441016,  0.26255229,  0.20166999,  0.24438125,  0.29562376,\n",
              "          0.27333546,  0.22971155,  0.2980896 ,  0.31851521,  0.31892682,\n",
              "          0.32685811,  0.33442863,  0.2984797 ,  0.26576007, -0.00445509,\n",
              "          0.01626639, -0.01485158, -0.09500477, -0.01196728]]),\n",
              " array([[ 0.30893707,  0.34615725,  0.26572521,  0.32213546,  0.38969743,\n",
              "          0.36041393,  0.30264014,  0.39280789,  0.41978882,  0.42036935,\n",
              "          0.43078263,  0.44079759,  0.39336853,  0.3507567 , -0.00584999,\n",
              "          0.0215018 , -0.0194296 , -0.12554968, -0.01563288]]),\n",
              " array([[ 0.40676568,  0.45599969,  0.34976184,  0.42424306,  0.51324788,\n",
              "          0.47484975,  0.39829393,  0.51710144,  0.55273296,  0.55356363,\n",
              "          0.5672054 ,  0.58045705,  0.51792056,  0.46270247, -0.00766543,\n",
              "          0.02842107, -0.02533244, -0.16589739, -0.02034144]]),\n",
              " array([[ 0.53489444,  0.60003278,  0.45974697,  0.55805038,  0.67517614,\n",
              "          0.62495798,  0.52344216,  0.67982468,  0.72686557,  0.72807325,\n",
              "          0.74589213,  0.76343161,  0.68104252,  0.6099707 , -0.01001656,\n",
              "          0.03756438, -0.03287897, -0.21918056, -0.0263298 ]]),\n",
              " array([[ 0.70221593,  0.78841793,  0.60323724,  0.73291658,  0.88682945,\n",
              "          0.8213797 ,  0.68664514,  0.89220873,  0.95428696,  0.95607284,\n",
              "          0.9792574 ,  1.00248085,  0.89405168,  0.8034134 , -0.01304195,\n",
              "          0.04964347, -0.04241506, -0.28952269, -0.03384152]]),\n",
              " array([[ 0.9198799 ,  1.03399364,  0.78966346,  0.96061955,  1.16250095,\n",
              "          1.07758985,  0.89856638,  1.16830301,  1.25018206,  1.25286912,\n",
              "          1.28287933,  1.31364355,  1.17113993,  1.05700867, -0.01690256,\n",
              "          0.06559404, -0.05427157, -0.38234361, -0.04308279]]),\n",
              " array([[ 1.20161481,  1.35273963,  1.03056213,  1.25573734,  1.51990634,\n",
              "          1.41041426,  1.17221827,  1.52535417,  1.63327606,  1.63738762,\n",
              "          1.67596574,  1.71674418,  1.52978973,  1.38861794, -0.02177611,\n",
              "          0.08664172, -0.06867817, -0.50475285, -0.05413597]]),\n",
              " array([[ 1.5639062 ,  1.76414825,  1.33965732,  1.63591056,  1.98052816,\n",
              "          1.840473  ,  1.52303078,  1.98399153,  2.12611535,  2.13250435,\n",
              "          2.1816404 ,  2.23573434,  1.99101969,  1.82083099, -0.02784435,\n",
              "          0.11438201, -0.08560364, -0.66605101, -0.06680424]]),\n",
              " array([[ 2.02586376,  2.29135309,  1.73263663,  2.1218284 ,  2.56964562,\n",
              "          2.39240862,  1.96856712,  2.56800818,  2.75496612,  2.76502606,\n",
              "          2.82683573,  2.89866099,  2.57926135,  2.38184435, -0.03527128,\n",
              "          0.15087125, -0.10448167, -0.87835944, -0.08034951]]),\n",
              " array([[ 2.60852545,  2.96078728,  2.22639222,  2.73670151,  3.31577801,\n",
              "          3.0946841 ,  2.52763591,  3.30343313,  3.54902896,  3.56503346,\n",
              "          3.64148189,  3.7369594 ,  3.32158003,  3.10627264, -0.04417388,\n",
              "          0.19871651, -0.12377015, -1.15739408, -0.09307766]]),\n",
              " array([[ 3.33326491,  3.80106922,  2.83743217,  3.50490898,  4.24918608,\n",
              "          3.97866745,  3.21849141,  4.21651335,  4.53859129,  4.56423092,\n",
              "          4.65660413,  4.78369206,  4.24587979,  4.03573929, -0.05459656,\n",
              "          0.26113616, -0.14029198, -1.52338554, -0.10172674]]),\n",
              " array([[ 4.21893251,  4.84078451,  3.57915265,  4.44947727,  5.39905317,\n",
              "          5.07669948,  4.05582847,  5.33023046,  5.75174705,  5.79295847,\n",
              "          5.90094788,  6.0703656 ,  5.37773992,  5.21904859, -0.0665203 ,\n",
              "          0.3419323 , -0.14833204, -2.00211784, -0.10064308]]),\n",
              " array([[ 5.27744797,  6.10492719,  4.45777207,  5.58814388,  6.78909629,\n",
              "          6.4189442 ,  5.04645508,  6.65917135,  7.20951103,  7.27572135,\n",
              "          7.3959563 ,  7.62216304,  6.73571798,  6.71173607, -0.07997159,\n",
              "          0.44527185, -0.13854288, -2.62600273, -0.0808097 ]]),\n",
              " array([[ 6.50786959,  7.6100735 ,  5.46705011,  6.92807016,  8.43174444,\n",
              "          8.02913268,  6.18394873,  8.20306221,  8.9196548 ,  9.0255864 ,\n",
              "          9.14943931,  9.45194262,  8.32542507,  8.57486701, -0.09533892,\n",
              "          0.57511786, -0.09686356, -3.43501471, -0.02894371]]),\n",
              " array([[ 7.88954221e+00,  9.35893890e+00,  6.58247965e+00,\n",
              "          8.45984526e+00,  1.03217109e+01,  9.91986426e+00,\n",
              "          7.44327488e+00,  9.94007250e+00,  1.08704037e+01,\n",
              "          1.10385915e+01,  1.11491109e+01,  1.15541860e+01,\n",
              "          1.01334402e+01,  1.08731148e+01, -1.14031449e-01,\n",
              "          7.34116621e-01, -3.87540323e-03, -4.47717923e+00,\n",
              "          7.29012039e-02]]),\n",
              " array([[ 9.37567367, 11.33571557,  7.75632239, 10.15216119, 12.43063089,\n",
              "         12.08879578,  8.77704867, 11.82185636, 13.02601728, 13.29017264,\n",
              "         13.35808133, 13.90097753, 12.12294368, 13.6723428 , -0.13956718,\n",
              "          0.9217845 ,  0.16476966, -5.80813925,  0.24657596]]),\n",
              " array([[10.88927176, 13.50417654,  8.91530799, 11.94910144, 14.70501312,\n",
              "         14.5174691 , 10.11536946, 13.77265941, 15.3266603 , 15.73596385,\n",
              "         15.71478581, 16.4424735 , 14.23326258, 17.03696822, -0.17897835,\n",
              "          1.13202879,  0.43617414, -7.48915916,  0.51521926]]),\n",
              " array([[12.32330329, 15.81048578,  9.96257056, 13.77188367, 17.06949544,\n",
              "         17.17421335, 11.37042023, 15.69403597, 17.6942037 , 18.31851941,\n",
              "         18.13903315, 19.11350388, 16.38470938, 21.0271026 , -0.24403031,\n",
              "          1.35041627,  0.83594632, -9.58282627,  0.89840031]]),\n",
              " array([[ 13.54590387,  18.19166737,  10.78425198,  15.5258323 ,\n",
              "          19.43603396,  20.02126886,  12.44525036,  17.47468054,\n",
              "          20.04355523,  20.97940969,  20.54373705,  21.84581121,\n",
              "          18.48804315,  25.69479904,  -0.35127303,   1.55207542,\n",
              "           1.38237315, -12.14578993,   1.40542465]]),\n",
              " array([[ 14.40970398,  20.58899095,  11.25957957,  17.11159272,\n",
              "          21.71765383,  23.02439393,  13.24419074,  19.00248572,\n",
              "          22.29670946,  23.6736476 ,  22.84937152,  24.58290805,\n",
              "          20.4554874 ,  31.0780321 ,  -0.51969977,   1.7014056 ,\n",
              "           2.08060056, -15.21829237,   2.02827189]]),\n",
              " array([[ 14.76262605,  22.96389042,  11.27206638,  18.43796735,\n",
              "          23.84383727,  26.16169518,  13.68153287,  20.17473163,\n",
              "          24.3954768 ,  26.38206429,  24.99687818,  27.29323416,\n",
              "          22.20903271,  37.19098288,  -0.76518469,   1.75452718,\n",
              "           2.91921735, -18.81117173,   2.73646802]]),\n",
              " array([[ 14.45666405,  25.31325081,  10.71953156,  19.43313021,\n",
              "          25.77441328,  29.42820435,  13.68616183,  20.90318929,\n",
              "          26.30971728,  29.11803094,  26.95562092,  29.97817736,\n",
              "          23.68270121,  44.01044389,  -1.09209128,   1.66452201,\n",
              "           3.87153527, -22.89252217,   3.47619101]]),\n",
              " array([[ 13.35149175,  27.68125122,   9.52173802,  20.05166389,\n",
              "          27.50984257,  32.83408976,  13.20209985,  21.11324635,\n",
              "          28.04024138,  31.92721896,  28.72543509,  32.67393655,\n",
              "          24.81804993,  51.46071736,  -1.48410837,   1.38831348,\n",
              "           4.90252629, -27.37792614,   4.17475177]]),\n",
              " array([[ 11.31099659,  30.16610977,   7.62560449,  20.27645646,\n",
              "          29.09703646,  36.39685373,  12.18691312,  20.73834309,\n",
              "          29.61773817,  34.88125139,  30.33422173,  35.44843396,\n",
              "          25.55494727,  59.40228427,  -1.89757603,   0.89319819,\n",
              "           5.98015919, -32.12910227,   4.74958629]]),\n",
              " array([[  8.19255293,  32.92144914,   5.00826933,  20.11624538,\n",
              "          30.63029418,  40.13048961,  10.61064712,  19.71190348,\n",
              "          31.09996767,  38.0668894 ,  31.83366944,  38.3952518 ,\n",
              "          25.82135039,  67.63095833,  -2.26038404,   0.16113692,\n",
              "           7.08775185, -36.96456051,   5.11896706]]),\n",
              " array([[  3.83072851,  36.15310438,   1.67790675,  19.60083141,\n",
              "          32.24650538,  44.03623619,   8.45741677,  17.95859205,\n",
              "          32.56898543,  41.57196653,  33.29548676,  41.62591314,\n",
              "          25.52612734,  75.89245139,  -2.47773869,  -0.81005124,\n",
              "           8.23307888, -41.68191194,   5.21092242]]),\n",
              " array([[ -1.98097078,  40.1127479 ,  -2.32778295,  18.77627578,\n",
              "          34.11334557,  48.09922658,   5.73056081,  15.385846  ,\n",
              "          34.12905212,  45.4688043 ,  34.80967682,  45.2607205 ,\n",
              "          24.55814653,  83.91200712,  -2.44350177,  -2.00808334,\n",
              "           9.45093468, -46.08641104,   4.96794124]]),\n",
              " array([[ -9.50488176,  45.0895893 ,  -6.94431598,  17.70152746,\n",
              "          36.40975647,  52.29262171,   2.46082387,  11.87585532,\n",
              "          35.90479749,  49.79639819,  36.48551123,  49.41778032,\n",
              "          22.79323596,  91.43222482,  -2.05378574,  -3.40879866,\n",
              "          10.79817294, -50.01725727,   4.34745168]]),\n",
              " array([[-19.06352566,  51.40063027, -12.08181406,  16.44600861,\n",
              "          39.2996176 ,  56.58683603,  -1.2844004 ,   7.27773205,\n",
              "          38.03850292,  54.54429163,  38.4551985 ,  54.20013319,\n",
              "          20.10863144,  98.24816423,  -1.21908921,  -4.97857819,\n",
              "          12.34267283, -53.36436835,   3.32038277]]),\n",
              " array([[-31.02578236,  59.37863601, -17.62251075,  15.08539101,\n",
              "          42.90140989,  60.95857254,  -5.39379228,   1.39953613,\n",
              "          40.68517919,  59.64258975,  40.87975269,  59.68176526,\n",
              "          16.40277939, 104.2298777 ,   0.12741116,  -6.67603662,\n",
              "          14.14912881, -56.07295517,   1.87090776]]),\n",
              " array([[-4.57680756e+01,  6.93553096e+01, -2.34143535e+01,\n",
              "          1.36914830e+01,  4.72582392e+01,  6.53945924e+01,\n",
              "         -9.70994165e+00, -5.99987499e+00,  4.40045701e+01,\n",
              "          6.49623466e+01,  4.39561638e+01,  6.58940985e+01,\n",
              "          1.16172562e+01,  1.09327882e+02,  2.02553266e+00,\n",
              "         -8.45334239e+00,  1.62648275e+01, -5.81381812e+01,\n",
              "         -7.48550130e-04]]),\n",
              " array([[-63.60763514,  81.63551883, -29.26434864,  12.31346351,\n",
              "          52.3138893 ,  69.88833205, -14.03429019, -15.21849407,\n",
              "          48.1504587 ,  70.32765386,  47.92464483,  72.81497259,\n",
              "           5.75703203, 113.56334862,   4.48593563, -10.25792888,\n",
              "          18.70817392, -59.59476026,  -2.27298849]]),\n",
              " array([[-84.71274657,  96.45783676, -34.93770915,  10.95252736,\n",
              "          57.90164309,  74.43139662, -18.13926786, -26.61666816,\n",
              "          53.25964305,  75.53601895,  53.07446533,  80.36228927,\n",
              "          -1.09500291, 117.00881798,   7.48801442, -12.03516437,\n",
              "          21.46212352, -60.5059457 ,  -4.89770903]]),\n",
              " array([[-109.00589985,  113.93894901,  -40.16846004,    9.5389886 ,\n",
              "           63.7525516 ,   79.00407474,  -21.7862507 ,  -40.61813556,\n",
              "           59.44510353,   80.37971997,   59.74636289,   88.39482941,\n",
              "           -8.77335646,  119.7660669 ,   10.97729226,  -13.73217786,\n",
              "           24.47389002,  -60.95418277,   -7.79872507]]),\n",
              " array([[-136.08610707,  134.00640908,  -44.6839258 ,    7.92573551,\n",
              "           69.52700886,   83.56849747,  -24.7475434 ,  -57.70448897,\n",
              "           66.79902597,   84.66066607,   68.32803949,   96.72318728,\n",
              "          -17.03817918,  121.94639176,   14.86432891,  -15.30281816,\n",
              "           27.66122101,  -61.03342498,  -10.87604486]]),\n",
              " array([[-165.2002176 ,  156.33521178,  -48.24036794,    5.90942804,\n",
              "           74.86693816,   88.06604237,  -26.83028061,  -78.40202378,\n",
              "           75.41028952,   88.19573376,   79.23645748,  105.13303641,\n",
              "          -25.59659126,  123.65625683,   19.02860171,  -16.71342262,\n",
              "           30.92420974,  -60.84199341,  -14.01613998]]),\n",
              " array([[-195.28462454,  180.31358461,  -50.66141431,    3.27945723,\n",
              "           79.45705527,   92.41885843,  -27.89872232, -103.26068065,\n",
              "           85.39750304,   90.81638809,   92.87799719,  113.41908579,\n",
              "          -34.13273038,  124.98898375,   23.32959404,  -17.94833667,\n",
              "           34.16024665,  -60.47521664,  -17.10605268]]),\n",
              " array([[-2.25078624e+02,  2.05063670e+02, -5.18674491e+01,\n",
              "         -1.19947989e-01,  8.30772460e+01,  9.65347706e+01,\n",
              "         -2.78896255e+01, -1.32823805e+02,  9.69538528e+01,\n",
              "          9.23717905e+01,  1.09578673e+02,  1.21420490e+02,\n",
              "         -4.23382234e+01,  1.26021455e+02,  2.76238388e+01,\n",
              "         -1.90132698e+01,  3.72786623e+01, -6.00182986e+01,\n",
              "         -2.00475869e+01]]),\n",
              " array([[-253.28647991,  229.52754521,  -51.88595931,   -4.33709981,\n",
              "           85.62977517,  100.31479984,  -26.81580583, -167.58507536,\n",
              "          110.39593924,   92.74549026,  129.48491412,  129.03996223,\n",
              "          -49.93431316,  126.81407026,   31.78324886,  -19.93454087,\n",
              "           40.21148314,  -59.54076169,  -22.76765675]]),\n",
              " array([[-278.74831777,  252.60278273,  -50.84050322,   -9.28785339,\n",
              "           87.13607076,  103.66227777,  -24.75696433, -207.92862011,\n",
              "          126.20702958,   91.8913501 ,  152.44997175,  136.22574137,\n",
              "          -56.68087248,  127.41244183,   35.70909945,  -20.75359585,\n",
              "           42.91798525,  -59.0936156 ,  -25.22239164]]),\n",
              " array([[-300.57842826,  273.28942386,  -48.92512752,  -14.76298019,\n",
              "           87.71169682,  106.49195788,  -21.84200716, -254.05466294,\n",
              "          145.06594001,   89.88567122,  177.93512211,  142.90458251,\n",
              "          -62.37372295,  127.85002717,   39.33802851,  -21.51821402,\n",
              "           45.38300615,  -58.70935   ,  -27.3951113 ]]),\n",
              " array([[-318.24284399,  290.80603239,  -46.37536207,  -20.45996312,\n",
              "           87.53510543,  108.73724416,  -18.2294366 , -305.90680906,\n",
              "          167.85486215,   86.9819711 ,  204.96032148,  148.876408  ,\n",
              "          -66.83618476,  128.15138384,   42.63991686,  -22.27322941,\n",
              "           47.61106091,  -58.40388903,  -29.29036784]]),\n",
              " array([[-331.56836914,  304.64812321,  -43.44390147,  -26.02612993,\n",
              "           86.82183777,  110.35412421,  -14.09043257, -363.13089236,\n",
              "          195.64086042,   83.6464369 ,  232.13188302,  153.70845227,\n",
              "          -69.91143735,  128.33566282,   45.61041453,  -23.053558  ,\n",
              "           49.61913846,  -58.17946639,  -30.92685653]]),\n",
              " array([[-340.69338807,  314.58652192,  -40.38238878,  -31.10226343,\n",
              "           85.80613891,  111.32148891,   -9.59537596, -425.09553041,\n",
              "          229.62487513,   80.55094678,  257.75748943,  156.68175315,\n",
              "          -71.46003796,  128.41965083,   48.26193611,  -23.88108493,\n",
              "           51.43050054,  -58.02783768,  -32.33123385]])]"
            ]
          },
          "metadata": {
            "tags": []
          },
          "execution_count": 24
        }
      ]
    },
    {
      "cell_type": "code",
      "metadata": {
        "id": "9Xj_5FpZ5z_c",
        "colab_type": "code",
        "colab": {
          "base_uri": "https://localhost:8080/",
          "height": 647
        },
        "outputId": "7927ec23-5ad0-4683-a4e5-b8998ba3e887"
      },
      "source": [
        "ax = plt.gca()\n",
        "ax.plot(alphas, coeffs)\n",
        "ax.set_xscale('log')\n",
        "plt.axis('tight')\n",
        "plt.xlabel('Alpha Parameter')\n",
        "plt.ylabel('Weights')\n",
        "plt.suptitle(\"Visualization of Coefficient Trajectories\", fontsize=10)"
      ],
      "execution_count": 28,
      "outputs": [
        {
          "output_type": "error",
          "ename": "ValueError",
          "evalue": "ignored",
          "traceback": [
            "\u001b[0;31m---------------------------------------------------------------------------\u001b[0m",
            "\u001b[0;31mValueError\u001b[0m                                Traceback (most recent call last)",
            "\u001b[0;32m<ipython-input-28-1ef4a0962f2d>\u001b[0m in \u001b[0;36m<module>\u001b[0;34m()\u001b[0m\n\u001b[1;32m      1\u001b[0m \u001b[0max\u001b[0m \u001b[0;34m=\u001b[0m \u001b[0mplt\u001b[0m\u001b[0;34m.\u001b[0m\u001b[0mgca\u001b[0m\u001b[0;34m(\u001b[0m\u001b[0;34m)\u001b[0m\u001b[0;34m\u001b[0m\u001b[0;34m\u001b[0m\u001b[0m\n\u001b[0;32m----> 2\u001b[0;31m \u001b[0max\u001b[0m\u001b[0;34m.\u001b[0m\u001b[0mplot\u001b[0m\u001b[0;34m(\u001b[0m\u001b[0malphas\u001b[0m\u001b[0;34m,\u001b[0m \u001b[0mcoeffs\u001b[0m\u001b[0;34m)\u001b[0m\u001b[0;34m\u001b[0m\u001b[0;34m\u001b[0m\u001b[0m\n\u001b[0m\u001b[1;32m      3\u001b[0m \u001b[0max\u001b[0m\u001b[0;34m.\u001b[0m\u001b[0mset_xscale\u001b[0m\u001b[0;34m(\u001b[0m\u001b[0;34m'log'\u001b[0m\u001b[0;34m)\u001b[0m\u001b[0;34m\u001b[0m\u001b[0;34m\u001b[0m\u001b[0m\n\u001b[1;32m      4\u001b[0m \u001b[0mplt\u001b[0m\u001b[0;34m.\u001b[0m\u001b[0maxis\u001b[0m\u001b[0;34m(\u001b[0m\u001b[0;34m'tight'\u001b[0m\u001b[0;34m)\u001b[0m\u001b[0;34m\u001b[0m\u001b[0;34m\u001b[0m\u001b[0m\n\u001b[1;32m      5\u001b[0m \u001b[0mplt\u001b[0m\u001b[0;34m.\u001b[0m\u001b[0mxlabel\u001b[0m\u001b[0;34m(\u001b[0m\u001b[0;34m'Alpha Parameter'\u001b[0m\u001b[0;34m)\u001b[0m\u001b[0;34m\u001b[0m\u001b[0;34m\u001b[0m\u001b[0m\n",
            "\u001b[0;32m/usr/local/lib/python3.6/dist-packages/matplotlib/__init__.py\u001b[0m in \u001b[0;36minner\u001b[0;34m(ax, data, *args, **kwargs)\u001b[0m\n\u001b[1;32m   1808\u001b[0m                         \u001b[0;34m\"the Matplotlib list!)\"\u001b[0m \u001b[0;34m%\u001b[0m \u001b[0;34m(\u001b[0m\u001b[0mlabel_namer\u001b[0m\u001b[0;34m,\u001b[0m \u001b[0mfunc\u001b[0m\u001b[0;34m.\u001b[0m\u001b[0m__name__\u001b[0m\u001b[0;34m)\u001b[0m\u001b[0;34m,\u001b[0m\u001b[0;34m\u001b[0m\u001b[0;34m\u001b[0m\u001b[0m\n\u001b[1;32m   1809\u001b[0m                         RuntimeWarning, stacklevel=2)\n\u001b[0;32m-> 1810\u001b[0;31m             \u001b[0;32mreturn\u001b[0m \u001b[0mfunc\u001b[0m\u001b[0;34m(\u001b[0m\u001b[0max\u001b[0m\u001b[0;34m,\u001b[0m \u001b[0;34m*\u001b[0m\u001b[0margs\u001b[0m\u001b[0;34m,\u001b[0m \u001b[0;34m**\u001b[0m\u001b[0mkwargs\u001b[0m\u001b[0;34m)\u001b[0m\u001b[0;34m\u001b[0m\u001b[0;34m\u001b[0m\u001b[0m\n\u001b[0m\u001b[1;32m   1811\u001b[0m \u001b[0;34m\u001b[0m\u001b[0m\n\u001b[1;32m   1812\u001b[0m         inner.__doc__ = _add_data_doc(inner.__doc__,\n",
            "\u001b[0;32m/usr/local/lib/python3.6/dist-packages/matplotlib/axes/_axes.py\u001b[0m in \u001b[0;36mplot\u001b[0;34m(self, scalex, scaley, *args, **kwargs)\u001b[0m\n\u001b[1;32m   1609\u001b[0m         \u001b[0mkwargs\u001b[0m \u001b[0;34m=\u001b[0m \u001b[0mcbook\u001b[0m\u001b[0;34m.\u001b[0m\u001b[0mnormalize_kwargs\u001b[0m\u001b[0;34m(\u001b[0m\u001b[0mkwargs\u001b[0m\u001b[0;34m,\u001b[0m \u001b[0mmlines\u001b[0m\u001b[0;34m.\u001b[0m\u001b[0mLine2D\u001b[0m\u001b[0;34m.\u001b[0m\u001b[0m_alias_map\u001b[0m\u001b[0;34m)\u001b[0m\u001b[0;34m\u001b[0m\u001b[0;34m\u001b[0m\u001b[0m\n\u001b[1;32m   1610\u001b[0m \u001b[0;34m\u001b[0m\u001b[0m\n\u001b[0;32m-> 1611\u001b[0;31m         \u001b[0;32mfor\u001b[0m \u001b[0mline\u001b[0m \u001b[0;32min\u001b[0m \u001b[0mself\u001b[0m\u001b[0;34m.\u001b[0m\u001b[0m_get_lines\u001b[0m\u001b[0;34m(\u001b[0m\u001b[0;34m*\u001b[0m\u001b[0margs\u001b[0m\u001b[0;34m,\u001b[0m \u001b[0;34m**\u001b[0m\u001b[0mkwargs\u001b[0m\u001b[0;34m)\u001b[0m\u001b[0;34m:\u001b[0m\u001b[0;34m\u001b[0m\u001b[0;34m\u001b[0m\u001b[0m\n\u001b[0m\u001b[1;32m   1612\u001b[0m             \u001b[0mself\u001b[0m\u001b[0;34m.\u001b[0m\u001b[0madd_line\u001b[0m\u001b[0;34m(\u001b[0m\u001b[0mline\u001b[0m\u001b[0;34m)\u001b[0m\u001b[0;34m\u001b[0m\u001b[0;34m\u001b[0m\u001b[0m\n\u001b[1;32m   1613\u001b[0m             \u001b[0mlines\u001b[0m\u001b[0;34m.\u001b[0m\u001b[0mappend\u001b[0m\u001b[0;34m(\u001b[0m\u001b[0mline\u001b[0m\u001b[0;34m)\u001b[0m\u001b[0;34m\u001b[0m\u001b[0;34m\u001b[0m\u001b[0m\n",
            "\u001b[0;32m/usr/local/lib/python3.6/dist-packages/matplotlib/axes/_base.py\u001b[0m in \u001b[0;36m_grab_next_args\u001b[0;34m(self, *args, **kwargs)\u001b[0m\n\u001b[1;32m    391\u001b[0m                 \u001b[0mthis\u001b[0m \u001b[0;34m+=\u001b[0m \u001b[0margs\u001b[0m\u001b[0;34m[\u001b[0m\u001b[0;36m0\u001b[0m\u001b[0;34m]\u001b[0m\u001b[0;34m,\u001b[0m\u001b[0;34m\u001b[0m\u001b[0;34m\u001b[0m\u001b[0m\n\u001b[1;32m    392\u001b[0m                 \u001b[0margs\u001b[0m \u001b[0;34m=\u001b[0m \u001b[0margs\u001b[0m\u001b[0;34m[\u001b[0m\u001b[0;36m1\u001b[0m\u001b[0;34m:\u001b[0m\u001b[0;34m]\u001b[0m\u001b[0;34m\u001b[0m\u001b[0;34m\u001b[0m\u001b[0m\n\u001b[0;32m--> 393\u001b[0;31m             \u001b[0;32myield\u001b[0m \u001b[0;32mfrom\u001b[0m \u001b[0mself\u001b[0m\u001b[0;34m.\u001b[0m\u001b[0m_plot_args\u001b[0m\u001b[0;34m(\u001b[0m\u001b[0mthis\u001b[0m\u001b[0;34m,\u001b[0m \u001b[0mkwargs\u001b[0m\u001b[0;34m)\u001b[0m\u001b[0;34m\u001b[0m\u001b[0;34m\u001b[0m\u001b[0m\n\u001b[0m\u001b[1;32m    394\u001b[0m \u001b[0;34m\u001b[0m\u001b[0m\n\u001b[1;32m    395\u001b[0m \u001b[0;34m\u001b[0m\u001b[0m\n",
            "\u001b[0;32m/usr/local/lib/python3.6/dist-packages/matplotlib/axes/_base.py\u001b[0m in \u001b[0;36m_plot_args\u001b[0;34m(self, tup, kwargs)\u001b[0m\n\u001b[1;32m    368\u001b[0m             \u001b[0mx\u001b[0m\u001b[0;34m,\u001b[0m \u001b[0my\u001b[0m \u001b[0;34m=\u001b[0m \u001b[0mindex_of\u001b[0m\u001b[0;34m(\u001b[0m\u001b[0mtup\u001b[0m\u001b[0;34m[\u001b[0m\u001b[0;34m-\u001b[0m\u001b[0;36m1\u001b[0m\u001b[0;34m]\u001b[0m\u001b[0;34m)\u001b[0m\u001b[0;34m\u001b[0m\u001b[0;34m\u001b[0m\u001b[0m\n\u001b[1;32m    369\u001b[0m \u001b[0;34m\u001b[0m\u001b[0m\n\u001b[0;32m--> 370\u001b[0;31m         \u001b[0mx\u001b[0m\u001b[0;34m,\u001b[0m \u001b[0my\u001b[0m \u001b[0;34m=\u001b[0m \u001b[0mself\u001b[0m\u001b[0;34m.\u001b[0m\u001b[0m_xy_from_xy\u001b[0m\u001b[0;34m(\u001b[0m\u001b[0mx\u001b[0m\u001b[0;34m,\u001b[0m \u001b[0my\u001b[0m\u001b[0;34m)\u001b[0m\u001b[0;34m\u001b[0m\u001b[0;34m\u001b[0m\u001b[0m\n\u001b[0m\u001b[1;32m    371\u001b[0m \u001b[0;34m\u001b[0m\u001b[0m\n\u001b[1;32m    372\u001b[0m         \u001b[0;32mif\u001b[0m \u001b[0mself\u001b[0m\u001b[0;34m.\u001b[0m\u001b[0mcommand\u001b[0m \u001b[0;34m==\u001b[0m \u001b[0;34m'plot'\u001b[0m\u001b[0;34m:\u001b[0m\u001b[0;34m\u001b[0m\u001b[0;34m\u001b[0m\u001b[0m\n",
            "\u001b[0;32m/usr/local/lib/python3.6/dist-packages/matplotlib/axes/_base.py\u001b[0m in \u001b[0;36m_xy_from_xy\u001b[0;34m(self, x, y)\u001b[0m\n\u001b[1;32m    232\u001b[0m         \u001b[0;32mif\u001b[0m \u001b[0mx\u001b[0m\u001b[0;34m.\u001b[0m\u001b[0mndim\u001b[0m \u001b[0;34m>\u001b[0m \u001b[0;36m2\u001b[0m \u001b[0;32mor\u001b[0m \u001b[0my\u001b[0m\u001b[0;34m.\u001b[0m\u001b[0mndim\u001b[0m \u001b[0;34m>\u001b[0m \u001b[0;36m2\u001b[0m\u001b[0;34m:\u001b[0m\u001b[0;34m\u001b[0m\u001b[0;34m\u001b[0m\u001b[0m\n\u001b[1;32m    233\u001b[0m             raise ValueError(\"x and y can be no greater than 2-D, but have \"\n\u001b[0;32m--> 234\u001b[0;31m                              \"shapes {} and {}\".format(x.shape, y.shape))\n\u001b[0m\u001b[1;32m    235\u001b[0m \u001b[0;34m\u001b[0m\u001b[0m\n\u001b[1;32m    236\u001b[0m         \u001b[0;32mif\u001b[0m \u001b[0mx\u001b[0m\u001b[0;34m.\u001b[0m\u001b[0mndim\u001b[0m \u001b[0;34m==\u001b[0m \u001b[0;36m1\u001b[0m\u001b[0;34m:\u001b[0m\u001b[0;34m\u001b[0m\u001b[0;34m\u001b[0m\u001b[0m\n",
            "\u001b[0;31mValueError\u001b[0m: x and y can be no greater than 2-D, but have shapes (100,) and (100, 1, 19)"
          ]
        },
        {
          "output_type": "display_data",
          "data": {
            "image/png": "[encoded data removed]",
            "text/plain": [
              "<Figure size 432x288 with 1 Axes>"
            ]
          },
          "metadata": {
            "tags": []
          }
        }
      ]
    },
    {
      "cell_type": "code",
      "metadata": {
        "id": "j89bgp6nHvoo",
        "colab_type": "code",
        "colab": {}
      },
      "source": [
        "# Split data into training and test sets\n",
        "X_train, X_test , y_train, y_test = train_test_split(X, y, test_size=0.5, random_state=1)"
      ],
      "execution_count": 0,
      "outputs": []
    },
    {
      "cell_type": "code",
      "metadata": {
        "id": "I1gHwmLiHjES",
        "colab_type": "code",
        "colab": {
          "base_uri": "https://localhost:8080/",
          "height": 34
        },
        "outputId": "8cf76cf8-6bcf-43ee-a9fd-f5689cf7d2eb"
      },
      "source": [
        "ridgecv = RidgeCV(alphas = alphas, scoring = 'neg_mean_squared_error', normalize = True)\n",
        "ridgecv.fit(X_train, y_train)\n",
        "ridgecv.alpha_"
      ],
      "execution_count": 30,
      "outputs": [
        {
          "output_type": "execute_result",
          "data": {
            "text/plain": [
              "0.5748784976988678"
            ]
          },
          "metadata": {
            "tags": []
          },
          "execution_count": 30
        }
      ]
    },
    {
      "cell_type": "markdown",
      "metadata": {
        "id": "DTiJGgfsIqr9",
        "colab_type": "text"
      },
      "source": [
        "Alpha value of 0.575 results in the smallest cross-validation error when using Ridge Regression"
      ]
    },
    {
      "cell_type": "code",
      "metadata": {
        "id": "WmWXAfD6IMJT",
        "colab_type": "code",
        "colab": {
          "base_uri": "https://localhost:8080/",
          "height": 34
        },
        "outputId": "0e195af7-8dc0-49da-9d49-9a829a415f38"
      },
      "source": [
        "ridgecv = Ridge(alpha = ridgecv.alpha_, normalize = True)\n",
        "ridgecv.fit(X_train, y_train)\n",
        "mean_squared_error(y_test, ridgecv.predict(X_test))"
      ],
      "execution_count": 32,
      "outputs": [
        {
          "output_type": "execute_result",
          "data": {
            "text/plain": [
              "99825.6489629273"
            ]
          },
          "metadata": {
            "tags": []
          },
          "execution_count": 32
        }
      ]
    },
    {
      "cell_type": "markdown",
      "metadata": {
        "id": "kpy-rsvRC7if",
        "colab_type": "text"
      },
      "source": [
        "Unlike with lasso, Ridge Regression does not reduce any of our coefficients to zero as it does not perform variable selection."
      ]
    },
    {
      "cell_type": "markdown",
      "metadata": {
        "id": "LI4Qt0DgDZQi",
        "colab_type": "text"
      },
      "source": [
        "# **2. Bias-Variance Tradeoff** \n",
        "Explain in your own words the bias-variance tradeoff. What role does regularization play in this tradeoff? Make reference to your findings in number (1) to describe models of high/low bias and variance."
      ]
    },
    {
      "cell_type": "markdown",
      "metadata": {
        "id": "SSe4DkCdEDa0",
        "colab_type": "text"
      },
      "source": [
        "> **Bias** refers to how much our predictions vary from actuals, based on the amount of assumpations that are made about the form of the model. If we have higher bias, we can learn faster, but the model is less flexible and risks lower predictive power. \n",
        "\n",
        "> Ridge Regression is an extension of Linear Regression, so it tends to have high bias. We see this in the way that Ridge Regression does not force any of our coefficients to zero - we are less flexible and keep all of the variables in Part 1.\n",
        "\n",
        "\n",
        "\n"
      ]
    },
    {
      "cell_type": "markdown",
      "metadata": {
        "id": "OpmAuT4xGNhp",
        "colab_type": "text"
      },
      "source": [
        "> **Variance** refers to variability between our predictions, based on how much the model changes if given different training data. Because we want the model to pick up on actual trends, and not just variation within training data, we want to minimize variance.\n",
        "\n",
        "> Lasso tends to have higher variance and results differ more based on what training data is used. However, as we see in Part 1, it results in better predictions."
      ]
    },
    {
      "cell_type": "markdown",
      "metadata": {
        "id": "wXOT-SFSGPyM",
        "colab_type": "text"
      },
      "source": [
        "> Generally, as model complexity increases, we tend towards overfitting the data, resulting in lower bias and higher variance."
      ]
    },
    {
      "cell_type": "code",
      "metadata": {
        "id": "TbqIp48GB1p3",
        "colab_type": "code",
        "colab": {}
      },
      "source": [
        ""
      ],
      "execution_count": 0,
      "outputs": []
    }
  ]
}