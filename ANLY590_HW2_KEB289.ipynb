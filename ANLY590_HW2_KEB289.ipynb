{
  "nbformat": 4,
  "nbformat_minor": 0,
  "metadata": {
    "colab": {
      "name": "ANLY590 HW2 KEB289",
      "provenance": [],
      "collapsed_sections": []
    },
    "kernelspec": {
      "name": "python3",
      "display_name": "Python 3"
    }
  },
  "cells": [
    {
      "cell_type": "markdown",
      "metadata": {
        "id": "XduHJfDzVv7B",
        "colab_type": "text"
      },
      "source": [
        "---\n",
        "# Homework #2\n",
        "##ANLY590 - Neural Nets & Deep Learning\n",
        "###Kate Bosshart - KEB289@Georgetown.edu - due October 27, 2019    \n",
        "---"
      ]
    },
    {
      "cell_type": "code",
      "metadata": {
        "id": "6w-jT2Xjv8fc",
        "colab_type": "code",
        "colab": {
          "base_uri": "https://localhost:8080/",
          "height": 80
        },
        "outputId": "179a273e-05c6-417e-ac08-82e102e860c8"
      },
      "source": [
        "from IPython.display import Math, HTML, SVG\n",
        "\n",
        "import numpy as np\n",
        "from __future__ import division\n",
        "import random\n",
        "from time import time\n",
        "\n",
        "import matplotlib.pyplot as plt\n",
        "%matplotlib inline\n",
        "\n",
        "import tensorflow as tf\n",
        "\n",
        "from keras import Sequential\n",
        "from keras.layers import Input, Dense, Dropout\n",
        "from keras.models import Model\n",
        "from keras.utils import plot_model\n",
        "from keras.utils.vis_utils import model_to_dot\n",
        "from keras.optimizers import RMSprop\n",
        "\n",
        "import keras.backend as K\n",
        "\n",
        "from mpl_toolkits import mplot3d\n"
      ],
      "execution_count": 2,
      "outputs": [
        {
          "output_type": "display_data",
          "data": {
            "text/html": [
              "<p style=\"color: red;\">\n",
              "The default version of TensorFlow in Colab will soon switch to TensorFlow 2.x.<br>\n",
              "We recommend you <a href=\"https://www.tensorflow.org/guide/migrate\" target=\"_blank\">upgrade</a> now \n",
              "or ensure your notebook will continue to use TensorFlow 1.x via the <code>%tensorflow_version 1.x</code> magic:\n",
              "<a href=\"https://colab.research.google.com/notebooks/tensorflow_version.ipynb\" target=\"_blank\">more info</a>.</p>\n"
            ],
            "text/plain": [
              "<IPython.core.display.HTML object>"
            ]
          },
          "metadata": {
            "tags": []
          }
        },
        {
          "output_type": "stream",
          "text": [
            "Using TensorFlow backend.\n"
          ],
          "name": "stderr"
        }
      ]
    },
    {
      "cell_type": "code",
      "metadata": {
        "id": "yxrxwM-tGjEz",
        "colab_type": "code",
        "colab": {}
      },
      "source": [
        "#######################\n",
        "#   Helper functions  #\n",
        "#######################\n",
        "# Linear activation\n",
        "def a(x,w,b):\n",
        "    a_out = x.dot(w) + b\n",
        "    return a_out\n",
        "\n",
        "# Sigmoid function\n",
        "def sigmoid(z):\n",
        "    s = 1/(1+np.exp(-z))\n",
        "    return s\n",
        "\n",
        "# Logistic unit\n",
        "def logistic(x,w,b):\n",
        "    s = sigmoid(a(x,w,b))\n",
        "    y = np.round(s)\n",
        "    return np.array([y,s]).T\n",
        "  \n",
        "# ReLu function\n",
        "def ReLU(x):\n",
        "    return x * (x > 0)\n",
        "def dReLU(x):\n",
        "    return 1. * (x > 0)"
      ],
      "execution_count": 0,
      "outputs": []
    },
    {
      "cell_type": "markdown",
      "metadata": {
        "id": "pEe1IAJ0TEKQ",
        "colab_type": "text"
      },
      "source": [
        "\n",
        "\n",
        "---\n",
        "\n"
      ]
    },
    {
      "cell_type": "markdown",
      "metadata": {
        "id": "vKUNpteKWKS4",
        "colab_type": "text"
      },
      "source": [
        "### 1. FEEDFORWARD: BUILDING A RELU NEURAL NETWORK"
      ]
    },
    {
      "cell_type": "markdown",
      "metadata": {
        "id": "Qolr4Q-uWYb4",
        "colab_type": "text"
      },
      "source": [
        " **Consider a rectified linear activation function:**  $$h_j = max(0, a_j)$$"
      ]
    },
    {
      "cell_type": "markdown",
      "metadata": {
        "id": "8jEZ0ofNWYkB",
        "colab_type": "text"
      },
      "source": [
        "**1.1 Draw a network with 2 inputs, 1 hidden layer with 3 hidden units, and 1-class output for binary classification**"
      ]
    },
    {
      "cell_type": "markdown",
      "metadata": {
        "id": "0acqNoSRDXKW",
        "colab_type": "text"
      },
      "source": [
        "https://drive.google.com/open?id=1-xx1Ehy4hQa9CBtzybCkZKlY9OoqQrkb"
      ]
    },
    {
      "cell_type": "markdown",
      "metadata": {
        "id": "BsOCdKSE7ig4",
        "colab_type": "text"
      },
      "source": [
        "*input vector:* $$\\vec{x}_{1x2} = \\begin{bmatrix} x_1 \\\\ x_2\\end{bmatrix}$$\n",
        "\n"
      ]
    },
    {
      "cell_type": "markdown",
      "metadata": {
        "id": "ya51kR1O7mVJ",
        "colab_type": "text"
      },
      "source": [
        "*weights for input to hidden layer:* $$W_{2x3}  = \\begin{bmatrix} w_{11} & w_{12} & w_{13}  \\\\ w_{21} & w_{22} & w_{23} \\end{bmatrix}$$"
      ]
    },
    {
      "cell_type": "markdown",
      "metadata": {
        "id": "S_0tcr7T8wGE",
        "colab_type": "text"
      },
      "source": [
        "*bias for hidden layer:* $$\\vec{b}_{1x3} = \\begin{bmatrix} b_1 \\\\ b_2\\\\ b_3\\end{bmatrix}$$"
      ]
    },
    {
      "cell_type": "markdown",
      "metadata": {
        "id": "1zXQ7CCd9KMG",
        "colab_type": "text"
      },
      "source": [
        "*weights for output to hidden layer:* $$\\vec{v}_{1x3}  =\\begin{bmatrix}v_1 \\\\ v_2 \\\\ v_3\\end{bmatrix}$$"
      ]
    },
    {
      "cell_type": "markdown",
      "metadata": {
        "id": "LnHGDPXj9KdI",
        "colab_type": "text"
      },
      "source": [
        "*bias for output:* $$\\vec{b}_{1x1} = \\begin{bmatrix} b_y\\end{bmatrix}$$"
      ]
    },
    {
      "cell_type": "markdown",
      "metadata": {
        "id": "klPgG-TcZYe3",
        "colab_type": "text"
      },
      "source": [
        "**1.2 Write out the mathematical equation for the output of this network (feel free to break the input-output relationship into multiple equations).**\n"
      ]
    },
    {
      "cell_type": "markdown",
      "metadata": {
        "id": "b58zGIcYwuIq",
        "colab_type": "text"
      },
      "source": [
        "\n",
        "$$ \\hat{y_i}(x_1, x_2) = \\sigma ( v_1 h_1 + v_2 h_2 + v_3h_3 + b_y )$$\n",
        "\n",
        "\n",
        "$$= \\sigma ( v_1 f(x_1 w_{11}+ x_2 w_{21}+ b_1)+ v_2 f(x_1 w_{12} + x_2 w_{22}+ b_2) + v_3 f(x_1 w_{13} + x_2 w_{23}+ b_3) + b_y )$$\n",
        "\n",
        "\n",
        "where sigma is the sigmoid function and f is the rectified linear activation function\n",
        "\n",
        "\n",
        "\n"
      ]
    },
    {
      "cell_type": "markdown",
      "metadata": {
        "id": "TjPYaYZCZYks",
        "colab_type": "text"
      },
      "source": [
        "**1.3 Write out the forward-pass function in python, call it ff_nn__ReLu(…)**"
      ]
    },
    {
      "cell_type": "code",
      "metadata": {
        "id": "0cmv8Y59nSB0",
        "colab_type": "code",
        "colab": {}
      },
      "source": [
        "## Neural net with ReLu activation and binary output\n",
        "\n",
        "def ff_nn__ReLu(x, w, v, b_1, b_2):\n",
        "\n",
        "    # Setting up our output y\n",
        "    num_rows,num_columns = x.shape\n",
        "    y = np.zeros((num_rows))\n",
        "    \n",
        "    for i in range(num_rows):\n",
        "        x_i = x[i,:]\n",
        "        \n",
        "        # Linear activations into hidden units\n",
        "        a1 = x_i[0]*w[0,0] + x_i[1]*w[1,0] + b_1[0]\n",
        "        a2 = x_i[0]*w[0,1] + x_i[1]*w[1,1] + b_1[1]\n",
        "        a3 = x_i[0]*w[0,2] + x_i[1]*w[1,2] + b_1[2]\n",
        "        \n",
        "        # output of hidden units\n",
        "        h_1 = ReLU(a1)\n",
        "        h_2 = ReLU(a2)\n",
        "        h_3 = ReLU(a3)\n",
        "        h = np.array([h_1,h_2,h_3])\n",
        "        \n",
        "        # Output of network\n",
        "        y[i] = sigmoid(h_1*v[0] + h_2*v[1] + h_3*v[2] + b_2)\n",
        "    \n",
        "    return np.array(y)"
      ],
      "execution_count": 0,
      "outputs": []
    },
    {
      "cell_type": "markdown",
      "metadata": {
        "id": "m2iEDbfd03Cd",
        "colab_type": "text"
      },
      "source": [
        "**1.4 Suppose that you have the following set of weight matrices and inputs. What are the class probabilities associated with forward pass of each sample?**"
      ]
    },
    {
      "cell_type": "markdown",
      "metadata": {
        "id": "sKb0ttEMJ3Qa",
        "colab_type": "text"
      },
      "source": [
        "Suppose you have the following weight matricies:\n",
        "\n",
        "$$W^{(1)}  = \\begin{bmatrix} 1 & -1 & 0  \\\\ 0 & 0 & 0.5 \\end{bmatrix}$$"
      ]
    },
    {
      "cell_type": "markdown",
      "metadata": {
        "id": "kaQvyf7cKL2t",
        "colab_type": "text"
      },
      "source": [
        "$${b}^{(1)} = \\begin{bmatrix} 0 & 0 & 1\\end{bmatrix}^{T}$$"
      ]
    },
    {
      "cell_type": "markdown",
      "metadata": {
        "id": "emIXTNAeKMCQ",
        "colab_type": "text"
      },
      "source": [
        "$$V  =\\begin{bmatrix}1 \\\\ 0 \\\\ -1\\end{bmatrix}$$"
      ]
    },
    {
      "cell_type": "markdown",
      "metadata": {
        "id": "ETDB4H8QKop7",
        "colab_type": "text"
      },
      "source": [
        "$$c  =\\begin{bmatrix}1\\end{bmatrix}$$"
      ]
    },
    {
      "cell_type": "markdown",
      "metadata": {
        "id": "q7zk2C_EKzK3",
        "colab_type": "text"
      },
      "source": [
        "and a few inputs: \n",
        "$$ X = \\begin{bmatrix} 1 & -1 \\\\ 0 & -1 \\\\ 0 & 1 \\end{bmatrix}$$"
      ]
    },
    {
      "cell_type": "markdown",
      "metadata": {
        "id": "Xel_uFSkjkVh",
        "colab_type": "text"
      },
      "source": [
        "When applying the weights to our function, we get the following reduced equation where sigma is the sigmoid function and f is the rectified linear activation function: $$\\hat{y_i}(x_1, x_2) =   \\sigma( f(x_1) - f(0.5x_2 + 1) + 1)$$\n",
        "\n"
      ]
    },
    {
      "cell_type": "code",
      "metadata": {
        "id": "WuPzgkMjJDWI",
        "colab_type": "code",
        "colab": {}
      },
      "source": [
        "w = np.array([[1, -1, 0],[0 , 0., 0.5]])\n",
        "v = np.array([1,0,-1])  \n",
        "b_1 = np.array([0,0,1])\n",
        "b_2 = np.array([1])"
      ],
      "execution_count": 0,
      "outputs": []
    },
    {
      "cell_type": "markdown",
      "metadata": {
        "id": "wA7ab_U6ofSr",
        "colab_type": "text"
      },
      "source": [
        "For the first input, (1, -1), we solve as follows:\n",
        "\n",
        "$$\\hat{y_i}(1, -1) =    f(1) - f(0.5*(-1) + 1) + 1$$\n",
        "$$= max(0,1) - max(0, 0.5) + 1$$\n",
        "$$ = 1 - 0.5 + 1$$\n",
        "$$ = 1.5$$\n",
        "\n"
      ]
    },
    {
      "cell_type": "code",
      "metadata": {
        "id": "Y5TZ1n3GqEgQ",
        "colab_type": "code",
        "outputId": "ee60326d-e3ed-4295-cefe-c8d8fac6fd2b",
        "colab": {
          "base_uri": "https://localhost:8080/",
          "height": 34
        }
      },
      "source": [
        "sigmoid(1.5)"
      ],
      "execution_count": 0,
      "outputs": [
        {
          "output_type": "execute_result",
          "data": {
            "text/plain": [
              "0.8175744761936437"
            ]
          },
          "metadata": {
            "tags": []
          },
          "execution_count": 85
        }
      ]
    },
    {
      "cell_type": "code",
      "metadata": {
        "id": "rFOP9JHWKdB3",
        "colab_type": "code",
        "colab": {
          "base_uri": "https://localhost:8080/",
          "height": 34
        },
        "outputId": "a2b66dd7-5a1d-47c5-c4f5-9f6651c941f0"
      },
      "source": [
        "# Alternatively, use our function:\n",
        "\n",
        "#x = np.array([1,-1])\n",
        "num_samples = 1\n",
        "x = np.array([1,-1]).reshape(num_samples,2)\n",
        "x\n",
        "\n",
        "ff_nn__ReLu(x, w, v, b_1, b_2)"
      ],
      "execution_count": 32,
      "outputs": [
        {
          "output_type": "execute_result",
          "data": {
            "text/plain": [
              "array([0.81757448])"
            ]
          },
          "metadata": {
            "tags": []
          },
          "execution_count": 32
        }
      ]
    },
    {
      "cell_type": "markdown",
      "metadata": {
        "id": "zUNRDq5wrJiI",
        "colab_type": "text"
      },
      "source": [
        "For the input (1,-1) the associated class probability is 0.8176 - same answer when we plug into our formula, or when we use our helper functions."
      ]
    },
    {
      "cell_type": "markdown",
      "metadata": {
        "id": "M8pmN2kfpSVz",
        "colab_type": "text"
      },
      "source": [
        "For the second input, (0, -1), we solve as follows: \n",
        "\n",
        "$$\\hat{y_i}(0, -1) =    f(0) - f(0.5*(-1) + 1) + 1$$\n",
        "$$= max(0,0) - max(0, 0.5) + 1$$\n",
        "$$ = - 0.5 + 1$$\n",
        "$$ = 0.5$$\n",
        "\n"
      ]
    },
    {
      "cell_type": "code",
      "metadata": {
        "id": "r_eMwH3HqHCz",
        "colab_type": "code",
        "outputId": "1d6106cc-f1c8-4b6f-cc52-1dc13702dffc",
        "colab": {
          "base_uri": "https://localhost:8080/",
          "height": 34
        }
      },
      "source": [
        "sigmoid(0.5)"
      ],
      "execution_count": 0,
      "outputs": [
        {
          "output_type": "execute_result",
          "data": {
            "text/plain": [
              "0.6224593312018546"
            ]
          },
          "metadata": {
            "tags": []
          },
          "execution_count": 86
        }
      ]
    },
    {
      "cell_type": "code",
      "metadata": {
        "id": "nseZfqs1MEGJ",
        "colab_type": "code",
        "colab": {
          "base_uri": "https://localhost:8080/",
          "height": 34
        },
        "outputId": "1af059fa-c0d3-49d6-f3fb-bb403ab175ca"
      },
      "source": [
        "# Alternatively, use our function:\n",
        "\n",
        "num_samples = 1\n",
        "x = np.array([0,-1]).reshape(num_samples,2)\n",
        "x\n",
        "\n",
        "ff_nn__ReLu(x, w, v, b_1, b_2)"
      ],
      "execution_count": 33,
      "outputs": [
        {
          "output_type": "execute_result",
          "data": {
            "text/plain": [
              "array([0.62245933])"
            ]
          },
          "metadata": {
            "tags": []
          },
          "execution_count": 33
        }
      ]
    },
    {
      "cell_type": "markdown",
      "metadata": {
        "id": "zBDR5I3TrZmm",
        "colab_type": "text"
      },
      "source": [
        "For the input (0,-1) the associated class probability is 0.6225 - same answer when we plug into our formula, or when we use our helper functions."
      ]
    },
    {
      "cell_type": "markdown",
      "metadata": {
        "id": "CT1u_BPYpgBg",
        "colab_type": "text"
      },
      "source": [
        "For the last input, (0, 1), we solve as follows:\n",
        "\n",
        "$$\\hat{y_i}(0, -1) =    f(0) - f(0.5*(1) + 1) + 1$$\n",
        "$$= max(0,0) - max(0, 1.5) + 1$$\n",
        "$$ = - 1.5 + 1$$\n",
        "$$ = -0.5$$"
      ]
    },
    {
      "cell_type": "code",
      "metadata": {
        "id": "KnSqckkoqJla",
        "colab_type": "code",
        "outputId": "3f1563a0-40b2-462a-be96-7933c6974cee",
        "colab": {
          "base_uri": "https://localhost:8080/",
          "height": 34
        }
      },
      "source": [
        "sigmoid(-0.5)"
      ],
      "execution_count": 0,
      "outputs": [
        {
          "output_type": "execute_result",
          "data": {
            "text/plain": [
              "0.3775406687981454"
            ]
          },
          "metadata": {
            "tags": []
          },
          "execution_count": 87
        }
      ]
    },
    {
      "cell_type": "code",
      "metadata": {
        "id": "KLn5O9odMNMZ",
        "colab_type": "code",
        "colab": {
          "base_uri": "https://localhost:8080/",
          "height": 34
        },
        "outputId": "f51d38a2-c887-40a8-99e0-f3502bb706fb"
      },
      "source": [
        "# Alternatively, use our function:\n",
        "\n",
        "num_samples = 1\n",
        "x = np.array([0,1]).reshape(num_samples,2)\n",
        "x\n",
        "\n",
        "ff_nn__ReLu(x, w, v, b_1, b_2)"
      ],
      "execution_count": 34,
      "outputs": [
        {
          "output_type": "execute_result",
          "data": {
            "text/plain": [
              "array([0.37754067])"
            ]
          },
          "metadata": {
            "tags": []
          },
          "execution_count": 34
        }
      ]
    },
    {
      "cell_type": "markdown",
      "metadata": {
        "id": "OcGZjDFvrUp-",
        "colab_type": "text"
      },
      "source": [
        "For the input (0,1) the associated class probability is 0.3775 - same answer when we plug into our formula, or when we use our helper functions."
      ]
    },
    {
      "cell_type": "markdown",
      "metadata": {
        "id": "9zsrlDMCS_vn",
        "colab_type": "text"
      },
      "source": [
        "\n",
        "\n",
        "---\n",
        "\n"
      ]
    },
    {
      "cell_type": "markdown",
      "metadata": {
        "id": "LqsnWeVd1XX2",
        "colab_type": "text"
      },
      "source": [
        "### 2. GRADIENT DESCENT"
      ]
    },
    {
      "cell_type": "markdown",
      "metadata": {
        "id": "tTzE1rYR1a_0",
        "colab_type": "text"
      },
      "source": [
        "Consider a simple non-convex function of two variables:\n",
        "$$f(x,y) = (1-x^{3}) + 100 * (y^{2}-x)^{2}$$"
      ]
    },
    {
      "cell_type": "markdown",
      "metadata": {
        "id": "NkTpn6mR1bIl",
        "colab_type": "text"
      },
      "source": [
        "**2.1 What are the partial derivatives of f with respect to x and y?**"
      ]
    },
    {
      "cell_type": "markdown",
      "metadata": {
        "id": "CHmwcQGHInIt",
        "colab_type": "text"
      },
      "source": [
        "$$d/dx [(1-x^{3}) + 100 * (y^{2}-x)^{2}]$$\n",
        "$$= -3x^{2}+200x - 200 y^{2}$$"
      ]
    },
    {
      "cell_type": "markdown",
      "metadata": {
        "id": "YDBA231fIqMk",
        "colab_type": "text"
      },
      "source": [
        "$$d/dy [(1-x^{3}) + 100 * (y^{2}-x)^{2}]$$\n",
        "$$= 400y (y^{2}-x)$$"
      ]
    },
    {
      "cell_type": "markdown",
      "metadata": {
        "id": "x3ogzynE4cZB",
        "colab_type": "text"
      },
      "source": [
        "**2.2 Create a visualization of the contours of the Rosenbrock function.**"
      ]
    },
    {
      "cell_type": "code",
      "metadata": {
        "id": "SX1ab-Y4Q3hd",
        "colab_type": "code",
        "colab": {}
      },
      "source": [
        "delta = 0.025\n",
        "x = np.arange(-10.0, 10.0, delta)\n",
        "y = np.arange(-10.0, 10.0, delta)\n",
        "X, Y = np.meshgrid(x, y)\n",
        "Z = (1 + x)**3 + 100*(y - x**2)**2"
      ],
      "execution_count": 0,
      "outputs": []
    },
    {
      "cell_type": "code",
      "metadata": {
        "id": "21iZE_URqcLb",
        "colab_type": "code",
        "colab": {}
      },
      "source": [
        "#fig, ax = plt.subplots()\n",
        "#CS = ax.contour(X, Y, Z)"
      ],
      "execution_count": 0,
      "outputs": []
    },
    {
      "cell_type": "markdown",
      "metadata": {
        "id": "elPDRtOg1mOc",
        "colab_type": "text"
      },
      "source": [
        "**2.3 Write a Gradient Descent algorithm for finding the minimum of the function. Visualize your results with a few different learning rates.**"
      ]
    },
    {
      "cell_type": "code",
      "metadata": {
        "id": "lWSLjWMYRQbq",
        "colab_type": "code",
        "colab": {}
      },
      "source": [
        "def grad_f(vector):\n",
        "    x, y = vector\n",
        "    df_dx = -3*(x**2)+200*x - 200*(y**2)\n",
        "    df_dy = 400*y*((y**2)-x)\n",
        "    return np.array([df_dx, df_dy])"
      ],
      "execution_count": 0,
      "outputs": []
    },
    {
      "cell_type": "code",
      "metadata": {
        "id": "BfNCDP3zSVU-",
        "colab_type": "code",
        "colab": {}
      },
      "source": [
        "def grad_descent(starting_point=None, iterations=10, learning_rate=12):\n",
        "    if starting_point:\n",
        "        point = starting_point\n",
        "    else:\n",
        "        point = np.random.uniform(-10,10,size=2)\n",
        "    trajectory = [point]\n",
        "    \n",
        "    for i in range(iterations):\n",
        "        grad = grad_f(point)\n",
        "        point = point - learning_rate * grad\n",
        "        trajectory.append(point)\n",
        "    return np.array(trajectory)"
      ],
      "execution_count": 0,
      "outputs": []
    },
    {
      "cell_type": "code",
      "metadata": {
        "id": "iJXJEJNqSydk",
        "colab_type": "code",
        "colab": {
          "base_uri": "https://localhost:8080/",
          "height": 1000
        },
        "outputId": "68207ce5-8f9d-4d4a-f51d-08dc3ac0fdf6"
      },
      "source": [
        "np.random.seed(10)\n",
        "traj = grad_descent(iterations=50, learning_rate=2)\n",
        "traj\n",
        "\n",
        "#fig, ax = plt.subplots()\n",
        "#CS = ax.contour(X, Y, Z)\n",
        "#x= traj[:,0]\n",
        "#y= traj[:,1]\n",
        "#plt.plot(x,y,'-o')"
      ],
      "execution_count": 63,
      "outputs": [
        {
          "output_type": "stream",
          "text": [
            "/usr/local/lib/python3.6/dist-packages/ipykernel_launcher.py:3: RuntimeWarning: overflow encountered in double_scalars\n",
            "  This is separate from the ipykernel package so we can avoid doing imports until\n",
            "/usr/local/lib/python3.6/dist-packages/ipykernel_launcher.py:4: RuntimeWarning: overflow encountered in double_scalars\n",
            "  after removing the cwd from sys.path.\n",
            "/usr/local/lib/python3.6/dist-packages/ipykernel_launcher.py:3: RuntimeWarning: invalid value encountered in double_scalars\n",
            "  This is separate from the ipykernel package so we can avoid doing imports until\n",
            "/usr/local/lib/python3.6/dist-packages/ipykernel_launcher.py:4: RuntimeWarning: invalid value encountered in double_scalars\n",
            "  after removing the cwd from sys.path.\n"
          ],
          "name": "stderr"
        },
        {
          "output_type": "execute_result",
          "data": {
            "text/plain": [
              "array([[ 5.42641287e+000, -9.58496101e+000],\n",
              "       [ 3.47601281e+004,  6.62848475e+005],\n",
              "       [ 1.75754476e+014, -2.32987562e+020],\n",
              "       [ 2.17132817e+043,  1.01178491e+064],\n",
              "       [ 4.09483486e+130, -8.28618427e+194],\n",
              "       [             inf,              inf],\n",
              "       [             nan,              nan],\n",
              "       [             nan,              nan],\n",
              "       [             nan,              nan],\n",
              "       [             nan,              nan],\n",
              "       [             nan,              nan],\n",
              "       [             nan,              nan],\n",
              "       [             nan,              nan],\n",
              "       [             nan,              nan],\n",
              "       [             nan,              nan],\n",
              "       [             nan,              nan],\n",
              "       [             nan,              nan],\n",
              "       [             nan,              nan],\n",
              "       [             nan,              nan],\n",
              "       [             nan,              nan],\n",
              "       [             nan,              nan],\n",
              "       [             nan,              nan],\n",
              "       [             nan,              nan],\n",
              "       [             nan,              nan],\n",
              "       [             nan,              nan],\n",
              "       [             nan,              nan],\n",
              "       [             nan,              nan],\n",
              "       [             nan,              nan],\n",
              "       [             nan,              nan],\n",
              "       [             nan,              nan],\n",
              "       [             nan,              nan],\n",
              "       [             nan,              nan],\n",
              "       [             nan,              nan],\n",
              "       [             nan,              nan],\n",
              "       [             nan,              nan],\n",
              "       [             nan,              nan],\n",
              "       [             nan,              nan],\n",
              "       [             nan,              nan],\n",
              "       [             nan,              nan],\n",
              "       [             nan,              nan],\n",
              "       [             nan,              nan],\n",
              "       [             nan,              nan],\n",
              "       [             nan,              nan],\n",
              "       [             nan,              nan],\n",
              "       [             nan,              nan],\n",
              "       [             nan,              nan],\n",
              "       [             nan,              nan],\n",
              "       [             nan,              nan],\n",
              "       [             nan,              nan],\n",
              "       [             nan,              nan],\n",
              "       [             nan,              nan]])"
            ]
          },
          "metadata": {
            "tags": []
          },
          "execution_count": 63
        }
      ]
    },
    {
      "cell_type": "markdown",
      "metadata": {
        "id": "3BFvXaXK1qDW",
        "colab_type": "text"
      },
      "source": [
        "**2.4 Write a Gradient Descent With Momentum algorithm for finding the minimum. Visualize your results with a few different settings of the algorthim’s hyperparameters.**"
      ]
    },
    {
      "cell_type": "code",
      "metadata": {
        "id": "6nyrgxvF1tAq",
        "colab_type": "code",
        "colab": {}
      },
      "source": [
        "def grad_descent_with_momentum(starting_point=None, iterations=10, alpha=.9, epsilon=10):\n",
        "    if starting_point:\n",
        "        point = starting_point\n",
        "    else:\n",
        "        point = np.random.uniform(-10,10,size=2)\n",
        "    trajectory = [point]\n",
        "    v = np.zeros(point.size)\n",
        "    \n",
        "    for i in range(iterations):\n",
        "        grad = grad_f(point)\n",
        "        v = alpha*v + epsilon*grad\n",
        "        point = point - v\n",
        "        trajectory.append(point)\n",
        "    return np.array(trajectory)"
      ],
      "execution_count": 0,
      "outputs": []
    },
    {
      "cell_type": "code",
      "metadata": {
        "id": "j7tInS8Zna9W",
        "colab_type": "code",
        "colab": {}
      },
      "source": [
        "np.random.seed(10)\n",
        "traj = grad_descent_with_momentum(iterations=50, learning_rate=2)\n",
        "\n",
        "fig, ax = plt.subplots()\n",
        "CS = ax.contour(X, Y, Z)\n",
        "x= traj[:,0]\n",
        "y= traj[:,1]\n",
        "plt.plot(x,y,'-o')"
      ],
      "execution_count": 0,
      "outputs": []
    },
    {
      "cell_type": "markdown",
      "metadata": {
        "id": "tREHoaoMS79S",
        "colab_type": "text"
      },
      "source": [
        "\n",
        "\n",
        "---\n",
        "\n"
      ]
    },
    {
      "cell_type": "markdown",
      "metadata": {
        "id": "HAQi_WaB162E",
        "colab_type": "text"
      },
      "source": [
        "### 3. BACKPROP"
      ]
    },
    {
      "cell_type": "markdown",
      "metadata": {
        "id": "sbYjDAfI2B7H",
        "colab_type": "text"
      },
      "source": [
        "**3.1 For the same network as in Question 1, derive expressions of the gradient of the Loss function with respect to each of the model parameters.**"
      ]
    },
    {
      "cell_type": "markdown",
      "metadata": {
        "id": "NS8ix-T4UZJi",
        "colab_type": "text"
      },
      "source": [
        "\n",
        "$$ \\hat{y_i}(x_1, x_2) = \\sigma ( v_1 h_1 + v_2 h_2 + v_3h_3 + b_y )$$\n",
        "\n",
        "\n",
        "$$= \\sigma ( v_1 f(x_1 w_{11}+ x_2 w_{21}+ b_1)+ v_2 f(x_1 w_{12} + x_2 w_{22}+ b_2) + v_3 f(x_1 w_{13} + x_2 w_{23}+ b_3) + b_y )$$\n",
        "\n",
        "\n",
        "where sigma is the sigmoid function and f is the rectified linear activation function\n"
      ]
    },
    {
      "cell_type": "markdown",
      "metadata": {
        "id": "eyWBiFDlYJTg",
        "colab_type": "text"
      },
      "source": [
        "For our function, we have 13-dimensional parameter space (13 weights), meaning we will need to calculate 13 partial derivatives:\n",
        "\n",
        "$$ \\theta = \\{{w_{11}, w_{12}, w_{13},w_{21}, w_{22}, w_{23},b_1, b_2, b_3, v_{1}, v_{2}, v_{3}, b_y}\\}$$\n",
        "\n",
        "$$ \\nabla_{\\theta} = \\{{\\frac{dL}{dw_{11}}, \\frac{dL}{dw_{12}}, \\frac{dL}{dw_{13}}, \\frac{dL}{dw_{21}}, \\frac{dL}{dw_{22}}, \\frac{dL}{dw_{23}}, \\frac{dL}{db_1}, \\frac{dL}{db_2}, \\frac{dL}{db_3}, \\frac{dL}{dv_{1}}, \\frac{dL}{dv_{2}}, \\frac{dL}{dv_{3}}, \\frac{dL}{db_y}}\\}$$"
      ]
    },
    {
      "cell_type": "markdown",
      "metadata": {
        "id": "shTRpbVHcQJA",
        "colab_type": "text"
      },
      "source": [
        "We define each of these 16 partial derivatives as follows, "
      ]
    },
    {
      "cell_type": "markdown",
      "metadata": {
        "colab_type": "text",
        "id": "dQ1aTgdNX2mM"
      },
      "source": [
        "Partial Derivatives of the Loss with respect to the weights into the 1st hidden node in the hidden layer are defined as follows, \n",
        "\n",
        "$$ \\frac{dL}{dw_{11}}  = \\frac{dL}{d\\hat{y}} * \\frac{d\\hat{y}}{dout_{h1}} * \\frac{dout_{x1}}{din_{h1}}* \\frac{din_{h1}}{dw_{11}} = -(y_i - \\hat{y}(x_1)) * v_1 * [\\sigma(in_{h1})*(1-\\sigma(in_{h1})] * x_1$$\n",
        "\n",
        "$$ \\frac{dL}{dw_{21}}  = \\frac{dL}{d\\hat{y}} * \\frac{d\\hat{y}}{dout_{h1}} * \\frac{dout_{x2}}{din_{h1}}* \\frac{din_{h1}}{dw_{21}} = -(y_i - \\hat{y}(x_2)) * v_1 * [\\sigma(in_{h1})*(1-\\sigma(in_{h1})] * x_2$$"
      ]
    },
    {
      "cell_type": "markdown",
      "metadata": {
        "colab_type": "text",
        "id": "mmBmTTR9iZmM"
      },
      "source": [
        "Partial Derivatives of the Loss with respect to the weights into the 2nd hidden node in the hidden layer are defined as follows, \n",
        "\n",
        "$$ \\frac{dL}{dw_{12}}  = \\frac{dL}{d\\hat{y}} * \\frac{d\\hat{y}}{dout_{h2}} * \\frac{dout_{x1}}{din_{h2}}* \\frac{din_{h2}}{dw_{12}} = -(y_i - \\hat{y}(x_1)) * v_2 * [\\sigma(in_{h2})*(1-\\sigma(in_{h2})] * x_1$$\n",
        "\n",
        "$$ \\frac{dL}{dw_{22}}  = \\frac{dL}{d\\hat{y}} * \\frac{d\\hat{y}}{dout_{h2}} * \\frac{dout_{x2}}{din_{h2}}* \\frac{din_{h2}}{dw_{22}} = -(y_i - \\hat{y}(x_2)) * v_2 * [\\sigma(in_{h2})*(1-\\sigma(in_{h2})] * x_2$$"
      ]
    },
    {
      "cell_type": "markdown",
      "metadata": {
        "colab_type": "text",
        "id": "nDeiqwgpi3ag"
      },
      "source": [
        "Partial Derivatives of the Loss with respect to the weights into the 3rd hidden node in the hidden layer are defined as follows, \n",
        "\n",
        "$$ \\frac{dL}{dw_{13}}  = \\frac{dL}{d\\hat{y}} * \\frac{d\\hat{y}}{dout_{h3}} * \\frac{dout_{x1}}{din_{h3}}* \\frac{din_{h3}}{dw_{13}} = -(y_i - \\hat{y}(x_1)) * v_3 * [\\sigma(in_{h3})*(1-\\sigma(in_{h3})] * x_1$$\n",
        "\n",
        "$$ \\frac{dL}{dw_{23}}  = \\frac{dL}{d\\hat{y}} * \\frac{d\\hat{y}}{dout_{h3}} * \\frac{dout_{x2}}{din_{h3}}* \\frac{din_{h3}}{dw_{23}} = -(y_i - \\hat{y}(x_2)) * v_3 * [\\sigma(in_{h3})*(1-\\sigma(in_{h3})] * x_2$$"
      ]
    },
    {
      "cell_type": "markdown",
      "metadata": {
        "colab_type": "text",
        "id": "Bqan2BqvV9kP"
      },
      "source": [
        "Partial Derivatives of the Loss with respect to the biases are defined as follows, \n",
        "\n",
        "$$ \\frac{dL}{db_{1}} = \\frac{dL}{d\\hat{y}} * \\frac{d\\hat{y}}{dout_{h1}} * \\frac{dout_{h1}}{din_{h1}}* \\frac{din_{h1}}{db_{1}} $$\n",
        "\n",
        "$$ \\frac{dL}{db_{2}} = \\frac{dL}{d\\hat{y}} * \\frac{d\\hat{y}}{dout_{h2}} * \\frac{dout_{h2}}{din_{h2}}* \\frac{din_{h2}}{db_{2}} $$\n",
        "\n",
        "$$ \\frac{dL}{db_{3}} = \\frac{dL}{d\\hat{y}} * \\frac{d\\hat{y}}{dout_{h3}} * \\frac{dout_{h3}}{din_{h3}}* \\frac{din_{h3}}{db_{3}} $$\n",
        "\n",
        "$$ \\frac{dL}{db_{y}} = \\frac{dL}{d\\hat{y}} * \\frac{d\\hat{y}}{db_{y}} = -e_i $$"
      ]
    },
    {
      "cell_type": "markdown",
      "metadata": {
        "colab_type": "text",
        "id": "D9sUfm3tWes4"
      },
      "source": [
        "Partial Derivatives of the Loss with respect to the outputs of the Hidden Layer are defined as follows, \n",
        "\n",
        "$$ \\frac{dL}{dv_{1}} = \\frac{dL}{d\\hat{y_i}} * out_{h1} = -out_{h1} * (\\frac{y_i}{\\hat{y_i}} - \\frac{1 - y_i}{1 - \\hat{y_i}} ) $$\n",
        "\n",
        "$$ \\frac{dL}{dv_{2}} = \\frac{dL}{d\\hat{y_i}} * out_{h2} = -out_{h2} * (\\frac{y_i}{\\hat{y_i}} - \\frac{1 - y_i}{1 - \\hat{y_i}} ) $$\n",
        "\n",
        "$$ \\frac{dL}{dv_{3}}= \\frac{dL}{d\\hat{y_i}} * out_{h3} = -out_{h3} * (\\frac{y_i}{\\hat{y_i}} - \\frac{1 - y_i}{1 - \\hat{y_i}} ) $$"
      ]
    },
    {
      "cell_type": "markdown",
      "metadata": {
        "id": "aj_wKKHZVznb",
        "colab_type": "text"
      },
      "source": [
        "where we define the following,\n",
        "\n",
        "$$ \\frac{dout_{j}}{din_{j}} = \\frac{d}{dx} f(x)  = \\frac{d}{dx} ReLu(x) = \\left\\{\\begin{array}{l}x when x \\geq 0 \\\\0 otherwise\\end{array}\\right.$$ \n",
        "\n",
        "and, \n",
        "\n",
        "$$ \\frac{din_{j}}{din_{j}} = \\frac{d}{w_k} = x_k  $$\n",
        "\n",
        "and, \n",
        "\n",
        "$$ \\frac{dout_{j}}{dw_{k}} = \\frac{dout_{j}}{din_{j}} \\frac{din_{j}}{dw_{k}} = \\left\\{\\begin{array}{l}0 when x < 0 \\\\x_k otherwise\\end{array}\\right.$$"
      ]
    },
    {
      "cell_type": "markdown",
      "metadata": {
        "id": "_rSkSB902FTa",
        "colab_type": "text"
      },
      "source": [
        "**3.2 Write a function grad_f(...) that takes in a weights vector and returns the gradient of the Loss at that location.**"
      ]
    },
    {
      "cell_type": "code",
      "metadata": {
        "id": "FlSXtPf72LHD",
        "colab_type": "code",
        "colab": {}
      },
      "source": [
        "def grad_f()"
      ],
      "execution_count": 0,
      "outputs": []
    },
    {
      "cell_type": "markdown",
      "metadata": {
        "id": "_9c0n7GF2N3K",
        "colab_type": "text"
      },
      "source": [
        "**3.3 Generate a synthetic dataset like the XOR pattern**"
      ]
    },
    {
      "cell_type": "code",
      "metadata": {
        "id": "dOVBVy_F2Q2v",
        "colab_type": "code",
        "outputId": "3171e6b2-09cb-45ad-a486-058df8027d8d",
        "colab": {
          "base_uri": "https://localhost:8080/",
          "height": 282
        }
      },
      "source": [
        "x = np.random.uniform(low=-2,high=2,size=1000).reshape((500,2))\n",
        "y =np.zeros(500)\n",
        "y[np.logical_and(x[:,0]>0 , x[:,1]>0)]=1\n",
        "y[np.logical_and(x[:,0]<0 , x[:,1]<0)]=1\n",
        "\n",
        "plt.scatter(x[:,0], x[:,1], c=y)"
      ],
      "execution_count": 48,
      "outputs": [
        {
          "output_type": "execute_result",
          "data": {
            "text/plain": [
              "<matplotlib.collections.PathCollection at 0x7fbd70f6dcc0>"
            ]
          },
          "metadata": {
            "tags": []
          },
          "execution_count": 48
        },
        {
          "output_type": "display_data",
          "data": {
            "image/png": "[encoded data removed]",
            "text/plain": [
              "<Figure size 432x288 with 1 Axes>"
            ]
          },
          "metadata": {
            "tags": []
          }
        }
      ]
    },
    {
      "cell_type": "markdown",
      "metadata": {
        "id": "6C9K3_ow2Rbp",
        "colab_type": "text"
      },
      "source": [
        "**3.4 Fit your network using Gradient Descent. Keep track of the total Loss at each iteration and plot the result.**"
      ]
    },
    {
      "cell_type": "code",
      "metadata": {
        "id": "PI6vC8GPmpCW",
        "colab_type": "code",
        "colab": {}
      },
      "source": [
        "def grad_f(vector):\n",
        "    x, y = vector\n",
        "    df_dx = -3*x^{2}+200*x - 200*y^{2}\n",
        "    df_dy = 400*y*(y^{2}-x)\n",
        "    return np.array([df_dx, df_dy])\n",
        "\n",
        "def grad_descent(starting_point=None, iterations=10, learning_rate=12):\n",
        "    if starting_point:\n",
        "        point = starting_point\n",
        "    else:\n",
        "        point = np.random.uniform(-10,10,size=2)\n",
        "    trajectory = [point]\n",
        "    \n",
        "    for i in range(iterations):\n",
        "        grad = grad_f(point)\n",
        "        point = point - learning_rate * grad\n",
        "        trajectory.append(point)\n",
        "    return np.array(trajectory)"
      ],
      "execution_count": 0,
      "outputs": []
    },
    {
      "cell_type": "code",
      "metadata": {
        "id": "upVIg_zKmpK3",
        "colab_type": "code",
        "colab": {}
      },
      "source": [
        "np.random.seed(10)\n",
        "traj = grad_descent(iterations=50, learning_rate=2)\n",
        "\n",
        "fig, ax = plt.subplots()\n",
        "CS = ax.contour(X, Y, Z)\n",
        "x= traj[:,0]\n",
        "y= traj[:,1]\n",
        "plt.plot(x,y,'-o')"
      ],
      "execution_count": 0,
      "outputs": []
    },
    {
      "cell_type": "markdown",
      "metadata": {
        "id": "aq7NdbP52Ul5",
        "colab_type": "text"
      },
      "source": [
        "**3.5 Repeat the exercise above using Momentum. Comment on whether your algorithm seems to converge more efficiently.**"
      ]
    },
    {
      "cell_type": "code",
      "metadata": {
        "id": "rTPqLHWv2YN0",
        "colab_type": "code",
        "colab": {}
      },
      "source": [
        "def grad_descent_with_momentum(starting_point=None, iterations=10, alpha=.9, epsilon=10):\n",
        "    if starting_point:\n",
        "        point = starting_point\n",
        "    else:\n",
        "        point = np.random.uniform(-10,10,size=2)\n",
        "    trajectory = [point]\n",
        "    v = np.zeros(point.size)\n",
        "    \n",
        "    for i in range(iterations):\n",
        "        grad = grad_f(point)\n",
        "        v = alpha*v + epsilon*grad\n",
        "        point = point - v\n",
        "        trajectory.append(point)\n",
        "    return np.array(trajectory)"
      ],
      "execution_count": 0,
      "outputs": []
    },
    {
      "cell_type": "code",
      "metadata": {
        "id": "bxAtqgSIngfx",
        "colab_type": "code",
        "colab": {}
      },
      "source": [
        "np.random.seed(10)\n",
        "traj = grad_descent_with_momentum(iterations=50, learning_rate=2)\n",
        "\n",
        "fig, ax = plt.subplots()\n",
        "CS = ax.contour(X, Y, Z)\n",
        "x= traj[:,0]\n",
        "y= traj[:,1]\n",
        "plt.plot(x,y,'-o')"
      ],
      "execution_count": 0,
      "outputs": []
    },
    {
      "cell_type": "markdown",
      "metadata": {
        "id": "LnjXiWGy2Yw6",
        "colab_type": "text"
      },
      "source": [
        "**3.6 Plot a visualization of the final decision boundary that your model has learned. Overlay the datapoints in this plot.**"
      ]
    },
    {
      "cell_type": "code",
      "metadata": {
        "id": "WeZcPACq2bpT",
        "colab_type": "code",
        "colab": {}
      },
      "source": [
        ""
      ],
      "execution_count": 0,
      "outputs": []
    },
    {
      "cell_type": "markdown",
      "metadata": {
        "id": "2seC-QEUnwlh",
        "colab_type": "text"
      },
      "source": [
        "\n",
        "\n",
        "---\n",
        "\n"
      ]
    }
  ]
}